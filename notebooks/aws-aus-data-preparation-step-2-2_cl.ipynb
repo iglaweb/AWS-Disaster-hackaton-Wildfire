{
 "cells": [
  {
   "cell_type": "markdown",
   "id": "197dbbb9",
   "metadata": {
    "papermill": {
     "duration": 0.025521,
     "end_time": "2022-02-07T20:18:49.249500",
     "exception": false,
     "start_time": "2022-02-07T20:18:49.223979",
     "status": "completed"
    },
    "tags": []
   },
   "source": [
    "# 📚 Import Libraries"
   ]
  },
  {
   "cell_type": "code",
   "execution_count": 1,
   "id": "23e64f2e",
   "metadata": {
    "execution": {
     "iopub.execute_input": "2022-02-07T20:18:49.310259Z",
     "iopub.status.busy": "2022-02-07T20:18:49.309670Z",
     "iopub.status.idle": "2022-02-07T20:18:52.880463Z",
     "shell.execute_reply": "2022-02-07T20:18:52.879736Z",
     "shell.execute_reply.started": "2022-02-07T20:13:10.852902Z"
    },
    "papermill": {
     "duration": 3.603864,
     "end_time": "2022-02-07T20:18:52.880633",
     "exception": false,
     "start_time": "2022-02-07T20:18:49.276769",
     "status": "completed"
    },
    "tags": []
   },
   "outputs": [
    {
     "name": "stderr",
     "output_type": "stream",
     "text": [
      "/opt/conda/lib/python3.7/site-packages/geopandas/_compat.py:115: UserWarning: The Shapely GEOS version (3.9.1-CAPI-1.14.2) is incompatible with the GEOS version PyGEOS was compiled with (3.10.1-CAPI-1.16.0). Conversions between both will be slow.\n",
      "  shapely_geos_version, geos_capi_version_string\n"
     ]
    },
    {
     "data": {
      "text/html": [
       "<style type='text/css'>\n",
       ".datatable table.frame { margin-bottom: 0; }\n",
       ".datatable table.frame thead { border-bottom: none; }\n",
       ".datatable table.frame tr.coltypes td {  color: #FFFFFF;  line-height: 6px;  padding: 0 0.5em;}\n",
       ".datatable .bool    { background: #DDDD99; }\n",
       ".datatable .object  { background: #565656; }\n",
       ".datatable .int     { background: #5D9E5D; }\n",
       ".datatable .float   { background: #4040CC; }\n",
       ".datatable .str     { background: #CC4040; }\n",
       ".datatable .time    { background: #40CC40; }\n",
       ".datatable .row_index {  background: var(--jp-border-color3);  border-right: 1px solid var(--jp-border-color0);  color: var(--jp-ui-font-color3);  font-size: 9px;}\n",
       ".datatable .frame tbody td { text-align: left; }\n",
       ".datatable .frame tr.coltypes .row_index {  background: var(--jp-border-color0);}\n",
       ".datatable th:nth-child(2) { padding-left: 12px; }\n",
       ".datatable .hellipsis {  color: var(--jp-cell-editor-border-color);}\n",
       ".datatable .vellipsis {  background: var(--jp-layout-color0);  color: var(--jp-cell-editor-border-color);}\n",
       ".datatable .na {  color: var(--jp-cell-editor-border-color);  font-size: 80%;}\n",
       ".datatable .sp {  opacity: 0.25;}\n",
       ".datatable .footer { font-size: 9px; }\n",
       ".datatable .frame_dimensions {  background: var(--jp-border-color3);  border-top: 1px solid var(--jp-border-color0);  color: var(--jp-ui-font-color3);  display: inline-block;  opacity: 0.6;  padding: 1px 10px 1px 5px;}\n",
       "</style>\n"
      ],
      "text/plain": [
       "<IPython.core.display.HTML object>"
      ]
     },
     "metadata": {},
     "output_type": "display_data"
    }
   ],
   "source": [
    "%matplotlib inline\n",
    "import pandas as pd\n",
    "import numpy as np\n",
    "from IPython.core.interactiveshell import InteractiveShell\n",
    "import random\n",
    "InteractiveShell.ast_node_interactivity = \"all\"\n",
    "import os\n",
    "from datetime import datetime\n",
    "import matplotlib.pyplot as plt\n",
    "import plotly.express as px\n",
    "import glob\n",
    "from tqdm import tqdm\n",
    "\n",
    "import plotly.figure_factory as ff\n",
    "import plotly.express as px\n",
    "import numpy as np\n",
    "\n",
    "from sklearn.preprocessing import StandardScaler, MinMaxScaler, LabelEncoder\n",
    "from xgboost import XGBClassifier\n",
    "from catboost import CatBoostClassifier\n",
    "from lightgbm import LGBMClassifier\n",
    "import xgboost as xgb\n",
    "\n",
    "from sklearn.metrics import accuracy_score\n",
    "from scipy.stats import mode\n",
    "from sklearn.model_selection import train_test_split\n",
    "from sklearn.metrics import roc_auc_score\n",
    "from sklearn.model_selection import TimeSeriesSplit"
   ]
  },
  {
   "cell_type": "code",
   "execution_count": 2,
   "id": "caa00669",
   "metadata": {
    "execution": {
     "iopub.execute_input": "2022-02-07T20:18:52.937937Z",
     "iopub.status.busy": "2022-02-07T20:18:52.937237Z",
     "iopub.status.idle": "2022-02-07T20:18:52.938660Z",
     "shell.execute_reply": "2022-02-07T20:18:52.939222Z",
     "shell.execute_reply.started": "2022-02-07T20:13:10.864581Z"
    },
    "papermill": {
     "duration": 0.032201,
     "end_time": "2022-02-07T20:18:52.939379",
     "exception": false,
     "start_time": "2022-02-07T20:18:52.907178",
     "status": "completed"
    },
    "tags": []
   },
   "outputs": [],
   "source": [
    "# use your own mapbox token\n",
    "MAPBOX_TOKEN = 'pk.eyJ1IjoiaWdsYXdlYiIsImEiOiJja3picmk5NmsyaDZxMndtenYyOWhvNmtnIn0.Dxi29pChSrUbePq_oZ1rTw'\n",
    "px.set_mapbox_access_token(MAPBOX_TOKEN)"
   ]
  },
  {
   "cell_type": "code",
   "execution_count": 3,
   "id": "4577a073",
   "metadata": {
    "execution": {
     "iopub.execute_input": "2022-02-07T20:18:52.993727Z",
     "iopub.status.busy": "2022-02-07T20:18:52.993116Z",
     "iopub.status.idle": "2022-02-07T20:18:52.995992Z",
     "shell.execute_reply": "2022-02-07T20:18:52.996563Z",
     "shell.execute_reply.started": "2022-02-07T20:13:10.879624Z"
    },
    "papermill": {
     "duration": 0.031577,
     "end_time": "2022-02-07T20:18:52.996712",
     "exception": false,
     "start_time": "2022-02-07T20:18:52.965135",
     "status": "completed"
    },
    "tags": []
   },
   "outputs": [],
   "source": [
    "PRECISION = 1\n",
    "MIN_FIRE_RECORDS = 2"
   ]
  },
  {
   "cell_type": "markdown",
   "id": "d5a4ebb0",
   "metadata": {
    "papermill": {
     "duration": 0.025495,
     "end_time": "2022-02-07T20:18:53.048406",
     "exception": false,
     "start_time": "2022-02-07T20:18:53.022911",
     "status": "completed"
    },
    "tags": []
   },
   "source": [
    "# Trianing period 2013-2020\n",
    "\n",
    "We explored Australia and used aggregation for a baseline prediction model.\n",
    "* Temporal resolution: Monthly\n",
    "* Spatial resolution: 1 Decimal degree ~ 10 km grid\n",
    "* Binary Target: At least two fire readings"
   ]
  },
  {
   "cell_type": "markdown",
   "id": "31064ec6",
   "metadata": {
    "papermill": {
     "duration": 0.025511,
     "end_time": "2022-02-07T20:18:53.099555",
     "exception": false,
     "start_time": "2022-02-07T20:18:53.074044",
     "status": "completed"
    },
    "tags": []
   },
   "source": [
    "## Read australia dataset"
   ]
  },
  {
   "cell_type": "code",
   "execution_count": 4,
   "id": "275e0b0d",
   "metadata": {
    "execution": {
     "iopub.execute_input": "2022-02-07T20:18:53.153988Z",
     "iopub.status.busy": "2022-02-07T20:18:53.153382Z",
     "iopub.status.idle": "2022-02-07T20:19:01.562964Z",
     "shell.execute_reply": "2022-02-07T20:19:01.563447Z",
     "shell.execute_reply.started": "2022-02-07T20:13:11.012572Z"
    },
    "papermill": {
     "duration": 8.438144,
     "end_time": "2022-02-07T20:19:01.563616",
     "exception": false,
     "start_time": "2022-02-07T20:18:53.125472",
     "status": "completed"
    },
    "tags": []
   },
   "outputs": [
    {
     "data": {
      "text/plain": [
       "(5801066, 6)"
      ]
     },
     "execution_count": 4,
     "metadata": {},
     "output_type": "execute_result"
    },
    {
     "data": {
      "text/html": [
       "<div>\n",
       "<style scoped>\n",
       "    .dataframe tbody tr th:only-of-type {\n",
       "        vertical-align: middle;\n",
       "    }\n",
       "\n",
       "    .dataframe tbody tr th {\n",
       "        vertical-align: top;\n",
       "    }\n",
       "\n",
       "    .dataframe thead th {\n",
       "        text-align: right;\n",
       "    }\n",
       "</style>\n",
       "<table border=\"1\" class=\"dataframe\">\n",
       "  <thead>\n",
       "    <tr style=\"text-align: right;\">\n",
       "      <th></th>\n",
       "      <th>latitude</th>\n",
       "      <th>longitude</th>\n",
       "      <th>acq_date</th>\n",
       "      <th>satellite</th>\n",
       "      <th>instrument</th>\n",
       "      <th>confidence</th>\n",
       "    </tr>\n",
       "  </thead>\n",
       "  <tbody>\n",
       "    <tr>\n",
       "      <th>0</th>\n",
       "      <td>-39.98</td>\n",
       "      <td>144.06</td>\n",
       "      <td>2016-11-16</td>\n",
       "      <td>N</td>\n",
       "      <td>VIIRS</td>\n",
       "      <td>50</td>\n",
       "    </tr>\n",
       "    <tr>\n",
       "      <th>1</th>\n",
       "      <td>-39.98</td>\n",
       "      <td>147.96</td>\n",
       "      <td>2016-03-03</td>\n",
       "      <td>N</td>\n",
       "      <td>VIIRS</td>\n",
       "      <td>50</td>\n",
       "    </tr>\n",
       "    <tr>\n",
       "      <th>2</th>\n",
       "      <td>-39.97</td>\n",
       "      <td>147.96</td>\n",
       "      <td>2016-12-07</td>\n",
       "      <td>N</td>\n",
       "      <td>VIIRS</td>\n",
       "      <td>50</td>\n",
       "    </tr>\n",
       "    <tr>\n",
       "      <th>3</th>\n",
       "      <td>-39.97</td>\n",
       "      <td>147.97</td>\n",
       "      <td>2016-12-07</td>\n",
       "      <td>N</td>\n",
       "      <td>VIIRS</td>\n",
       "      <td>50</td>\n",
       "    </tr>\n",
       "    <tr>\n",
       "      <th>4</th>\n",
       "      <td>-39.96</td>\n",
       "      <td>143.88</td>\n",
       "      <td>2016-10-16</td>\n",
       "      <td>N</td>\n",
       "      <td>VIIRS</td>\n",
       "      <td>50</td>\n",
       "    </tr>\n",
       "  </tbody>\n",
       "</table>\n",
       "</div>"
      ],
      "text/plain": [
       "   latitude  longitude   acq_date satellite instrument  confidence\n",
       "0    -39.98     144.06 2016-11-16         N      VIIRS          50\n",
       "1    -39.98     147.96 2016-03-03         N      VIIRS          50\n",
       "2    -39.97     147.96 2016-12-07         N      VIIRS          50\n",
       "3    -39.97     147.97 2016-12-07         N      VIIRS          50\n",
       "4    -39.96     143.88 2016-10-16         N      VIIRS          50"
      ]
     },
     "execution_count": 4,
     "metadata": {},
     "output_type": "execute_result"
    }
   ],
   "source": [
    "# data description\n",
    "# https://earthdata.nasa.gov/earth-observation-data/near-real-time/firms/viirs-i-band-active-fire-data\n",
    "WORK_DIR = './'\n",
    "aus_fires = pd.read_csv(WORK_DIR + '/wildfiredataset/australia_fire_daily.csv', parse_dates=['acq_date'])\n",
    "aus_fires.shape\n",
    "aus_fires.head()"
   ]
  },
  {
   "cell_type": "code",
   "execution_count": 5,
   "id": "30fd81c9",
   "metadata": {
    "execution": {
     "iopub.execute_input": "2022-02-07T20:19:01.620752Z",
     "iopub.status.busy": "2022-02-07T20:19:01.619838Z",
     "iopub.status.idle": "2022-02-07T20:19:02.754958Z",
     "shell.execute_reply": "2022-02-07T20:19:02.755635Z",
     "shell.execute_reply.started": "2022-02-07T20:13:14.671384Z"
    },
    "papermill": {
     "duration": 1.165276,
     "end_time": "2022-02-07T20:19:02.755847",
     "exception": false,
     "start_time": "2022-02-07T20:19:01.590571",
     "status": "completed"
    },
    "tags": []
   },
   "outputs": [
    {
     "name": "stdout",
     "output_type": "stream",
     "text": [
      "Duplicate Rows :\n"
     ]
    },
    {
     "data": {
      "text/plain": [
       "(836879, 3)"
      ]
     },
     "execution_count": 5,
     "metadata": {},
     "output_type": "execute_result"
    }
   ],
   "source": [
    "# Selecting duplicate rows except first \n",
    "# occurrence based on all columns\n",
    "duplicate = aus_fires.drop(columns=['instrument','confidence','satellite'])\n",
    "duplicate = duplicate[duplicate.duplicated()]\n",
    "\n",
    "print(\"Duplicate Rows :\")\n",
    "  \n",
    "# Print the resultant Dataframe\n",
    "duplicate.shape"
   ]
  },
  {
   "cell_type": "code",
   "execution_count": 6,
   "id": "ddc3f9d7",
   "metadata": {
    "execution": {
     "iopub.execute_input": "2022-02-07T20:19:02.813675Z",
     "iopub.status.busy": "2022-02-07T20:19:02.812760Z",
     "iopub.status.idle": "2022-02-07T20:19:04.877339Z",
     "shell.execute_reply": "2022-02-07T20:19:04.876776Z",
     "shell.execute_reply.started": "2022-02-07T20:13:15.722641Z"
    },
    "papermill": {
     "duration": 2.094196,
     "end_time": "2022-02-07T20:19:04.877480",
     "exception": false,
     "start_time": "2022-02-07T20:19:02.783284",
     "status": "completed"
    },
    "tags": []
   },
   "outputs": [
    {
     "data": {
      "text/plain": [
       "(469010, 5)"
      ]
     },
     "execution_count": 6,
     "metadata": {},
     "output_type": "execute_result"
    },
    {
     "data": {
      "text/html": [
       "<div>\n",
       "<style scoped>\n",
       "    .dataframe tbody tr th:only-of-type {\n",
       "        vertical-align: middle;\n",
       "    }\n",
       "\n",
       "    .dataframe tbody tr th {\n",
       "        vertical-align: top;\n",
       "    }\n",
       "\n",
       "    .dataframe thead th {\n",
       "        text-align: right;\n",
       "    }\n",
       "</style>\n",
       "<table border=\"1\" class=\"dataframe\">\n",
       "  <thead>\n",
       "    <tr style=\"text-align: right;\">\n",
       "      <th></th>\n",
       "      <th>latitude</th>\n",
       "      <th>longitude</th>\n",
       "      <th>year</th>\n",
       "      <th>month</th>\n",
       "      <th>fire_cnt</th>\n",
       "    </tr>\n",
       "  </thead>\n",
       "  <tbody>\n",
       "    <tr>\n",
       "      <th>0</th>\n",
       "      <td>-40.0</td>\n",
       "      <td>143.9</td>\n",
       "      <td>2013</td>\n",
       "      <td>12</td>\n",
       "      <td>4</td>\n",
       "    </tr>\n",
       "    <tr>\n",
       "      <th>1</th>\n",
       "      <td>-40.0</td>\n",
       "      <td>143.9</td>\n",
       "      <td>2014</td>\n",
       "      <td>5</td>\n",
       "      <td>2</td>\n",
       "    </tr>\n",
       "    <tr>\n",
       "      <th>2</th>\n",
       "      <td>-40.0</td>\n",
       "      <td>143.9</td>\n",
       "      <td>2015</td>\n",
       "      <td>6</td>\n",
       "      <td>2</td>\n",
       "    </tr>\n",
       "    <tr>\n",
       "      <th>3</th>\n",
       "      <td>-40.0</td>\n",
       "      <td>143.9</td>\n",
       "      <td>2016</td>\n",
       "      <td>10</td>\n",
       "      <td>3</td>\n",
       "    </tr>\n",
       "    <tr>\n",
       "      <th>4</th>\n",
       "      <td>-40.0</td>\n",
       "      <td>143.9</td>\n",
       "      <td>2018</td>\n",
       "      <td>10</td>\n",
       "      <td>1</td>\n",
       "    </tr>\n",
       "  </tbody>\n",
       "</table>\n",
       "</div>"
      ],
      "text/plain": [
       "   latitude  longitude  year  month  fire_cnt\n",
       "0     -40.0      143.9  2013     12         4\n",
       "1     -40.0      143.9  2014      5         2\n",
       "2     -40.0      143.9  2015      6         2\n",
       "3     -40.0      143.9  2016     10         3\n",
       "4     -40.0      143.9  2018     10         1"
      ]
     },
     "execution_count": 6,
     "metadata": {},
     "output_type": "execute_result"
    },
    {
     "data": {
      "text/plain": [
       "latitude     308\n",
       "longitude    412\n",
       "year           9\n",
       "month         12\n",
       "fire_cnt     422\n",
       "dtype: int64"
      ]
     },
     "execution_count": 6,
     "metadata": {},
     "output_type": "execute_result"
    }
   ],
   "source": [
    "aus_fires['year'] = aus_fires.acq_date.dt.year\n",
    "aus_fires['month'] = aus_fires.acq_date.dt.month\n",
    "aus_fires.latitude = aus_fires.latitude.round(PRECISION)\n",
    "aus_fires.longitude = aus_fires.longitude.round(PRECISION)\n",
    "fires = aus_fires.groupby(['latitude', 'longitude', 'year', 'month']).size().reset_index()\n",
    "fires.columns = ['latitude', 'longitude', 'year', 'month', 'fire_cnt']\n",
    "\n",
    "fires.shape\n",
    "fires.head()\n",
    "fires.nunique()"
   ]
  },
  {
   "cell_type": "markdown",
   "id": "dd769371",
   "metadata": {
    "papermill": {
     "duration": 0.028509,
     "end_time": "2022-02-07T20:19:04.935029",
     "exception": false,
     "start_time": "2022-02-07T20:19:04.906520",
     "status": "completed"
    },
    "tags": []
   },
   "source": [
    "# Feature engineering"
   ]
  },
  {
   "cell_type": "code",
   "execution_count": 7,
   "id": "6a08f43f",
   "metadata": {
    "execution": {
     "iopub.execute_input": "2022-02-07T20:19:04.996864Z",
     "iopub.status.busy": "2022-02-07T20:19:04.995914Z",
     "iopub.status.idle": "2022-02-07T20:19:09.479157Z",
     "shell.execute_reply": "2022-02-07T20:19:09.478646Z",
     "shell.execute_reply.started": "2022-02-07T20:13:17.773277Z"
    },
    "papermill": {
     "duration": 4.515953,
     "end_time": "2022-02-07T20:19:09.479321",
     "exception": false,
     "start_time": "2022-02-07T20:19:04.963368",
     "status": "completed"
    },
    "tags": []
   },
   "outputs": [
    {
     "data": {
      "text/html": [
       "<div>\n",
       "<style scoped>\n",
       "    .dataframe tbody tr th:only-of-type {\n",
       "        vertical-align: middle;\n",
       "    }\n",
       "\n",
       "    .dataframe tbody tr th {\n",
       "        vertical-align: top;\n",
       "    }\n",
       "\n",
       "    .dataframe thead th {\n",
       "        text-align: right;\n",
       "    }\n",
       "</style>\n",
       "<table border=\"1\" class=\"dataframe\">\n",
       "  <thead>\n",
       "    <tr style=\"text-align: right;\">\n",
       "      <th></th>\n",
       "      <th>latitude</th>\n",
       "      <th>longitude</th>\n",
       "      <th>one</th>\n",
       "      <th>year</th>\n",
       "      <th>month</th>\n",
       "      <th>fire_cnt</th>\n",
       "    </tr>\n",
       "  </thead>\n",
       "  <tbody>\n",
       "    <tr>\n",
       "      <th>0</th>\n",
       "      <td>-40.0</td>\n",
       "      <td>143.9</td>\n",
       "      <td>1</td>\n",
       "      <td>2013</td>\n",
       "      <td>12</td>\n",
       "      <td>4.0</td>\n",
       "    </tr>\n",
       "    <tr>\n",
       "      <th>1</th>\n",
       "      <td>-40.0</td>\n",
       "      <td>143.9</td>\n",
       "      <td>1</td>\n",
       "      <td>2014</td>\n",
       "      <td>5</td>\n",
       "      <td>2.0</td>\n",
       "    </tr>\n",
       "    <tr>\n",
       "      <th>2</th>\n",
       "      <td>-40.0</td>\n",
       "      <td>143.9</td>\n",
       "      <td>1</td>\n",
       "      <td>2015</td>\n",
       "      <td>6</td>\n",
       "      <td>2.0</td>\n",
       "    </tr>\n",
       "    <tr>\n",
       "      <th>3</th>\n",
       "      <td>-40.0</td>\n",
       "      <td>143.9</td>\n",
       "      <td>1</td>\n",
       "      <td>2016</td>\n",
       "      <td>10</td>\n",
       "      <td>3.0</td>\n",
       "    </tr>\n",
       "    <tr>\n",
       "      <th>4</th>\n",
       "      <td>-40.0</td>\n",
       "      <td>143.9</td>\n",
       "      <td>1</td>\n",
       "      <td>2018</td>\n",
       "      <td>10</td>\n",
       "      <td>1.0</td>\n",
       "    </tr>\n",
       "  </tbody>\n",
       "</table>\n",
       "</div>"
      ],
      "text/plain": [
       "   latitude  longitude  one  year  month  fire_cnt\n",
       "0     -40.0      143.9    1  2013     12       4.0\n",
       "1     -40.0      143.9    1  2014      5       2.0\n",
       "2     -40.0      143.9    1  2015      6       2.0\n",
       "3     -40.0      143.9    1  2016     10       3.0\n",
       "4     -40.0      143.9    1  2018     10       1.0"
      ]
     },
     "execution_count": 7,
     "metadata": {},
     "output_type": "execute_result"
    }
   ],
   "source": [
    "coords = fires[['latitude', 'longitude']].drop_duplicates()\n",
    "times = fires[['year', 'month']].drop_duplicates()\n",
    "coords['one'] = 1\n",
    "times['one'] = 1\n",
    "base = pd.merge(coords, times, how='outer', on='one')\n",
    "history = base.merge(fires, how='left', on= ['latitude', 'longitude', 'year', 'month'])\n",
    "history.head()"
   ]
  },
  {
   "cell_type": "code",
   "execution_count": 8,
   "id": "635ef77f",
   "metadata": {
    "execution": {
     "iopub.execute_input": "2022-02-07T20:19:09.542571Z",
     "iopub.status.busy": "2022-02-07T20:19:09.541938Z",
     "iopub.status.idle": "2022-02-07T20:19:09.917794Z",
     "shell.execute_reply": "2022-02-07T20:19:09.917312Z",
     "shell.execute_reply.started": "2022-02-07T20:13:20.934001Z"
    },
    "papermill": {
     "duration": 0.407961,
     "end_time": "2022-02-07T20:19:09.917939",
     "exception": false,
     "start_time": "2022-02-07T20:19:09.509978",
     "status": "completed"
    },
    "tags": []
   },
   "outputs": [
    {
     "data": {
      "text/plain": [
       "0.0    4691176\n",
       "1.0     123472\n",
       "2.0      62844\n",
       "3.0      39206\n",
       "4.0      28371\n",
       "Name: fire_cnt, dtype: int64"
      ]
     },
     "execution_count": 8,
     "metadata": {},
     "output_type": "execute_result"
    }
   ],
   "source": [
    "history = history.fillna(0)\n",
    "history.fire_cnt.value_counts().head()"
   ]
  },
  {
   "cell_type": "markdown",
   "id": "30db31a8",
   "metadata": {
    "papermill": {
     "duration": 0.029042,
     "end_time": "2022-02-07T20:19:09.975836",
     "exception": false,
     "start_time": "2022-02-07T20:19:09.946794",
     "status": "completed"
    },
    "tags": []
   },
   "source": [
    "#### Target column"
   ]
  },
  {
   "cell_type": "code",
   "execution_count": 9,
   "id": "c64a9c0f",
   "metadata": {
    "execution": {
     "iopub.execute_input": "2022-02-07T20:19:10.039933Z",
     "iopub.status.busy": "2022-02-07T20:19:10.039182Z",
     "iopub.status.idle": "2022-02-07T20:19:10.075722Z",
     "shell.execute_reply": "2022-02-07T20:19:10.075147Z",
     "shell.execute_reply.started": "2022-02-07T20:13:21.269094Z"
    },
    "papermill": {
     "duration": 0.070704,
     "end_time": "2022-02-07T20:19:10.075864",
     "exception": false,
     "start_time": "2022-02-07T20:19:10.005160",
     "status": "completed"
    },
    "tags": []
   },
   "outputs": [],
   "source": [
    "history['fire'] = 1 * (history['fire_cnt'] >= MIN_FIRE_RECORDS)"
   ]
  },
  {
   "cell_type": "code",
   "execution_count": 10,
   "id": "a04c7acd",
   "metadata": {
    "execution": {
     "iopub.execute_input": "2022-02-07T20:19:10.138890Z",
     "iopub.status.busy": "2022-02-07T20:19:10.138255Z",
     "iopub.status.idle": "2022-02-07T20:19:10.214070Z",
     "shell.execute_reply": "2022-02-07T20:19:10.213556Z",
     "shell.execute_reply.started": "2022-02-07T20:13:21.301096Z"
    },
    "papermill": {
     "duration": 0.109437,
     "end_time": "2022-02-07T20:19:10.214200",
     "exception": false,
     "start_time": "2022-02-07T20:19:10.104763",
     "status": "completed"
    },
    "tags": []
   },
   "outputs": [
    {
     "data": {
      "text/plain": [
       "(5160186, 7)"
      ]
     },
     "execution_count": 10,
     "metadata": {},
     "output_type": "execute_result"
    },
    {
     "data": {
      "text/html": [
       "<div>\n",
       "<style scoped>\n",
       "    .dataframe tbody tr th:only-of-type {\n",
       "        vertical-align: middle;\n",
       "    }\n",
       "\n",
       "    .dataframe tbody tr th {\n",
       "        vertical-align: top;\n",
       "    }\n",
       "\n",
       "    .dataframe thead th {\n",
       "        text-align: right;\n",
       "    }\n",
       "</style>\n",
       "<table border=\"1\" class=\"dataframe\">\n",
       "  <thead>\n",
       "    <tr style=\"text-align: right;\">\n",
       "      <th></th>\n",
       "      <th>latitude</th>\n",
       "      <th>longitude</th>\n",
       "      <th>one</th>\n",
       "      <th>year</th>\n",
       "      <th>month</th>\n",
       "      <th>fire_cnt</th>\n",
       "      <th>fire</th>\n",
       "    </tr>\n",
       "  </thead>\n",
       "  <tbody>\n",
       "    <tr>\n",
       "      <th>0</th>\n",
       "      <td>-40.0</td>\n",
       "      <td>143.9</td>\n",
       "      <td>1</td>\n",
       "      <td>2013</td>\n",
       "      <td>12</td>\n",
       "      <td>4.0</td>\n",
       "      <td>1</td>\n",
       "    </tr>\n",
       "    <tr>\n",
       "      <th>1</th>\n",
       "      <td>-40.0</td>\n",
       "      <td>143.9</td>\n",
       "      <td>1</td>\n",
       "      <td>2014</td>\n",
       "      <td>5</td>\n",
       "      <td>2.0</td>\n",
       "      <td>1</td>\n",
       "    </tr>\n",
       "    <tr>\n",
       "      <th>2</th>\n",
       "      <td>-40.0</td>\n",
       "      <td>143.9</td>\n",
       "      <td>1</td>\n",
       "      <td>2015</td>\n",
       "      <td>6</td>\n",
       "      <td>2.0</td>\n",
       "      <td>1</td>\n",
       "    </tr>\n",
       "    <tr>\n",
       "      <th>3</th>\n",
       "      <td>-40.0</td>\n",
       "      <td>143.9</td>\n",
       "      <td>1</td>\n",
       "      <td>2016</td>\n",
       "      <td>10</td>\n",
       "      <td>3.0</td>\n",
       "      <td>1</td>\n",
       "    </tr>\n",
       "    <tr>\n",
       "      <th>4</th>\n",
       "      <td>-40.0</td>\n",
       "      <td>143.9</td>\n",
       "      <td>1</td>\n",
       "      <td>2018</td>\n",
       "      <td>10</td>\n",
       "      <td>1.0</td>\n",
       "      <td>0</td>\n",
       "    </tr>\n",
       "  </tbody>\n",
       "</table>\n",
       "</div>"
      ],
      "text/plain": [
       "   latitude  longitude  one  year  month  fire_cnt  fire\n",
       "0     -40.0      143.9    1  2013     12       4.0     1\n",
       "1     -40.0      143.9    1  2014      5       2.0     1\n",
       "2     -40.0      143.9    1  2015      6       2.0     1\n",
       "3     -40.0      143.9    1  2016     10       3.0     1\n",
       "4     -40.0      143.9    1  2018     10       1.0     0"
      ]
     },
     "execution_count": 10,
     "metadata": {},
     "output_type": "execute_result"
    },
    {
     "data": {
      "text/plain": [
       "latitude      -24.313153\n",
       "longitude     134.851254\n",
       "one             1.000000\n",
       "year         2016.924528\n",
       "month           6.405660\n",
       "fire_cnt        1.124197\n",
       "fire            0.066962\n",
       "dtype: float64"
      ]
     },
     "execution_count": 10,
     "metadata": {},
     "output_type": "execute_result"
    }
   ],
   "source": [
    "history.shape\n",
    "history.head()\n",
    "history.mean()"
   ]
  },
  {
   "cell_type": "markdown",
   "id": "d68c9b4a",
   "metadata": {
    "papermill": {
     "duration": 0.029846,
     "end_time": "2022-02-07T20:19:10.274820",
     "exception": false,
     "start_time": "2022-02-07T20:19:10.244974",
     "status": "completed"
    },
    "tags": []
   },
   "source": [
    "#### Historical fire frequency features"
   ]
  },
  {
   "cell_type": "code",
   "execution_count": 11,
   "id": "1622db13",
   "metadata": {
    "execution": {
     "iopub.execute_input": "2022-02-07T20:19:10.342136Z",
     "iopub.status.busy": "2022-02-07T20:19:10.341426Z",
     "iopub.status.idle": "2022-02-07T20:19:16.412378Z",
     "shell.execute_reply": "2022-02-07T20:19:16.411710Z",
     "shell.execute_reply.started": "2022-02-07T20:13:21.381177Z"
    },
    "papermill": {
     "duration": 6.107108,
     "end_time": "2022-02-07T20:19:16.412556",
     "exception": false,
     "start_time": "2022-02-07T20:19:10.305448",
     "status": "completed"
    },
    "tags": []
   },
   "outputs": [],
   "source": [
    "yearly = history.groupby(\n",
    "    ['latitude', 'longitude', 'year'])[['fire_cnt', 'fire']].mean().reset_index()\n",
    "monthly = history.groupby(\n",
    "    ['latitude', 'longitude', 'year', 'month'])[['fire_cnt', 'fire']].mean().reset_index()"
   ]
  },
  {
   "cell_type": "code",
   "execution_count": 12,
   "id": "49448192",
   "metadata": {
    "execution": {
     "iopub.execute_input": "2022-02-07T20:19:16.486796Z",
     "iopub.status.busy": "2022-02-07T20:19:16.485939Z",
     "iopub.status.idle": "2022-02-07T20:19:16.522196Z",
     "shell.execute_reply": "2022-02-07T20:19:16.521586Z",
     "shell.execute_reply.started": "2022-02-07T20:13:25.312672Z"
    },
    "papermill": {
     "duration": 0.074014,
     "end_time": "2022-02-07T20:19:16.522415",
     "exception": false,
     "start_time": "2022-02-07T20:19:16.448401",
     "status": "completed"
    },
    "tags": []
   },
   "outputs": [
    {
     "data": {
      "text/html": [
       "<div>\n",
       "<style scoped>\n",
       "    .dataframe tbody tr th:only-of-type {\n",
       "        vertical-align: middle;\n",
       "    }\n",
       "\n",
       "    .dataframe tbody tr th {\n",
       "        vertical-align: top;\n",
       "    }\n",
       "\n",
       "    .dataframe thead th {\n",
       "        text-align: right;\n",
       "    }\n",
       "</style>\n",
       "<table border=\"1\" class=\"dataframe\">\n",
       "  <thead>\n",
       "    <tr style=\"text-align: right;\">\n",
       "      <th></th>\n",
       "      <th>latitude</th>\n",
       "      <th>longitude</th>\n",
       "      <th>year</th>\n",
       "      <th>fire_cnt_last_year</th>\n",
       "      <th>fire_last_year</th>\n",
       "    </tr>\n",
       "  </thead>\n",
       "  <tbody>\n",
       "    <tr>\n",
       "      <th>0</th>\n",
       "      <td>-40.0</td>\n",
       "      <td>143.9</td>\n",
       "      <td>2014</td>\n",
       "      <td>0.333333</td>\n",
       "      <td>0.083333</td>\n",
       "    </tr>\n",
       "    <tr>\n",
       "      <th>1</th>\n",
       "      <td>-40.0</td>\n",
       "      <td>143.9</td>\n",
       "      <td>2015</td>\n",
       "      <td>0.166667</td>\n",
       "      <td>0.083333</td>\n",
       "    </tr>\n",
       "    <tr>\n",
       "      <th>2</th>\n",
       "      <td>-40.0</td>\n",
       "      <td>143.9</td>\n",
       "      <td>2016</td>\n",
       "      <td>0.166667</td>\n",
       "      <td>0.083333</td>\n",
       "    </tr>\n",
       "  </tbody>\n",
       "</table>\n",
       "</div>"
      ],
      "text/plain": [
       "   latitude  longitude  year  fire_cnt_last_year  fire_last_year\n",
       "0     -40.0      143.9  2014            0.333333        0.083333\n",
       "1     -40.0      143.9  2015            0.166667        0.083333\n",
       "2     -40.0      143.9  2016            0.166667        0.083333"
      ]
     },
     "execution_count": 12,
     "metadata": {},
     "output_type": "execute_result"
    }
   ],
   "source": [
    "last_year = yearly.copy()\n",
    "last_year.year += 1\n",
    "last_year.columns = ['latitude', 'longitude', 'year', 'fire_cnt_last_year', 'fire_last_year']\n",
    "last_year.head(3)"
   ]
  },
  {
   "cell_type": "code",
   "execution_count": 13,
   "id": "95652415",
   "metadata": {
    "execution": {
     "iopub.execute_input": "2022-02-07T20:19:16.603867Z",
     "iopub.status.busy": "2022-02-07T20:19:16.602734Z",
     "iopub.status.idle": "2022-02-07T20:19:17.059126Z",
     "shell.execute_reply": "2022-02-07T20:19:17.059629Z",
     "shell.execute_reply.started": "2022-02-07T20:13:25.337911Z"
    },
    "papermill": {
     "duration": 0.500293,
     "end_time": "2022-02-07T20:19:17.059807",
     "exception": false,
     "start_time": "2022-02-07T20:19:16.559514",
     "status": "completed"
    },
    "tags": []
   },
   "outputs": [
    {
     "data": {
      "text/html": [
       "<div>\n",
       "<style scoped>\n",
       "    .dataframe tbody tr th:only-of-type {\n",
       "        vertical-align: middle;\n",
       "    }\n",
       "\n",
       "    .dataframe tbody tr th {\n",
       "        vertical-align: top;\n",
       "    }\n",
       "\n",
       "    .dataframe thead th {\n",
       "        text-align: right;\n",
       "    }\n",
       "</style>\n",
       "<table border=\"1\" class=\"dataframe\">\n",
       "  <thead>\n",
       "    <tr style=\"text-align: right;\">\n",
       "      <th></th>\n",
       "      <th>latitude</th>\n",
       "      <th>longitude</th>\n",
       "      <th>year</th>\n",
       "      <th>month</th>\n",
       "      <th>fire_cnt_last_year_same_month</th>\n",
       "      <th>fire_last_year_same_month</th>\n",
       "    </tr>\n",
       "  </thead>\n",
       "  <tbody>\n",
       "    <tr>\n",
       "      <th>0</th>\n",
       "      <td>-40.0</td>\n",
       "      <td>143.9</td>\n",
       "      <td>2014</td>\n",
       "      <td>1</td>\n",
       "      <td>0.0</td>\n",
       "      <td>0.0</td>\n",
       "    </tr>\n",
       "    <tr>\n",
       "      <th>1</th>\n",
       "      <td>-40.0</td>\n",
       "      <td>143.9</td>\n",
       "      <td>2014</td>\n",
       "      <td>2</td>\n",
       "      <td>0.0</td>\n",
       "      <td>0.0</td>\n",
       "    </tr>\n",
       "    <tr>\n",
       "      <th>2</th>\n",
       "      <td>-40.0</td>\n",
       "      <td>143.9</td>\n",
       "      <td>2014</td>\n",
       "      <td>3</td>\n",
       "      <td>0.0</td>\n",
       "      <td>0.0</td>\n",
       "    </tr>\n",
       "  </tbody>\n",
       "</table>\n",
       "</div>"
      ],
      "text/plain": [
       "   latitude  longitude  year  month  fire_cnt_last_year_same_month  \\\n",
       "0     -40.0      143.9  2014      1                            0.0   \n",
       "1     -40.0      143.9  2014      2                            0.0   \n",
       "2     -40.0      143.9  2014      3                            0.0   \n",
       "\n",
       "   fire_last_year_same_month  \n",
       "0                        0.0  \n",
       "1                        0.0  \n",
       "2                        0.0  "
      ]
     },
     "execution_count": 13,
     "metadata": {},
     "output_type": "execute_result"
    }
   ],
   "source": [
    "last_year_month = monthly.copy()\n",
    "last_year_month.year += 1\n",
    "last_year_month.columns = ['latitude', 'longitude', 'year', 'month', 'fire_cnt_last_year_same_month', 'fire_last_year_same_month']\n",
    "last_year_month.head(3)"
   ]
  },
  {
   "cell_type": "code",
   "execution_count": 14,
   "id": "da94c8a7",
   "metadata": {
    "execution": {
     "iopub.execute_input": "2022-02-07T20:19:17.129630Z",
     "iopub.status.busy": "2022-02-07T20:19:17.128933Z",
     "iopub.status.idle": "2022-02-07T20:19:19.600483Z",
     "shell.execute_reply": "2022-02-07T20:19:19.597573Z",
     "shell.execute_reply.started": "2022-02-07T20:13:25.635654Z"
    },
    "papermill": {
     "duration": 2.509172,
     "end_time": "2022-02-07T20:19:19.600717",
     "exception": false,
     "start_time": "2022-02-07T20:19:17.091545",
     "status": "completed"
    },
    "tags": []
   },
   "outputs": [
    {
     "data": {
      "text/html": [
       "<div>\n",
       "<style scoped>\n",
       "    .dataframe tbody tr th:only-of-type {\n",
       "        vertical-align: middle;\n",
       "    }\n",
       "\n",
       "    .dataframe tbody tr th {\n",
       "        vertical-align: top;\n",
       "    }\n",
       "\n",
       "    .dataframe thead th {\n",
       "        text-align: right;\n",
       "    }\n",
       "</style>\n",
       "<table border=\"1\" class=\"dataframe\">\n",
       "  <thead>\n",
       "    <tr style=\"text-align: right;\">\n",
       "      <th></th>\n",
       "      <th>latitude</th>\n",
       "      <th>longitude</th>\n",
       "      <th>year</th>\n",
       "      <th>fire_cnt_before</th>\n",
       "      <th>fire_before</th>\n",
       "    </tr>\n",
       "  </thead>\n",
       "  <tbody>\n",
       "    <tr>\n",
       "      <th>0</th>\n",
       "      <td>-40.0</td>\n",
       "      <td>143.9</td>\n",
       "      <td>2014</td>\n",
       "      <td>0.166667</td>\n",
       "      <td>0.083333</td>\n",
       "    </tr>\n",
       "    <tr>\n",
       "      <th>1</th>\n",
       "      <td>-40.0</td>\n",
       "      <td>143.9</td>\n",
       "      <td>2015</td>\n",
       "      <td>0.166667</td>\n",
       "      <td>0.083333</td>\n",
       "    </tr>\n",
       "    <tr>\n",
       "      <th>2</th>\n",
       "      <td>-40.0</td>\n",
       "      <td>143.9</td>\n",
       "      <td>2016</td>\n",
       "      <td>0.250000</td>\n",
       "      <td>0.083333</td>\n",
       "    </tr>\n",
       "  </tbody>\n",
       "</table>\n",
       "</div>"
      ],
      "text/plain": [
       "   latitude  longitude  year  fire_cnt_before  fire_before\n",
       "0     -40.0      143.9  2014         0.166667     0.083333\n",
       "1     -40.0      143.9  2015         0.166667     0.083333\n",
       "2     -40.0      143.9  2016         0.250000     0.083333"
      ]
     },
     "execution_count": 14,
     "metadata": {},
     "output_type": "execute_result"
    }
   ],
   "source": [
    "past = yearly.copy()\n",
    "past['one'] = 1\n",
    "past = history[['latitude', 'longitude', 'year', 'one']].drop_duplicates().merge(\n",
    "    past, on=['latitude', 'longitude', 'one'])\n",
    "past = past[past.year_x < past.year_y]\n",
    "past = past.groupby(['latitude', 'longitude', 'year_y'])[['fire_cnt', 'fire']].mean().reset_index()\n",
    "past.columns = ['latitude', 'longitude', 'year', 'fire_cnt_before', 'fire_before']\n",
    "past.head(3)"
   ]
  },
  {
   "cell_type": "markdown",
   "id": "399cccfc",
   "metadata": {
    "papermill": {
     "duration": 0.035484,
     "end_time": "2022-02-07T20:19:19.730706",
     "exception": false,
     "start_time": "2022-02-07T20:19:19.695222",
     "status": "completed"
    },
    "tags": []
   },
   "source": [
    "## Collect all features\n",
    "\n",
    "Drop the first year (2013) as we don't have history."
   ]
  },
  {
   "cell_type": "code",
   "execution_count": 15,
   "id": "d465aa75",
   "metadata": {
    "execution": {
     "iopub.execute_input": "2022-02-07T20:19:19.812195Z",
     "iopub.status.busy": "2022-02-07T20:19:19.811500Z",
     "iopub.status.idle": "2022-02-07T20:19:37.850266Z",
     "shell.execute_reply": "2022-02-07T20:19:37.850962Z",
     "shell.execute_reply.started": "2022-02-07T20:13:26.998692Z"
    },
    "papermill": {
     "duration": 18.084643,
     "end_time": "2022-02-07T20:19:37.851428",
     "exception": false,
     "start_time": "2022-02-07T20:19:19.766785",
     "status": "completed"
    },
    "tags": []
   },
   "outputs": [
    {
     "data": {
      "text/html": [
       "<div>\n",
       "<style scoped>\n",
       "    .dataframe tbody tr th:only-of-type {\n",
       "        vertical-align: middle;\n",
       "    }\n",
       "\n",
       "    .dataframe tbody tr th {\n",
       "        vertical-align: top;\n",
       "    }\n",
       "\n",
       "    .dataframe thead th {\n",
       "        text-align: right;\n",
       "    }\n",
       "</style>\n",
       "<table border=\"1\" class=\"dataframe\">\n",
       "  <thead>\n",
       "    <tr style=\"text-align: right;\">\n",
       "      <th></th>\n",
       "      <th>latitude</th>\n",
       "      <th>longitude</th>\n",
       "      <th>year</th>\n",
       "      <th>month</th>\n",
       "      <th>fire_cnt</th>\n",
       "      <th>fire</th>\n",
       "      <th>fire_cnt_before</th>\n",
       "      <th>fire_before</th>\n",
       "      <th>fire_cnt_last_year</th>\n",
       "      <th>fire_last_year</th>\n",
       "      <th>fire_cnt_last_year_same_month</th>\n",
       "      <th>fire_last_year_same_month</th>\n",
       "    </tr>\n",
       "  </thead>\n",
       "  <tbody>\n",
       "    <tr>\n",
       "      <th>0</th>\n",
       "      <td>-40.0</td>\n",
       "      <td>143.9</td>\n",
       "      <td>2013</td>\n",
       "      <td>12</td>\n",
       "      <td>4.0</td>\n",
       "      <td>1</td>\n",
       "      <td>NaN</td>\n",
       "      <td>NaN</td>\n",
       "      <td>NaN</td>\n",
       "      <td>NaN</td>\n",
       "      <td>NaN</td>\n",
       "      <td>NaN</td>\n",
       "    </tr>\n",
       "    <tr>\n",
       "      <th>1</th>\n",
       "      <td>-40.0</td>\n",
       "      <td>143.9</td>\n",
       "      <td>2014</td>\n",
       "      <td>5</td>\n",
       "      <td>2.0</td>\n",
       "      <td>1</td>\n",
       "      <td>0.166667</td>\n",
       "      <td>0.083333</td>\n",
       "      <td>0.333333</td>\n",
       "      <td>0.083333</td>\n",
       "      <td>0.0</td>\n",
       "      <td>0.0</td>\n",
       "    </tr>\n",
       "    <tr>\n",
       "      <th>2</th>\n",
       "      <td>-40.0</td>\n",
       "      <td>143.9</td>\n",
       "      <td>2015</td>\n",
       "      <td>6</td>\n",
       "      <td>2.0</td>\n",
       "      <td>1</td>\n",
       "      <td>0.166667</td>\n",
       "      <td>0.083333</td>\n",
       "      <td>0.166667</td>\n",
       "      <td>0.083333</td>\n",
       "      <td>0.0</td>\n",
       "      <td>0.0</td>\n",
       "    </tr>\n",
       "    <tr>\n",
       "      <th>3</th>\n",
       "      <td>-40.0</td>\n",
       "      <td>143.9</td>\n",
       "      <td>2016</td>\n",
       "      <td>10</td>\n",
       "      <td>3.0</td>\n",
       "      <td>1</td>\n",
       "      <td>0.250000</td>\n",
       "      <td>0.083333</td>\n",
       "      <td>0.166667</td>\n",
       "      <td>0.083333</td>\n",
       "      <td>0.0</td>\n",
       "      <td>0.0</td>\n",
       "    </tr>\n",
       "    <tr>\n",
       "      <th>4</th>\n",
       "      <td>-40.0</td>\n",
       "      <td>143.9</td>\n",
       "      <td>2018</td>\n",
       "      <td>10</td>\n",
       "      <td>1.0</td>\n",
       "      <td>0</td>\n",
       "      <td>0.083333</td>\n",
       "      <td>0.000000</td>\n",
       "      <td>0.000000</td>\n",
       "      <td>0.000000</td>\n",
       "      <td>0.0</td>\n",
       "      <td>0.0</td>\n",
       "    </tr>\n",
       "  </tbody>\n",
       "</table>\n",
       "</div>"
      ],
      "text/plain": [
       "   latitude  longitude  year  month  fire_cnt  fire  fire_cnt_before  \\\n",
       "0     -40.0      143.9  2013     12       4.0     1              NaN   \n",
       "1     -40.0      143.9  2014      5       2.0     1         0.166667   \n",
       "2     -40.0      143.9  2015      6       2.0     1         0.166667   \n",
       "3     -40.0      143.9  2016     10       3.0     1         0.250000   \n",
       "4     -40.0      143.9  2018     10       1.0     0         0.083333   \n",
       "\n",
       "   fire_before  fire_cnt_last_year  fire_last_year  \\\n",
       "0          NaN                 NaN             NaN   \n",
       "1     0.083333            0.333333        0.083333   \n",
       "2     0.083333            0.166667        0.083333   \n",
       "3     0.083333            0.166667        0.083333   \n",
       "4     0.000000            0.000000        0.000000   \n",
       "\n",
       "   fire_cnt_last_year_same_month  fire_last_year_same_month  \n",
       "0                            NaN                        NaN  \n",
       "1                            0.0                        0.0  \n",
       "2                            0.0                        0.0  \n",
       "3                            0.0                        0.0  \n",
       "4                            0.0                        0.0  "
      ]
     },
     "execution_count": 15,
     "metadata": {},
     "output_type": "execute_result"
    },
    {
     "data": {
      "text/plain": [
       "(5160186, 12)"
      ]
     },
     "execution_count": 15,
     "metadata": {},
     "output_type": "execute_result"
    },
    {
     "data": {
      "text/plain": [
       "year\n",
       "2013    584172\n",
       "2014    584172\n",
       "2015    584172\n",
       "2016    584172\n",
       "2017    584172\n",
       "2018    584172\n",
       "2019    584172\n",
       "2020    584172\n",
       "2021    486810\n",
       "dtype: int64"
      ]
     },
     "execution_count": 15,
     "metadata": {},
     "output_type": "execute_result"
    }
   ],
   "source": [
    "X = history.merge(past, how='left', on=['latitude', 'longitude', 'year'])\n",
    "X = X.merge(last_year, how='left', on=['latitude', 'longitude', 'year'])\n",
    "X = X.merge(last_year_month, how='left', on=['latitude', 'longitude', 'year', 'month'])\n",
    "X = X.drop(columns='one')\n",
    "\n",
    "X.head()\n",
    "X.shape\n",
    "X.groupby('year').size()"
   ]
  },
  {
   "cell_type": "markdown",
   "id": "6a7f5b74",
   "metadata": {
    "papermill": {
     "duration": 0.032906,
     "end_time": "2022-02-07T20:19:37.919629",
     "exception": false,
     "start_time": "2022-02-07T20:19:37.886723",
     "status": "completed"
    },
    "tags": []
   },
   "source": [
    "### Remove NA"
   ]
  },
  {
   "cell_type": "code",
   "execution_count": 16,
   "id": "6c0b8cdf",
   "metadata": {
    "execution": {
     "iopub.execute_input": "2022-02-07T20:19:37.991629Z",
     "iopub.status.busy": "2022-02-07T20:19:37.990952Z",
     "iopub.status.idle": "2022-02-07T20:19:38.453788Z",
     "shell.execute_reply": "2022-02-07T20:19:38.453133Z",
     "shell.execute_reply.started": "2022-02-07T20:13:37.575069Z"
    },
    "papermill": {
     "duration": 0.501202,
     "end_time": "2022-02-07T20:19:38.453958",
     "exception": false,
     "start_time": "2022-02-07T20:19:37.952756",
     "status": "completed"
    },
    "tags": []
   },
   "outputs": [],
   "source": [
    "X = X.dropna()"
   ]
  },
  {
   "cell_type": "markdown",
   "id": "10791f2f",
   "metadata": {
    "papermill": {
     "duration": 0.032991,
     "end_time": "2022-02-07T20:19:38.520415",
     "exception": false,
     "start_time": "2022-02-07T20:19:38.487424",
     "status": "completed"
    },
    "tags": []
   },
   "source": [
    "## Reduce memory usage for dataframe"
   ]
  },
  {
   "cell_type": "code",
   "execution_count": 17,
   "id": "558fd4cf",
   "metadata": {
    "execution": {
     "iopub.execute_input": "2022-02-07T20:19:38.602692Z",
     "iopub.status.busy": "2022-02-07T20:19:38.599566Z",
     "iopub.status.idle": "2022-02-07T20:19:39.376525Z",
     "shell.execute_reply": "2022-02-07T20:19:39.377147Z",
     "shell.execute_reply.started": "2022-02-07T20:13:38.049076Z"
    },
    "papermill": {
     "duration": 0.824264,
     "end_time": "2022-02-07T20:19:39.377360",
     "exception": false,
     "start_time": "2022-02-07T20:19:38.553096",
     "status": "completed"
    },
    "tags": []
   },
   "outputs": [
    {
     "name": "stdout",
     "output_type": "stream",
     "text": [
      "Mem. usage decreased to 209.47 Mb (53.8% reduction)\n"
     ]
    }
   ],
   "source": [
    "def reduce_memory_usage(df, verbose=True):\n",
    "    numerics = ['int8','int16', 'int32', 'int64', 'float16', 'float32', 'float64']\n",
    "    start_mem = df.memory_usage().sum() / 1024**2\n",
    "\n",
    "    for col in df.columns:\n",
    "        col_type = df[col].dtypes\n",
    "\n",
    "        if col_type in numerics:\n",
    "            c_min = df[col].min()\n",
    "            c_max = df[col].max()\n",
    "\n",
    "            if str(col_type)[:3] == 'int':\n",
    "                if c_min > np.iinfo(np.int8).min and c_max < np.iinfo(np.int8).max:\n",
    "                    df[col] = df[col].astype(np.int8)\n",
    "                elif c_min > np.iinfo(np.int16).min and c_max < np.iinfo(np.int16).max:\n",
    "                    df[col] = df[col].astype(np.int16)\n",
    "                elif c_min > np.iinfo(np.int32).min and c_max < np.iinfo(np.int32).max:\n",
    "                    df[col] = df[col].astype(np.int32)\n",
    "                elif c_min > np.iinfo(np.int64).min and c_max < np.iinfo(np.int64).max:\n",
    "                    df[col] = df[col].astype(np.int64)  \n",
    "            else:\n",
    "                if c_min > np.finfo(np.float32).min and c_max < np.finfo(np.float32).max:\n",
    "                    df[col] = df[col].astype(np.float32)\n",
    "                else:\n",
    "                    df[col] = df[col].astype(np.float64)\n",
    "\n",
    "    end_mem = df.memory_usage().sum() / 1024**2\n",
    "\n",
    "    if verbose:\n",
    "        print('Mem. usage decreased to {:5.2f} Mb ({:.1f}% reduction)'.format(end_mem, 100 * (start_mem - end_mem) / start_mem))\n",
    " \n",
    "    return df\n",
    "\n",
    "X = reduce_memory_usage(X)"
   ]
  },
  {
   "cell_type": "code",
   "execution_count": 18,
   "id": "76d0edad",
   "metadata": {
    "execution": {
     "iopub.execute_input": "2022-02-07T20:19:39.463668Z",
     "iopub.status.busy": "2022-02-07T20:19:39.451736Z",
     "iopub.status.idle": "2022-02-07T20:19:40.351591Z",
     "shell.execute_reply": "2022-02-07T20:19:40.351039Z",
     "shell.execute_reply.started": "2022-02-07T20:13:38.784235Z"
    },
    "papermill": {
     "duration": 0.941306,
     "end_time": "2022-02-07T20:19:40.351770",
     "exception": false,
     "start_time": "2022-02-07T20:19:39.410464",
     "status": "completed"
    },
    "tags": []
   },
   "outputs": [
    {
     "name": "stdout",
     "output_type": "stream",
     "text": [
      "Memory usage of properties dataframe is : 209.47329711914062  MB\n",
      "******************************\n",
      "Column:  latitude\n",
      "dtype before:  float32\n",
      "dtype after:  float32\n",
      "******************************\n",
      "******************************\n",
      "Column:  longitude\n",
      "dtype before:  float32\n",
      "dtype after:  float32\n",
      "******************************\n",
      "******************************\n",
      "Column:  year\n",
      "dtype before:  int16\n",
      "dtype after:  uint16\n",
      "******************************\n",
      "******************************\n",
      "Column:  month\n",
      "dtype before:  int8\n",
      "dtype after:  uint8\n",
      "******************************\n",
      "******************************\n",
      "Column:  fire_cnt\n",
      "dtype before:  float32\n",
      "dtype after:  uint16\n",
      "******************************\n",
      "******************************\n",
      "Column:  fire\n",
      "dtype before:  int8\n",
      "dtype after:  uint8\n",
      "******************************\n",
      "******************************\n",
      "Column:  fire_cnt_before\n",
      "dtype before:  float32\n",
      "dtype after:  float32\n",
      "******************************\n",
      "******************************\n",
      "Column:  fire_before\n",
      "dtype before:  float32\n",
      "dtype after:  float32\n",
      "******************************\n",
      "******************************\n",
      "Column:  fire_cnt_last_year\n",
      "dtype before:  float32\n",
      "dtype after:  float32\n",
      "******************************\n",
      "******************************\n",
      "Column:  fire_last_year\n",
      "dtype before:  float32\n",
      "dtype after:  float32\n",
      "******************************\n",
      "******************************\n",
      "Column:  fire_cnt_last_year_same_month\n",
      "dtype before:  float32\n",
      "dtype after:  uint16\n",
      "******************************\n",
      "******************************\n",
      "Column:  fire_last_year_same_month\n",
      "dtype before:  float32\n",
      "dtype after:  uint8\n",
      "******************************\n",
      "___MEMORY USAGE AFTER COMPLETION:___\n",
      "Memory usage is:  178.92510795593262  MB\n",
      "This is  85.41666666666667 % of the initial size\n"
     ]
    }
   ],
   "source": [
    "def reduce_mem_usage(props):\n",
    "    start_mem_usg = props.memory_usage().sum() / 1024**2 \n",
    "    print(\"Memory usage of properties dataframe is :\",start_mem_usg,\" MB\")\n",
    "    NAlist = [] # Keeps track of columns that have missing values filled in. \n",
    "    for col in props.columns:\n",
    "        if props[col].dtype != object:  # Exclude strings\n",
    "            \n",
    "            # Print current column type\n",
    "            print(\"******************************\")\n",
    "            print(\"Column: \",col)\n",
    "            print(\"dtype before: \",props[col].dtype)\n",
    "            \n",
    "            # make variables for Int, max and min\n",
    "            IsInt = False\n",
    "            mx = props[col].max()\n",
    "            mn = props[col].min()\n",
    "            \n",
    "            # Integer does not support NA, therefore, NA needs to be filled\n",
    "            if not np.isfinite(props[col]).all(): \n",
    "                NAlist.append(col)\n",
    "                props[col].fillna(mn-1,inplace=True)  \n",
    "                   \n",
    "            # test if column can be converted to an integer\n",
    "            asint = props[col].fillna(0).astype(np.int64)\n",
    "            result = (props[col] - asint)\n",
    "            result = result.sum()\n",
    "            if result > -0.01 and result < 0.01:\n",
    "                IsInt = True\n",
    "\n",
    "            \n",
    "            # Make Integer/unsigned Integer datatypes\n",
    "            if IsInt:\n",
    "                if mn >= 0:\n",
    "                    if mx < 255:\n",
    "                        props[col] = props[col].astype(np.uint8)\n",
    "                    elif mx < 65535:\n",
    "                        props[col] = props[col].astype(np.uint16)\n",
    "                    elif mx < 4294967295:\n",
    "                        props[col] = props[col].astype(np.uint32)\n",
    "                    else:\n",
    "                        props[col] = props[col].astype(np.uint64)\n",
    "                else:\n",
    "                    if mn > np.iinfo(np.int8).min and mx < np.iinfo(np.int8).max:\n",
    "                        props[col] = props[col].astype(np.int8)\n",
    "                    elif mn > np.iinfo(np.int16).min and mx < np.iinfo(np.int16).max:\n",
    "                        props[col] = props[col].astype(np.int16)\n",
    "                    elif mn > np.iinfo(np.int32).min and mx < np.iinfo(np.int32).max:\n",
    "                        props[col] = props[col].astype(np.int32)\n",
    "                    elif mn > np.iinfo(np.int64).min and mx < np.iinfo(np.int64).max:\n",
    "                        props[col] = props[col].astype(np.int64)    \n",
    "            \n",
    "            # Make float datatypes 32 bit\n",
    "            else:\n",
    "                props[col] = props[col].astype(np.float32)\n",
    "            \n",
    "            # Print new column type\n",
    "            print(\"dtype after: \",props[col].dtype)\n",
    "            print(\"******************************\")\n",
    "    \n",
    "    # Print final result\n",
    "    print(\"___MEMORY USAGE AFTER COMPLETION:___\")\n",
    "    mem_usg = props.memory_usage().sum() / 1024**2 \n",
    "    print(\"Memory usage is: \",mem_usg,\" MB\")\n",
    "    print(\"This is \",100*mem_usg/start_mem_usg,\"% of the initial size\")\n",
    "    return props, NAlist\n",
    "\n",
    "X, NAlist = reduce_mem_usage(X)"
   ]
  },
  {
   "cell_type": "code",
   "execution_count": 19,
   "id": "673fb1e2",
   "metadata": {
    "execution": {
     "iopub.execute_input": "2022-02-07T20:19:40.429825Z",
     "iopub.status.busy": "2022-02-07T20:19:40.429188Z",
     "iopub.status.idle": "2022-02-07T20:19:40.431594Z",
     "shell.execute_reply": "2022-02-07T20:19:40.431073Z",
     "shell.execute_reply.started": "2022-02-07T20:13:39.626757Z"
    },
    "papermill": {
     "duration": 0.04396,
     "end_time": "2022-02-07T20:19:40.431724",
     "exception": false,
     "start_time": "2022-02-07T20:19:40.387764",
     "status": "completed"
    },
    "tags": []
   },
   "outputs": [],
   "source": [
    "# X = X[0]\n",
    "# X.head()"
   ]
  },
  {
   "cell_type": "code",
   "execution_count": 20,
   "id": "60889291",
   "metadata": {
    "execution": {
     "iopub.execute_input": "2022-02-07T20:19:40.505860Z",
     "iopub.status.busy": "2022-02-07T20:19:40.505257Z",
     "iopub.status.idle": "2022-02-07T20:19:40.533074Z",
     "shell.execute_reply": "2022-02-07T20:19:40.533645Z",
     "shell.execute_reply.started": "2022-02-07T20:13:39.632065Z"
    },
    "papermill": {
     "duration": 0.066603,
     "end_time": "2022-02-07T20:19:40.533805",
     "exception": false,
     "start_time": "2022-02-07T20:19:40.467202",
     "status": "completed"
    },
    "tags": []
   },
   "outputs": [
    {
     "data": {
      "text/plain": [
       "0    0\n",
       "dtype: uint16"
      ]
     },
     "execution_count": 20,
     "metadata": {},
     "output_type": "execute_result"
    }
   ],
   "source": [
    "X['fire_cnt'].mode()"
   ]
  },
  {
   "cell_type": "code",
   "execution_count": 21,
   "id": "408815b7",
   "metadata": {
    "execution": {
     "iopub.execute_input": "2022-02-07T20:19:40.608054Z",
     "iopub.status.busy": "2022-02-07T20:19:40.607460Z",
     "iopub.status.idle": "2022-02-07T20:19:40.613632Z",
     "shell.execute_reply": "2022-02-07T20:19:40.614087Z",
     "shell.execute_reply.started": "2022-02-07T20:13:39.667301Z"
    },
    "papermill": {
     "duration": 0.044908,
     "end_time": "2022-02-07T20:19:40.614232",
     "exception": false,
     "start_time": "2022-02-07T20:19:40.569324",
     "status": "completed"
    },
    "tags": []
   },
   "outputs": [
    {
     "data": {
      "text/plain": [
       "latitude                         float32\n",
       "longitude                        float32\n",
       "year                              uint16\n",
       "month                              uint8\n",
       "fire_cnt                          uint16\n",
       "fire                               uint8\n",
       "fire_cnt_before                  float32\n",
       "fire_before                      float32\n",
       "fire_cnt_last_year               float32\n",
       "fire_last_year                   float32\n",
       "fire_cnt_last_year_same_month     uint16\n",
       "fire_last_year_same_month          uint8\n",
       "dtype: object"
      ]
     },
     "execution_count": 21,
     "metadata": {},
     "output_type": "execute_result"
    }
   ],
   "source": [
    "X.dtypes"
   ]
  },
  {
   "cell_type": "code",
   "execution_count": 22,
   "id": "91fb7e66",
   "metadata": {
    "execution": {
     "iopub.execute_input": "2022-02-07T20:19:40.690063Z",
     "iopub.status.busy": "2022-02-07T20:19:40.689152Z",
     "iopub.status.idle": "2022-02-07T20:20:12.875725Z",
     "shell.execute_reply": "2022-02-07T20:20:12.876225Z",
     "shell.execute_reply.started": "2022-02-07T20:13:39.680623Z"
    },
    "papermill": {
     "duration": 32.226094,
     "end_time": "2022-02-07T20:20:12.876413",
     "exception": false,
     "start_time": "2022-02-07T20:19:40.650319",
     "status": "completed"
    },
    "tags": []
   },
   "outputs": [
    {
     "name": "stdout",
     "output_type": "stream",
     "text": [
      "Total fire saved\n"
     ]
    }
   ],
   "source": [
    "X.to_csv(\"australia_fire_total_ready.csv\", index=False)\n",
    "print('Total fire saved')"
   ]
  },
  {
   "cell_type": "markdown",
   "id": "5cb4e8cc",
   "metadata": {
    "papermill": {
     "duration": 0.036036,
     "end_time": "2022-02-07T20:20:12.948851",
     "exception": false,
     "start_time": "2022-02-07T20:20:12.912815",
     "status": "completed"
    },
    "tags": []
   },
   "source": [
    "#### Split the dataset based on time to avoid leakage"
   ]
  },
  {
   "cell_type": "code",
   "execution_count": 23,
   "id": "b7a2a927",
   "metadata": {
    "execution": {
     "iopub.execute_input": "2022-02-07T20:20:13.025903Z",
     "iopub.status.busy": "2022-02-07T20:20:13.025203Z",
     "iopub.status.idle": "2022-02-07T20:20:46.904661Z",
     "shell.execute_reply": "2022-02-07T20:20:46.905134Z",
     "shell.execute_reply.started": "2022-02-07T20:14:00.598259Z"
    },
    "papermill": {
     "duration": 33.91936,
     "end_time": "2022-02-07T20:20:46.905385",
     "exception": false,
     "start_time": "2022-02-07T20:20:12.986025",
     "status": "completed"
    },
    "tags": []
   },
   "outputs": [],
   "source": [
    "train = X[X.year < 2019].dropna()\n",
    "valid = X[(X.year >= 2019) & (X.year < 2021)]\n",
    "test = X[X.year == 2021]\n",
    "\n",
    "train.to_csv('australia_fire_train.csv', index=False)\n",
    "valid.to_csv('australia_fire_valid.csv', index=False)\n",
    "test.to_csv('australia_fire_test.csv', index=False)"
   ]
  },
  {
   "cell_type": "code",
   "execution_count": 24,
   "id": "61bf00b7",
   "metadata": {
    "execution": {
     "iopub.execute_input": "2022-02-07T20:20:46.982688Z",
     "iopub.status.busy": "2022-02-07T20:20:46.981672Z",
     "iopub.status.idle": "2022-02-07T20:20:47.074670Z",
     "shell.execute_reply": "2022-02-07T20:20:47.075154Z",
     "shell.execute_reply.started": "2022-02-07T20:15:07.008164Z"
    },
    "papermill": {
     "duration": 0.132833,
     "end_time": "2022-02-07T20:20:47.075370",
     "exception": false,
     "start_time": "2022-02-07T20:20:46.942537",
     "status": "completed"
    },
    "tags": []
   },
   "outputs": [
    {
     "data": {
      "text/plain": [
       "year\n",
       "2014    584172\n",
       "2015    584172\n",
       "2016    584172\n",
       "2017    584172\n",
       "2018    584172\n",
       "dtype: int64"
      ]
     },
     "execution_count": 24,
     "metadata": {},
     "output_type": "execute_result"
    },
    {
     "data": {
      "text/plain": [
       "year\n",
       "2019    584172\n",
       "2020    584172\n",
       "dtype: int64"
      ]
     },
     "execution_count": 24,
     "metadata": {},
     "output_type": "execute_result"
    },
    {
     "data": {
      "text/plain": [
       "year\n",
       "2021    486810\n",
       "dtype: int64"
      ]
     },
     "execution_count": 24,
     "metadata": {},
     "output_type": "execute_result"
    }
   ],
   "source": [
    "train.groupby('year').size()\n",
    "valid.groupby('year').size()\n",
    "test.groupby('year').size()"
   ]
  },
  {
   "cell_type": "code",
   "execution_count": 25,
   "id": "84077ee8",
   "metadata": {
    "execution": {
     "iopub.execute_input": "2022-02-07T20:20:47.155296Z",
     "iopub.status.busy": "2022-02-07T20:20:47.154406Z",
     "iopub.status.idle": "2022-02-07T20:20:47.170866Z",
     "shell.execute_reply": "2022-02-07T20:20:47.171444Z",
     "shell.execute_reply.started": "2022-02-07T20:14:22.716640Z"
    },
    "papermill": {
     "duration": 0.058262,
     "end_time": "2022-02-07T20:20:47.171616",
     "exception": false,
     "start_time": "2022-02-07T20:20:47.113354",
     "status": "completed"
    },
    "tags": []
   },
   "outputs": [
    {
     "data": {
      "text/plain": [
       "((2920860, 12), (1168344, 12), (486810, 12))"
      ]
     },
     "execution_count": 25,
     "metadata": {},
     "output_type": "execute_result"
    },
    {
     "data": {
      "text/html": [
       "<div>\n",
       "<style scoped>\n",
       "    .dataframe tbody tr th:only-of-type {\n",
       "        vertical-align: middle;\n",
       "    }\n",
       "\n",
       "    .dataframe tbody tr th {\n",
       "        vertical-align: top;\n",
       "    }\n",
       "\n",
       "    .dataframe thead th {\n",
       "        text-align: right;\n",
       "    }\n",
       "</style>\n",
       "<table border=\"1\" class=\"dataframe\">\n",
       "  <thead>\n",
       "    <tr style=\"text-align: right;\">\n",
       "      <th></th>\n",
       "      <th>latitude</th>\n",
       "      <th>longitude</th>\n",
       "      <th>year</th>\n",
       "      <th>month</th>\n",
       "      <th>fire_cnt</th>\n",
       "      <th>fire</th>\n",
       "      <th>fire_cnt_before</th>\n",
       "      <th>fire_before</th>\n",
       "      <th>fire_cnt_last_year</th>\n",
       "      <th>fire_last_year</th>\n",
       "      <th>fire_cnt_last_year_same_month</th>\n",
       "      <th>fire_last_year_same_month</th>\n",
       "    </tr>\n",
       "  </thead>\n",
       "  <tbody>\n",
       "    <tr>\n",
       "      <th>1</th>\n",
       "      <td>-40.0</td>\n",
       "      <td>143.899994</td>\n",
       "      <td>2014</td>\n",
       "      <td>5</td>\n",
       "      <td>2</td>\n",
       "      <td>1</td>\n",
       "      <td>0.166667</td>\n",
       "      <td>0.083333</td>\n",
       "      <td>0.333333</td>\n",
       "      <td>0.083333</td>\n",
       "      <td>0</td>\n",
       "      <td>0</td>\n",
       "    </tr>\n",
       "    <tr>\n",
       "      <th>2</th>\n",
       "      <td>-40.0</td>\n",
       "      <td>143.899994</td>\n",
       "      <td>2015</td>\n",
       "      <td>6</td>\n",
       "      <td>2</td>\n",
       "      <td>1</td>\n",
       "      <td>0.166667</td>\n",
       "      <td>0.083333</td>\n",
       "      <td>0.166667</td>\n",
       "      <td>0.083333</td>\n",
       "      <td>0</td>\n",
       "      <td>0</td>\n",
       "    </tr>\n",
       "    <tr>\n",
       "      <th>3</th>\n",
       "      <td>-40.0</td>\n",
       "      <td>143.899994</td>\n",
       "      <td>2016</td>\n",
       "      <td>10</td>\n",
       "      <td>3</td>\n",
       "      <td>1</td>\n",
       "      <td>0.250000</td>\n",
       "      <td>0.083333</td>\n",
       "      <td>0.166667</td>\n",
       "      <td>0.083333</td>\n",
       "      <td>0</td>\n",
       "      <td>0</td>\n",
       "    </tr>\n",
       "    <tr>\n",
       "      <th>4</th>\n",
       "      <td>-40.0</td>\n",
       "      <td>143.899994</td>\n",
       "      <td>2018</td>\n",
       "      <td>10</td>\n",
       "      <td>1</td>\n",
       "      <td>0</td>\n",
       "      <td>0.083333</td>\n",
       "      <td>0.000000</td>\n",
       "      <td>0.000000</td>\n",
       "      <td>0.000000</td>\n",
       "      <td>0</td>\n",
       "      <td>0</td>\n",
       "    </tr>\n",
       "    <tr>\n",
       "      <th>7</th>\n",
       "      <td>-40.0</td>\n",
       "      <td>143.899994</td>\n",
       "      <td>2015</td>\n",
       "      <td>4</td>\n",
       "      <td>0</td>\n",
       "      <td>0</td>\n",
       "      <td>0.166667</td>\n",
       "      <td>0.083333</td>\n",
       "      <td>0.166667</td>\n",
       "      <td>0.083333</td>\n",
       "      <td>0</td>\n",
       "      <td>0</td>\n",
       "    </tr>\n",
       "  </tbody>\n",
       "</table>\n",
       "</div>"
      ],
      "text/plain": [
       "   latitude   longitude  year  month  fire_cnt  fire  fire_cnt_before  \\\n",
       "1     -40.0  143.899994  2014      5         2     1         0.166667   \n",
       "2     -40.0  143.899994  2015      6         2     1         0.166667   \n",
       "3     -40.0  143.899994  2016     10         3     1         0.250000   \n",
       "4     -40.0  143.899994  2018     10         1     0         0.083333   \n",
       "7     -40.0  143.899994  2015      4         0     0         0.166667   \n",
       "\n",
       "   fire_before  fire_cnt_last_year  fire_last_year  \\\n",
       "1     0.083333            0.333333        0.083333   \n",
       "2     0.083333            0.166667        0.083333   \n",
       "3     0.083333            0.166667        0.083333   \n",
       "4     0.000000            0.000000        0.000000   \n",
       "7     0.083333            0.166667        0.083333   \n",
       "\n",
       "   fire_cnt_last_year_same_month  fire_last_year_same_month  \n",
       "1                              0                          0  \n",
       "2                              0                          0  \n",
       "3                              0                          0  \n",
       "4                              0                          0  \n",
       "7                              0                          0  "
      ]
     },
     "execution_count": 25,
     "metadata": {},
     "output_type": "execute_result"
    }
   ],
   "source": [
    "train.shape, valid.shape, test.shape\n",
    "train.head()"
   ]
  }
 ],
 "metadata": {
  "kernelspec": {
   "display_name": "Python 3",
   "language": "python",
   "name": "python3"
  },
  "language_info": {
   "codemirror_mode": {
    "name": "ipython",
    "version": 3
   },
   "file_extension": ".py",
   "mimetype": "text/x-python",
   "name": "python",
   "nbconvert_exporter": "python",
   "pygments_lexer": "ipython3",
   "version": "3.7.12"
  },
  "papermill": {
   "default_parameters": {},
   "duration": 128.367229,
   "end_time": "2022-02-07T20:20:48.321540",
   "environment_variables": {},
   "exception": null,
   "input_path": "__notebook__.ipynb",
   "output_path": "__notebook__.ipynb",
   "parameters": {},
   "start_time": "2022-02-07T20:18:39.954311",
   "version": "2.3.3"
  }
 },
 "nbformat": 4,
 "nbformat_minor": 5
}
