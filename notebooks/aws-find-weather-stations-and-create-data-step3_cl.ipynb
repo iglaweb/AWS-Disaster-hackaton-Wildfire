{
 "cells": [
  {
   "cell_type": "markdown",
   "id": "bfd2460b",
   "metadata": {
    "papermill": {
     "duration": 0.03854,
     "end_time": "2022-02-07T07:53:01.688508",
     "exception": false,
     "start_time": "2022-02-07T07:53:01.649968",
     "status": "completed"
    },
    "tags": []
   },
   "source": [
    "# 📚 Import Libraries"
   ]
  },
  {
   "cell_type": "code",
   "execution_count": 1,
   "id": "a13f4ae5",
   "metadata": {
    "_cell_guid": "b1076dfc-b9ad-4769-8c92-a6c4dae69d19",
    "_uuid": "8f2839f25d086af736a60e9eeb907d3b93b6e0e5",
    "execution": {
     "iopub.execute_input": "2022-02-07T07:53:01.768849Z",
     "iopub.status.busy": "2022-02-07T07:53:01.767020Z",
     "iopub.status.idle": "2022-02-07T07:53:06.144810Z",
     "shell.execute_reply": "2022-02-07T07:53:06.145308Z",
     "shell.execute_reply.started": "2022-02-07T06:38:25.277513Z"
    },
    "papermill": {
     "duration": 4.419927,
     "end_time": "2022-02-07T07:53:06.145654",
     "exception": false,
     "start_time": "2022-02-07T07:53:01.725727",
     "status": "completed"
    },
    "tags": []
   },
   "outputs": [
    {
     "name": "stderr",
     "output_type": "stream",
     "text": [
      "/opt/conda/lib/python3.7/site-packages/geopandas/_compat.py:115: UserWarning: The Shapely GEOS version (3.9.1-CAPI-1.14.2) is incompatible with the GEOS version PyGEOS was compiled with (3.10.1-CAPI-1.16.0). Conversions between both will be slow.\n",
      "  shapely_geos_version, geos_capi_version_string\n"
     ]
    }
   ],
   "source": [
    "import pandas as pd, numpy as np, matplotlib.pyplot as plt\n",
    "from sklearn.cluster import DBSCAN\n",
    "from geopy.distance import great_circle\n",
    "from shapely.geometry import MultiPoint\n",
    "\n",
    "%matplotlib inline\n",
    "import pandas as pd\n",
    "import numpy as np\n",
    "from IPython.core.interactiveshell import InteractiveShell\n",
    "import random\n",
    "InteractiveShell.ast_node_interactivity = \"all\"\n",
    "import os\n",
    "from datetime import datetime\n",
    "import matplotlib.pyplot as plt\n",
    "import plotly.express as px\n",
    "import glob\n",
    "from tqdm import tqdm\n",
    "\n",
    "import plotly.figure_factory as ff\n",
    "import plotly.express as px\n",
    "import numpy as np\n",
    "\n",
    "import geopandas as gpd\n",
    "from shapely.geometry import Point\n",
    "from shapely.ops import nearest_points"
   ]
  },
  {
   "cell_type": "markdown",
   "id": "a0a06d42",
   "metadata": {
    "papermill": {
     "duration": 0.039558,
     "end_time": "2022-02-07T07:53:06.224648",
     "exception": false,
     "start_time": "2022-02-07T07:53:06.185090",
     "status": "completed"
    },
    "tags": []
   },
   "source": [
    "### Use mapbox for visualization"
   ]
  },
  {
   "cell_type": "code",
   "execution_count": 2,
   "id": "3a941d82",
   "metadata": {
    "execution": {
     "iopub.execute_input": "2022-02-07T07:53:06.305084Z",
     "iopub.status.busy": "2022-02-07T07:53:06.304413Z",
     "iopub.status.idle": "2022-02-07T07:53:06.307021Z",
     "shell.execute_reply": "2022-02-07T07:53:06.306327Z",
     "shell.execute_reply.started": "2022-02-07T06:38:28.985647Z"
    },
    "papermill": {
     "duration": 0.044945,
     "end_time": "2022-02-07T07:53:06.307176",
     "exception": false,
     "start_time": "2022-02-07T07:53:06.262231",
     "status": "completed"
    },
    "tags": []
   },
   "outputs": [],
   "source": [
    "# use your own mapbox token here to visualize\n",
    "MAPBOX_TOKEN = 'pk.eyJ1IjoiaWdsYXdlYiIsImEiOiJja3picmk5NmsyaDZxMndtenYyOWhvNmtnIn0.Dxi29pChSrUbePq_oZ1rTw'\n",
    "px.set_mapbox_access_token(MAPBOX_TOKEN)"
   ]
  },
  {
   "cell_type": "code",
   "execution_count": 3,
   "id": "670aa423",
   "metadata": {
    "execution": {
     "iopub.execute_input": "2022-02-07T07:53:06.388257Z",
     "iopub.status.busy": "2022-02-07T07:53:06.387577Z",
     "iopub.status.idle": "2022-02-07T07:53:15.516344Z",
     "shell.execute_reply": "2022-02-07T07:53:15.515754Z",
     "shell.execute_reply.started": "2022-02-07T06:38:28.995739Z"
    },
    "papermill": {
     "duration": 9.172027,
     "end_time": "2022-02-07T07:53:15.516518",
     "exception": false,
     "start_time": "2022-02-07T07:53:06.344491",
     "status": "completed"
    },
    "tags": []
   },
   "outputs": [
    {
     "data": {
      "text/plain": [
       "(4576014, 12)"
      ]
     },
     "execution_count": 3,
     "metadata": {},
     "output_type": "execute_result"
    },
    {
     "data": {
      "text/html": [
       "<div>\n",
       "<style scoped>\n",
       "    .dataframe tbody tr th:only-of-type {\n",
       "        vertical-align: middle;\n",
       "    }\n",
       "\n",
       "    .dataframe tbody tr th {\n",
       "        vertical-align: top;\n",
       "    }\n",
       "\n",
       "    .dataframe thead th {\n",
       "        text-align: right;\n",
       "    }\n",
       "</style>\n",
       "<table border=\"1\" class=\"dataframe\">\n",
       "  <thead>\n",
       "    <tr style=\"text-align: right;\">\n",
       "      <th></th>\n",
       "      <th>latitude</th>\n",
       "      <th>longitude</th>\n",
       "      <th>year</th>\n",
       "      <th>month</th>\n",
       "      <th>fire_cnt</th>\n",
       "      <th>fire</th>\n",
       "      <th>fire_cnt_before</th>\n",
       "      <th>fire_before</th>\n",
       "      <th>fire_cnt_last_year</th>\n",
       "      <th>fire_last_year</th>\n",
       "      <th>fire_cnt_last_year_same_month</th>\n",
       "      <th>fire_last_year_same_month</th>\n",
       "    </tr>\n",
       "  </thead>\n",
       "  <tbody>\n",
       "    <tr>\n",
       "      <th>0</th>\n",
       "      <td>-40.0</td>\n",
       "      <td>143.9</td>\n",
       "      <td>2014</td>\n",
       "      <td>5</td>\n",
       "      <td>2</td>\n",
       "      <td>1</td>\n",
       "      <td>0.166667</td>\n",
       "      <td>0.083333</td>\n",
       "      <td>0.333333</td>\n",
       "      <td>0.083333</td>\n",
       "      <td>0</td>\n",
       "      <td>0</td>\n",
       "    </tr>\n",
       "    <tr>\n",
       "      <th>1</th>\n",
       "      <td>-40.0</td>\n",
       "      <td>143.9</td>\n",
       "      <td>2015</td>\n",
       "      <td>6</td>\n",
       "      <td>2</td>\n",
       "      <td>1</td>\n",
       "      <td>0.166667</td>\n",
       "      <td>0.083333</td>\n",
       "      <td>0.166667</td>\n",
       "      <td>0.083333</td>\n",
       "      <td>0</td>\n",
       "      <td>0</td>\n",
       "    </tr>\n",
       "    <tr>\n",
       "      <th>2</th>\n",
       "      <td>-40.0</td>\n",
       "      <td>143.9</td>\n",
       "      <td>2016</td>\n",
       "      <td>10</td>\n",
       "      <td>3</td>\n",
       "      <td>1</td>\n",
       "      <td>0.250000</td>\n",
       "      <td>0.083333</td>\n",
       "      <td>0.166667</td>\n",
       "      <td>0.083333</td>\n",
       "      <td>0</td>\n",
       "      <td>0</td>\n",
       "    </tr>\n",
       "    <tr>\n",
       "      <th>3</th>\n",
       "      <td>-40.0</td>\n",
       "      <td>143.9</td>\n",
       "      <td>2018</td>\n",
       "      <td>10</td>\n",
       "      <td>1</td>\n",
       "      <td>0</td>\n",
       "      <td>0.083333</td>\n",
       "      <td>0.000000</td>\n",
       "      <td>0.000000</td>\n",
       "      <td>0.000000</td>\n",
       "      <td>0</td>\n",
       "      <td>0</td>\n",
       "    </tr>\n",
       "    <tr>\n",
       "      <th>4</th>\n",
       "      <td>-40.0</td>\n",
       "      <td>143.9</td>\n",
       "      <td>2020</td>\n",
       "      <td>6</td>\n",
       "      <td>1</td>\n",
       "      <td>0</td>\n",
       "      <td>0.083333</td>\n",
       "      <td>0.000000</td>\n",
       "      <td>0.000000</td>\n",
       "      <td>0.000000</td>\n",
       "      <td>0</td>\n",
       "      <td>0</td>\n",
       "    </tr>\n",
       "  </tbody>\n",
       "</table>\n",
       "</div>"
      ],
      "text/plain": [
       "   latitude  longitude  year  month  fire_cnt  fire  fire_cnt_before  \\\n",
       "0     -40.0      143.9  2014      5         2     1         0.166667   \n",
       "1     -40.0      143.9  2015      6         2     1         0.166667   \n",
       "2     -40.0      143.9  2016     10         3     1         0.250000   \n",
       "3     -40.0      143.9  2018     10         1     0         0.083333   \n",
       "4     -40.0      143.9  2020      6         1     0         0.083333   \n",
       "\n",
       "   fire_before  fire_cnt_last_year  fire_last_year  \\\n",
       "0     0.083333            0.333333        0.083333   \n",
       "1     0.083333            0.166667        0.083333   \n",
       "2     0.083333            0.166667        0.083333   \n",
       "3     0.000000            0.000000        0.000000   \n",
       "4     0.000000            0.000000        0.000000   \n",
       "\n",
       "   fire_cnt_last_year_same_month  fire_last_year_same_month  \n",
       "0                              0                          0  \n",
       "1                              0                          0  \n",
       "2                              0                          0  \n",
       "3                              0                          0  \n",
       "4                              0                          0  "
      ]
     },
     "execution_count": 3,
     "metadata": {},
     "output_type": "execute_result"
    }
   ],
   "source": [
    "# data description https://www.ncei.noaa.gov/data/global-summary-of-the-day/doc/readme.txt\n",
    "WORK_DIR = './'\n",
    "aus_fire = pd.read_csv(WORK_DIR + '/wildfiredataset/australia_fire_total_ready.csv')\n",
    "aus_fire.shape\n",
    "aus_fire.head()"
   ]
  },
  {
   "cell_type": "code",
   "execution_count": 4,
   "id": "f4fe4254",
   "metadata": {
    "execution": {
     "iopub.execute_input": "2022-02-07T07:53:15.604906Z",
     "iopub.status.busy": "2022-02-07T07:53:15.604177Z",
     "iopub.status.idle": "2022-02-07T07:53:15.641937Z",
     "shell.execute_reply": "2022-02-07T07:53:15.642466Z",
     "shell.execute_reply.started": "2022-02-07T06:38:34.868109Z"
    },
    "papermill": {
     "duration": 0.086572,
     "end_time": "2022-02-07T07:53:15.642653",
     "exception": false,
     "start_time": "2022-02-07T07:53:15.556081",
     "status": "completed"
    },
    "tags": []
   },
   "outputs": [
    {
     "data": {
      "text/plain": [
       "(-40.0, -9.0)"
      ]
     },
     "execution_count": 4,
     "metadata": {},
     "output_type": "execute_result"
    },
    {
     "data": {
      "text/plain": [
       "(112.0, 154.7)"
      ]
     },
     "execution_count": 4,
     "metadata": {},
     "output_type": "execute_result"
    }
   ],
   "source": [
    "aus_fire.latitude.min(), aus_fire.latitude.max()\n",
    "aus_fire.longitude.min(), aus_fire.longitude.max()"
   ]
  },
  {
   "cell_type": "code",
   "execution_count": 5,
   "id": "35ab4fb3",
   "metadata": {
    "execution": {
     "iopub.execute_input": "2022-02-07T07:53:15.724142Z",
     "iopub.status.busy": "2022-02-07T07:53:15.723449Z",
     "iopub.status.idle": "2022-02-07T07:53:23.752219Z",
     "shell.execute_reply": "2022-02-07T07:53:23.751682Z",
     "shell.execute_reply.started": "2022-02-07T06:38:34.901271Z"
    },
    "papermill": {
     "duration": 8.071146,
     "end_time": "2022-02-07T07:53:23.752359",
     "exception": false,
     "start_time": "2022-02-07T07:53:15.681213",
     "status": "completed"
    },
    "tags": []
   },
   "outputs": [
    {
     "data": {
      "text/plain": [
       "(1479377, 19)"
      ]
     },
     "execution_count": 5,
     "metadata": {},
     "output_type": "execute_result"
    },
    {
     "data": {
      "text/html": [
       "<div>\n",
       "<style scoped>\n",
       "    .dataframe tbody tr th:only-of-type {\n",
       "        vertical-align: middle;\n",
       "    }\n",
       "\n",
       "    .dataframe tbody tr th {\n",
       "        vertical-align: top;\n",
       "    }\n",
       "\n",
       "    .dataframe thead th {\n",
       "        text-align: right;\n",
       "    }\n",
       "</style>\n",
       "<table border=\"1\" class=\"dataframe\">\n",
       "  <thead>\n",
       "    <tr style=\"text-align: right;\">\n",
       "      <th></th>\n",
       "      <th>STATION</th>\n",
       "      <th>DATE</th>\n",
       "      <th>LATITUDE</th>\n",
       "      <th>LONGITUDE</th>\n",
       "      <th>ELEVATION</th>\n",
       "      <th>NAME</th>\n",
       "      <th>TEMP</th>\n",
       "      <th>DEWP</th>\n",
       "      <th>SLP</th>\n",
       "      <th>STP</th>\n",
       "      <th>VISIB</th>\n",
       "      <th>WDSP</th>\n",
       "      <th>MXSPD</th>\n",
       "      <th>GUST</th>\n",
       "      <th>MAX</th>\n",
       "      <th>MIN</th>\n",
       "      <th>PRCP</th>\n",
       "      <th>SNDP</th>\n",
       "      <th>FRSHTT</th>\n",
       "    </tr>\n",
       "  </thead>\n",
       "  <tbody>\n",
       "    <tr>\n",
       "      <th>0</th>\n",
       "      <td>95658099999</td>\n",
       "      <td>2013-01-01</td>\n",
       "      <td>-30.483333</td>\n",
       "      <td>136.883333</td>\n",
       "      <td>100.0</td>\n",
       "      <td>OLYMPIC DAM AERODROME, AS</td>\n",
       "      <td>91.3</td>\n",
       "      <td>17.0</td>\n",
       "      <td>1012.0</td>\n",
       "      <td>0.6</td>\n",
       "      <td>999.9</td>\n",
       "      <td>8.4</td>\n",
       "      <td>13.0</td>\n",
       "      <td>999.9</td>\n",
       "      <td>108.5</td>\n",
       "      <td>61.5</td>\n",
       "      <td>0.0</td>\n",
       "      <td>999.9</td>\n",
       "      <td>0</td>\n",
       "    </tr>\n",
       "    <tr>\n",
       "      <th>1</th>\n",
       "      <td>95658099999</td>\n",
       "      <td>2013-01-02</td>\n",
       "      <td>-30.483333</td>\n",
       "      <td>136.883333</td>\n",
       "      <td>100.0</td>\n",
       "      <td>OLYMPIC DAM AERODROME, AS</td>\n",
       "      <td>91.9</td>\n",
       "      <td>18.2</td>\n",
       "      <td>1010.9</td>\n",
       "      <td>999.5</td>\n",
       "      <td>999.9</td>\n",
       "      <td>7.9</td>\n",
       "      <td>14.0</td>\n",
       "      <td>999.9</td>\n",
       "      <td>107.2</td>\n",
       "      <td>70.3</td>\n",
       "      <td>0.0</td>\n",
       "      <td>999.9</td>\n",
       "      <td>0</td>\n",
       "    </tr>\n",
       "    <tr>\n",
       "      <th>2</th>\n",
       "      <td>95658099999</td>\n",
       "      <td>2013-01-03</td>\n",
       "      <td>-30.483333</td>\n",
       "      <td>136.883333</td>\n",
       "      <td>100.0</td>\n",
       "      <td>OLYMPIC DAM AERODROME, AS</td>\n",
       "      <td>95.2</td>\n",
       "      <td>8.3</td>\n",
       "      <td>1006.0</td>\n",
       "      <td>994.7</td>\n",
       "      <td>999.9</td>\n",
       "      <td>7.6</td>\n",
       "      <td>12.0</td>\n",
       "      <td>999.9</td>\n",
       "      <td>109.6</td>\n",
       "      <td>68.2</td>\n",
       "      <td>0.0</td>\n",
       "      <td>999.9</td>\n",
       "      <td>0</td>\n",
       "    </tr>\n",
       "    <tr>\n",
       "      <th>3</th>\n",
       "      <td>95658099999</td>\n",
       "      <td>2013-01-04</td>\n",
       "      <td>-30.483333</td>\n",
       "      <td>136.883333</td>\n",
       "      <td>100.0</td>\n",
       "      <td>OLYMPIC DAM AERODROME, AS</td>\n",
       "      <td>94.6</td>\n",
       "      <td>25.3</td>\n",
       "      <td>1004.2</td>\n",
       "      <td>992.8</td>\n",
       "      <td>999.9</td>\n",
       "      <td>7.0</td>\n",
       "      <td>14.0</td>\n",
       "      <td>999.9</td>\n",
       "      <td>115.9</td>\n",
       "      <td>69.6</td>\n",
       "      <td>0.0</td>\n",
       "      <td>999.9</td>\n",
       "      <td>0</td>\n",
       "    </tr>\n",
       "    <tr>\n",
       "      <th>4</th>\n",
       "      <td>95658099999</td>\n",
       "      <td>2013-01-05</td>\n",
       "      <td>-30.483333</td>\n",
       "      <td>136.883333</td>\n",
       "      <td>100.0</td>\n",
       "      <td>OLYMPIC DAM AERODROME, AS</td>\n",
       "      <td>91.1</td>\n",
       "      <td>43.6</td>\n",
       "      <td>1011.3</td>\n",
       "      <td>999.9</td>\n",
       "      <td>999.9</td>\n",
       "      <td>14.3</td>\n",
       "      <td>16.9</td>\n",
       "      <td>999.9</td>\n",
       "      <td>111.4</td>\n",
       "      <td>73.4</td>\n",
       "      <td>0.0</td>\n",
       "      <td>999.9</td>\n",
       "      <td>0</td>\n",
       "    </tr>\n",
       "  </tbody>\n",
       "</table>\n",
       "</div>"
      ],
      "text/plain": [
       "       STATION       DATE   LATITUDE   LONGITUDE  ELEVATION  \\\n",
       "0  95658099999 2013-01-01 -30.483333  136.883333      100.0   \n",
       "1  95658099999 2013-01-02 -30.483333  136.883333      100.0   \n",
       "2  95658099999 2013-01-03 -30.483333  136.883333      100.0   \n",
       "3  95658099999 2013-01-04 -30.483333  136.883333      100.0   \n",
       "4  95658099999 2013-01-05 -30.483333  136.883333      100.0   \n",
       "\n",
       "                        NAME  TEMP  DEWP     SLP    STP  VISIB  WDSP  MXSPD  \\\n",
       "0  OLYMPIC DAM AERODROME, AS  91.3  17.0  1012.0    0.6  999.9   8.4   13.0   \n",
       "1  OLYMPIC DAM AERODROME, AS  91.9  18.2  1010.9  999.5  999.9   7.9   14.0   \n",
       "2  OLYMPIC DAM AERODROME, AS  95.2   8.3  1006.0  994.7  999.9   7.6   12.0   \n",
       "3  OLYMPIC DAM AERODROME, AS  94.6  25.3  1004.2  992.8  999.9   7.0   14.0   \n",
       "4  OLYMPIC DAM AERODROME, AS  91.1  43.6  1011.3  999.9  999.9  14.3   16.9   \n",
       "\n",
       "    GUST    MAX   MIN  PRCP   SNDP  FRSHTT  \n",
       "0  999.9  108.5  61.5   0.0  999.9       0  \n",
       "1  999.9  107.2  70.3   0.0  999.9       0  \n",
       "2  999.9  109.6  68.2   0.0  999.9       0  \n",
       "3  999.9  115.9  69.6   0.0  999.9       0  \n",
       "4  999.9  111.4  73.4   0.0  999.9       0  "
      ]
     },
     "execution_count": 5,
     "metadata": {},
     "output_type": "execute_result"
    }
   ],
   "source": [
    "# data description https://www.ncei.noaa.gov/data/global-summary-of-the-day/doc/readme.txt\n",
    "aus_weather = pd.read_csv(WORK_DIR + '/wildfiredataset/australia_weather_full2.csv', parse_dates=['DATE'])\n",
    "aus_weather.shape\n",
    "aus_weather.head()"
   ]
  },
  {
   "cell_type": "markdown",
   "id": "62865d65",
   "metadata": {
    "papermill": {
     "duration": 0.039999,
     "end_time": "2022-02-07T07:53:23.831596",
     "exception": false,
     "start_time": "2022-02-07T07:53:23.791597",
     "status": "completed"
    },
    "tags": []
   },
   "source": [
    "# Set precision for geo coordinates"
   ]
  },
  {
   "cell_type": "code",
   "execution_count": 6,
   "id": "b93305c6",
   "metadata": {
    "execution": {
     "iopub.execute_input": "2022-02-07T07:53:23.918752Z",
     "iopub.status.busy": "2022-02-07T07:53:23.917946Z",
     "iopub.status.idle": "2022-02-07T07:53:23.971630Z",
     "shell.execute_reply": "2022-02-07T07:53:23.971026Z",
     "shell.execute_reply.started": "2022-02-07T06:38:39.871278Z"
    },
    "papermill": {
     "duration": 0.100346,
     "end_time": "2022-02-07T07:53:23.971825",
     "exception": false,
     "start_time": "2022-02-07T07:53:23.871479",
     "status": "completed"
    },
    "tags": []
   },
   "outputs": [
    {
     "data": {
      "text/html": [
       "<div>\n",
       "<style scoped>\n",
       "    .dataframe tbody tr th:only-of-type {\n",
       "        vertical-align: middle;\n",
       "    }\n",
       "\n",
       "    .dataframe tbody tr th {\n",
       "        vertical-align: top;\n",
       "    }\n",
       "\n",
       "    .dataframe thead th {\n",
       "        text-align: right;\n",
       "    }\n",
       "</style>\n",
       "<table border=\"1\" class=\"dataframe\">\n",
       "  <thead>\n",
       "    <tr style=\"text-align: right;\">\n",
       "      <th></th>\n",
       "      <th>STATION</th>\n",
       "      <th>DATE</th>\n",
       "      <th>LATITUDE</th>\n",
       "      <th>LONGITUDE</th>\n",
       "      <th>ELEVATION</th>\n",
       "      <th>NAME</th>\n",
       "      <th>TEMP</th>\n",
       "      <th>DEWP</th>\n",
       "      <th>SLP</th>\n",
       "      <th>STP</th>\n",
       "      <th>VISIB</th>\n",
       "      <th>WDSP</th>\n",
       "      <th>MXSPD</th>\n",
       "      <th>GUST</th>\n",
       "      <th>MAX</th>\n",
       "      <th>MIN</th>\n",
       "      <th>PRCP</th>\n",
       "      <th>SNDP</th>\n",
       "      <th>FRSHTT</th>\n",
       "    </tr>\n",
       "  </thead>\n",
       "  <tbody>\n",
       "    <tr>\n",
       "      <th>0</th>\n",
       "      <td>95658099999</td>\n",
       "      <td>2013-01-01</td>\n",
       "      <td>-30.48</td>\n",
       "      <td>136.88</td>\n",
       "      <td>100.0</td>\n",
       "      <td>OLYMPIC DAM AERODROME, AS</td>\n",
       "      <td>91.3</td>\n",
       "      <td>17.0</td>\n",
       "      <td>1012.0</td>\n",
       "      <td>0.6</td>\n",
       "      <td>999.9</td>\n",
       "      <td>8.4</td>\n",
       "      <td>13.0</td>\n",
       "      <td>999.9</td>\n",
       "      <td>108.5</td>\n",
       "      <td>61.5</td>\n",
       "      <td>0.0</td>\n",
       "      <td>999.9</td>\n",
       "      <td>0</td>\n",
       "    </tr>\n",
       "    <tr>\n",
       "      <th>1</th>\n",
       "      <td>95658099999</td>\n",
       "      <td>2013-01-02</td>\n",
       "      <td>-30.48</td>\n",
       "      <td>136.88</td>\n",
       "      <td>100.0</td>\n",
       "      <td>OLYMPIC DAM AERODROME, AS</td>\n",
       "      <td>91.9</td>\n",
       "      <td>18.2</td>\n",
       "      <td>1010.9</td>\n",
       "      <td>999.5</td>\n",
       "      <td>999.9</td>\n",
       "      <td>7.9</td>\n",
       "      <td>14.0</td>\n",
       "      <td>999.9</td>\n",
       "      <td>107.2</td>\n",
       "      <td>70.3</td>\n",
       "      <td>0.0</td>\n",
       "      <td>999.9</td>\n",
       "      <td>0</td>\n",
       "    </tr>\n",
       "    <tr>\n",
       "      <th>2</th>\n",
       "      <td>95658099999</td>\n",
       "      <td>2013-01-03</td>\n",
       "      <td>-30.48</td>\n",
       "      <td>136.88</td>\n",
       "      <td>100.0</td>\n",
       "      <td>OLYMPIC DAM AERODROME, AS</td>\n",
       "      <td>95.2</td>\n",
       "      <td>8.3</td>\n",
       "      <td>1006.0</td>\n",
       "      <td>994.7</td>\n",
       "      <td>999.9</td>\n",
       "      <td>7.6</td>\n",
       "      <td>12.0</td>\n",
       "      <td>999.9</td>\n",
       "      <td>109.6</td>\n",
       "      <td>68.2</td>\n",
       "      <td>0.0</td>\n",
       "      <td>999.9</td>\n",
       "      <td>0</td>\n",
       "    </tr>\n",
       "    <tr>\n",
       "      <th>3</th>\n",
       "      <td>95658099999</td>\n",
       "      <td>2013-01-04</td>\n",
       "      <td>-30.48</td>\n",
       "      <td>136.88</td>\n",
       "      <td>100.0</td>\n",
       "      <td>OLYMPIC DAM AERODROME, AS</td>\n",
       "      <td>94.6</td>\n",
       "      <td>25.3</td>\n",
       "      <td>1004.2</td>\n",
       "      <td>992.8</td>\n",
       "      <td>999.9</td>\n",
       "      <td>7.0</td>\n",
       "      <td>14.0</td>\n",
       "      <td>999.9</td>\n",
       "      <td>115.9</td>\n",
       "      <td>69.6</td>\n",
       "      <td>0.0</td>\n",
       "      <td>999.9</td>\n",
       "      <td>0</td>\n",
       "    </tr>\n",
       "    <tr>\n",
       "      <th>4</th>\n",
       "      <td>95658099999</td>\n",
       "      <td>2013-01-05</td>\n",
       "      <td>-30.48</td>\n",
       "      <td>136.88</td>\n",
       "      <td>100.0</td>\n",
       "      <td>OLYMPIC DAM AERODROME, AS</td>\n",
       "      <td>91.1</td>\n",
       "      <td>43.6</td>\n",
       "      <td>1011.3</td>\n",
       "      <td>999.9</td>\n",
       "      <td>999.9</td>\n",
       "      <td>14.3</td>\n",
       "      <td>16.9</td>\n",
       "      <td>999.9</td>\n",
       "      <td>111.4</td>\n",
       "      <td>73.4</td>\n",
       "      <td>0.0</td>\n",
       "      <td>999.9</td>\n",
       "      <td>0</td>\n",
       "    </tr>\n",
       "  </tbody>\n",
       "</table>\n",
       "</div>"
      ],
      "text/plain": [
       "       STATION       DATE  LATITUDE  LONGITUDE  ELEVATION  \\\n",
       "0  95658099999 2013-01-01    -30.48     136.88      100.0   \n",
       "1  95658099999 2013-01-02    -30.48     136.88      100.0   \n",
       "2  95658099999 2013-01-03    -30.48     136.88      100.0   \n",
       "3  95658099999 2013-01-04    -30.48     136.88      100.0   \n",
       "4  95658099999 2013-01-05    -30.48     136.88      100.0   \n",
       "\n",
       "                        NAME  TEMP  DEWP     SLP    STP  VISIB  WDSP  MXSPD  \\\n",
       "0  OLYMPIC DAM AERODROME, AS  91.3  17.0  1012.0    0.6  999.9   8.4   13.0   \n",
       "1  OLYMPIC DAM AERODROME, AS  91.9  18.2  1010.9  999.5  999.9   7.9   14.0   \n",
       "2  OLYMPIC DAM AERODROME, AS  95.2   8.3  1006.0  994.7  999.9   7.6   12.0   \n",
       "3  OLYMPIC DAM AERODROME, AS  94.6  25.3  1004.2  992.8  999.9   7.0   14.0   \n",
       "4  OLYMPIC DAM AERODROME, AS  91.1  43.6  1011.3  999.9  999.9  14.3   16.9   \n",
       "\n",
       "    GUST    MAX   MIN  PRCP   SNDP  FRSHTT  \n",
       "0  999.9  108.5  61.5   0.0  999.9       0  \n",
       "1  999.9  107.2  70.3   0.0  999.9       0  \n",
       "2  999.9  109.6  68.2   0.0  999.9       0  \n",
       "3  999.9  115.9  69.6   0.0  999.9       0  \n",
       "4  999.9  111.4  73.4   0.0  999.9       0  "
      ]
     },
     "execution_count": 6,
     "metadata": {},
     "output_type": "execute_result"
    }
   ],
   "source": [
    "# http://wiki.gis.com/wiki/index.php/Decimal_degrees\n",
    "PRECISION = 2 # 2 places - 1 km\n",
    "aus_weather.LATITUDE = aus_weather.LATITUDE.astype(float).round(PRECISION)\n",
    "aus_weather.LONGITUDE = aus_weather.LONGITUDE.astype(float).round(PRECISION)\n",
    "aus_weather.head()"
   ]
  },
  {
   "cell_type": "markdown",
   "id": "2e5bd5ed",
   "metadata": {
    "papermill": {
     "duration": 0.040198,
     "end_time": "2022-02-07T07:53:24.054108",
     "exception": false,
     "start_time": "2022-02-07T07:53:24.013910",
     "status": "completed"
    },
    "tags": []
   },
   "source": [
    "# Analyze duplicates"
   ]
  },
  {
   "cell_type": "code",
   "execution_count": 7,
   "id": "29a2160f",
   "metadata": {
    "execution": {
     "iopub.execute_input": "2022-02-07T07:53:24.150567Z",
     "iopub.status.busy": "2022-02-07T07:53:24.149850Z",
     "iopub.status.idle": "2022-02-07T07:53:24.335117Z",
     "shell.execute_reply": "2022-02-07T07:53:24.335574Z",
     "shell.execute_reply.started": "2022-02-07T06:38:39.926881Z"
    },
    "papermill": {
     "duration": 0.238595,
     "end_time": "2022-02-07T07:53:24.335795",
     "exception": false,
     "start_time": "2022-02-07T07:53:24.097200",
     "status": "completed"
    },
    "tags": []
   },
   "outputs": [
    {
     "name": "stdout",
     "output_type": "stream",
     "text": [
      "(12993, 19)\n"
     ]
    },
    {
     "data": {
      "text/html": [
       "<div>\n",
       "<style scoped>\n",
       "    .dataframe tbody tr th:only-of-type {\n",
       "        vertical-align: middle;\n",
       "    }\n",
       "\n",
       "    .dataframe tbody tr th {\n",
       "        vertical-align: top;\n",
       "    }\n",
       "\n",
       "    .dataframe thead th {\n",
       "        text-align: right;\n",
       "    }\n",
       "</style>\n",
       "<table border=\"1\" class=\"dataframe\">\n",
       "  <thead>\n",
       "    <tr style=\"text-align: right;\">\n",
       "      <th></th>\n",
       "      <th>STATION</th>\n",
       "      <th>DATE</th>\n",
       "      <th>LATITUDE</th>\n",
       "      <th>LONGITUDE</th>\n",
       "      <th>ELEVATION</th>\n",
       "      <th>NAME</th>\n",
       "      <th>TEMP</th>\n",
       "      <th>DEWP</th>\n",
       "      <th>SLP</th>\n",
       "      <th>STP</th>\n",
       "      <th>VISIB</th>\n",
       "      <th>WDSP</th>\n",
       "      <th>MXSPD</th>\n",
       "      <th>GUST</th>\n",
       "      <th>MAX</th>\n",
       "      <th>MIN</th>\n",
       "      <th>PRCP</th>\n",
       "      <th>SNDP</th>\n",
       "      <th>FRSHTT</th>\n",
       "    </tr>\n",
       "  </thead>\n",
       "  <tbody>\n",
       "    <tr>\n",
       "      <th>69783</th>\n",
       "      <td>95719099999</td>\n",
       "      <td>2013-01-01</td>\n",
       "      <td>-32.22</td>\n",
       "      <td>148.57</td>\n",
       "      <td>285.0</td>\n",
       "      <td>DUBBO AIRPORT AWS, AS</td>\n",
       "      <td>82.6</td>\n",
       "      <td>38.1</td>\n",
       "      <td>1009.6</td>\n",
       "      <td>977.4</td>\n",
       "      <td>999.9</td>\n",
       "      <td>7.2</td>\n",
       "      <td>15.9</td>\n",
       "      <td>999.9</td>\n",
       "      <td>103.3</td>\n",
       "      <td>56.8</td>\n",
       "      <td>0.0</td>\n",
       "      <td>999.9</td>\n",
       "      <td>0</td>\n",
       "    </tr>\n",
       "    <tr>\n",
       "      <th>69784</th>\n",
       "      <td>95719099999</td>\n",
       "      <td>2013-01-02</td>\n",
       "      <td>-32.22</td>\n",
       "      <td>148.57</td>\n",
       "      <td>285.0</td>\n",
       "      <td>DUBBO AIRPORT AWS, AS</td>\n",
       "      <td>80.9</td>\n",
       "      <td>42.8</td>\n",
       "      <td>1011.1</td>\n",
       "      <td>978.9</td>\n",
       "      <td>999.9</td>\n",
       "      <td>11.4</td>\n",
       "      <td>15.9</td>\n",
       "      <td>999.9</td>\n",
       "      <td>100.9</td>\n",
       "      <td>56.3</td>\n",
       "      <td>0.0</td>\n",
       "      <td>999.9</td>\n",
       "      <td>0</td>\n",
       "    </tr>\n",
       "    <tr>\n",
       "      <th>69785</th>\n",
       "      <td>95719099999</td>\n",
       "      <td>2013-01-03</td>\n",
       "      <td>-32.22</td>\n",
       "      <td>148.57</td>\n",
       "      <td>285.0</td>\n",
       "      <td>DUBBO AIRPORT AWS, AS</td>\n",
       "      <td>79.4</td>\n",
       "      <td>55.8</td>\n",
       "      <td>1011.7</td>\n",
       "      <td>979.5</td>\n",
       "      <td>999.9</td>\n",
       "      <td>11.9</td>\n",
       "      <td>18.1</td>\n",
       "      <td>999.9</td>\n",
       "      <td>97.3</td>\n",
       "      <td>64.8</td>\n",
       "      <td>0.0</td>\n",
       "      <td>999.9</td>\n",
       "      <td>0</td>\n",
       "    </tr>\n",
       "    <tr>\n",
       "      <th>69786</th>\n",
       "      <td>95719099999</td>\n",
       "      <td>2013-01-04</td>\n",
       "      <td>-32.22</td>\n",
       "      <td>148.57</td>\n",
       "      <td>285.0</td>\n",
       "      <td>DUBBO AIRPORT AWS, AS</td>\n",
       "      <td>88.0</td>\n",
       "      <td>55.3</td>\n",
       "      <td>1010.7</td>\n",
       "      <td>978.5</td>\n",
       "      <td>999.9</td>\n",
       "      <td>8.9</td>\n",
       "      <td>14.0</td>\n",
       "      <td>999.9</td>\n",
       "      <td>101.7</td>\n",
       "      <td>64.8</td>\n",
       "      <td>0.0</td>\n",
       "      <td>999.9</td>\n",
       "      <td>0</td>\n",
       "    </tr>\n",
       "    <tr>\n",
       "      <th>69787</th>\n",
       "      <td>95719099999</td>\n",
       "      <td>2013-01-05</td>\n",
       "      <td>-32.22</td>\n",
       "      <td>148.57</td>\n",
       "      <td>285.0</td>\n",
       "      <td>DUBBO AIRPORT AWS, AS</td>\n",
       "      <td>89.8</td>\n",
       "      <td>53.7</td>\n",
       "      <td>1013.6</td>\n",
       "      <td>981.3</td>\n",
       "      <td>999.9</td>\n",
       "      <td>7.4</td>\n",
       "      <td>13.0</td>\n",
       "      <td>999.9</td>\n",
       "      <td>102.9</td>\n",
       "      <td>71.2</td>\n",
       "      <td>0.0</td>\n",
       "      <td>999.9</td>\n",
       "      <td>0</td>\n",
       "    </tr>\n",
       "  </tbody>\n",
       "</table>\n",
       "</div>"
      ],
      "text/plain": [
       "           STATION       DATE  LATITUDE  LONGITUDE  ELEVATION  \\\n",
       "69783  95719099999 2013-01-01    -32.22     148.57      285.0   \n",
       "69784  95719099999 2013-01-02    -32.22     148.57      285.0   \n",
       "69785  95719099999 2013-01-03    -32.22     148.57      285.0   \n",
       "69786  95719099999 2013-01-04    -32.22     148.57      285.0   \n",
       "69787  95719099999 2013-01-05    -32.22     148.57      285.0   \n",
       "\n",
       "                        NAME  TEMP  DEWP     SLP    STP  VISIB  WDSP  MXSPD  \\\n",
       "69783  DUBBO AIRPORT AWS, AS  82.6  38.1  1009.6  977.4  999.9   7.2   15.9   \n",
       "69784  DUBBO AIRPORT AWS, AS  80.9  42.8  1011.1  978.9  999.9  11.4   15.9   \n",
       "69785  DUBBO AIRPORT AWS, AS  79.4  55.8  1011.7  979.5  999.9  11.9   18.1   \n",
       "69786  DUBBO AIRPORT AWS, AS  88.0  55.3  1010.7  978.5  999.9   8.9   14.0   \n",
       "69787  DUBBO AIRPORT AWS, AS  89.8  53.7  1013.6  981.3  999.9   7.4   13.0   \n",
       "\n",
       "        GUST    MAX   MIN  PRCP   SNDP  FRSHTT  \n",
       "69783  999.9  103.3  56.8   0.0  999.9       0  \n",
       "69784  999.9  100.9  56.3   0.0  999.9       0  \n",
       "69785  999.9   97.3  64.8   0.0  999.9       0  \n",
       "69786  999.9  101.7  64.8   0.0  999.9       0  \n",
       "69787  999.9  102.9  71.2   0.0  999.9       0  "
      ]
     },
     "execution_count": 7,
     "metadata": {},
     "output_type": "execute_result"
    }
   ],
   "source": [
    "# Selecting duplicate rows based\n",
    "# on list of column names\n",
    "aus_weather_d = aus_weather[aus_weather.duplicated(['DATE', 'LATITUDE', 'LONGITUDE'])]\n",
    "# df.drop_duplicates(subset=['DATE', 'LATITUDE', 'LONGITUDE'], keep=False, inplace=True)\n",
    "print(aus_weather_d.shape)\n",
    "aus_weather_d.head()"
   ]
  },
  {
   "cell_type": "code",
   "execution_count": 8,
   "id": "a2f1c009",
   "metadata": {
    "execution": {
     "iopub.execute_input": "2022-02-07T07:53:24.425455Z",
     "iopub.status.busy": "2022-02-07T07:53:24.424624Z",
     "iopub.status.idle": "2022-02-07T07:53:24.438539Z",
     "shell.execute_reply": "2022-02-07T07:53:24.437874Z",
     "shell.execute_reply.started": "2022-02-07T06:38:40.13691Z"
    },
    "papermill": {
     "duration": 0.061651,
     "end_time": "2022-02-07T07:53:24.438696",
     "exception": false,
     "start_time": "2022-02-07T07:53:24.377045",
     "status": "completed"
    },
    "tags": []
   },
   "outputs": [
    {
     "name": "stdout",
     "output_type": "stream",
     "text": [
      "Number of unique stations 595\n"
     ]
    }
   ],
   "source": [
    "print('Number of unique stations', len(aus_weather['STATION'].unique()))"
   ]
  },
  {
   "cell_type": "code",
   "execution_count": 9,
   "id": "d17801a4",
   "metadata": {
    "execution": {
     "iopub.execute_input": "2022-02-07T07:53:24.530542Z",
     "iopub.status.busy": "2022-02-07T07:53:24.529885Z",
     "iopub.status.idle": "2022-02-07T07:53:24.541901Z",
     "shell.execute_reply": "2022-02-07T07:53:24.541204Z",
     "shell.execute_reply.started": "2022-02-07T06:38:40.155743Z"
    },
    "papermill": {
     "duration": 0.061938,
     "end_time": "2022-02-07T07:53:24.542043",
     "exception": false,
     "start_time": "2022-02-07T07:53:24.480105",
     "status": "completed"
    },
    "tags": []
   },
   "outputs": [
    {
     "name": "stdout",
     "output_type": "stream",
     "text": [
      "Lat range -39.88 -10.05\n",
      "Lng range 113.52 154.4\n"
     ]
    }
   ],
   "source": [
    "print('Lat range', aus_weather['LATITUDE'].min(), aus_weather['LATITUDE'].max())\n",
    "print('Lng range', aus_weather['LONGITUDE'].min(), aus_weather['LONGITUDE'].max())"
   ]
  },
  {
   "cell_type": "markdown",
   "id": "ddb670b3",
   "metadata": {
    "papermill": {
     "duration": 0.041149,
     "end_time": "2022-02-07T07:53:24.625110",
     "exception": false,
     "start_time": "2022-02-07T07:53:24.583961",
     "status": "completed"
    },
    "tags": []
   },
   "source": [
    "# Remove stations that have less than 108 measurements"
   ]
  },
  {
   "cell_type": "code",
   "execution_count": 10,
   "id": "399de9d5",
   "metadata": {
    "execution": {
     "iopub.execute_input": "2022-02-07T07:53:24.717202Z",
     "iopub.status.busy": "2022-02-07T07:53:24.716501Z",
     "iopub.status.idle": "2022-02-07T07:53:25.349018Z",
     "shell.execute_reply": "2022-02-07T07:53:25.348318Z",
     "shell.execute_reply.started": "2022-02-07T06:38:40.172357Z"
    },
    "papermill": {
     "duration": 0.682223,
     "end_time": "2022-02-07T07:53:25.349169",
     "exception": false,
     "start_time": "2022-02-07T07:53:24.666946",
     "status": "completed"
    },
    "tags": []
   },
   "outputs": [
    {
     "data": {
      "text/plain": [
       "(49924, 11)"
      ]
     },
     "execution_count": 10,
     "metadata": {},
     "output_type": "execute_result"
    },
    {
     "data": {
      "text/html": [
       "<div>\n",
       "<style scoped>\n",
       "    .dataframe tbody tr th:only-of-type {\n",
       "        vertical-align: middle;\n",
       "    }\n",
       "\n",
       "    .dataframe tbody tr th {\n",
       "        vertical-align: top;\n",
       "    }\n",
       "\n",
       "    .dataframe thead th {\n",
       "        text-align: right;\n",
       "    }\n",
       "</style>\n",
       "<table border=\"1\" class=\"dataframe\">\n",
       "  <thead>\n",
       "    <tr style=\"text-align: right;\">\n",
       "      <th></th>\n",
       "      <th>STATION</th>\n",
       "      <th>LATITUDE</th>\n",
       "      <th>LONGITUDE</th>\n",
       "      <th>year</th>\n",
       "      <th>month</th>\n",
       "      <th>T_MAX</th>\n",
       "      <th>T_MAX_MEAN</th>\n",
       "      <th>T_MEAN</th>\n",
       "      <th>DEWP_MEAN</th>\n",
       "      <th>WDSP_MEAN</th>\n",
       "      <th>MXSPD_MAX</th>\n",
       "    </tr>\n",
       "  </thead>\n",
       "  <tbody>\n",
       "    <tr>\n",
       "      <th>0</th>\n",
       "      <td>94100099999</td>\n",
       "      <td>-14.3</td>\n",
       "      <td>126.63</td>\n",
       "      <td>2013</td>\n",
       "      <td>1</td>\n",
       "      <td>98.2</td>\n",
       "      <td>92.912903</td>\n",
       "      <td>83.251613</td>\n",
       "      <td>73.677419</td>\n",
       "      <td>4.151613</td>\n",
       "      <td>15.9</td>\n",
       "    </tr>\n",
       "    <tr>\n",
       "      <th>1</th>\n",
       "      <td>94100099999</td>\n",
       "      <td>-14.3</td>\n",
       "      <td>126.63</td>\n",
       "      <td>2013</td>\n",
       "      <td>2</td>\n",
       "      <td>98.8</td>\n",
       "      <td>92.392857</td>\n",
       "      <td>81.314286</td>\n",
       "      <td>72.925000</td>\n",
       "      <td>3.271429</td>\n",
       "      <td>18.1</td>\n",
       "    </tr>\n",
       "    <tr>\n",
       "      <th>2</th>\n",
       "      <td>94100099999</td>\n",
       "      <td>-14.3</td>\n",
       "      <td>126.63</td>\n",
       "      <td>2013</td>\n",
       "      <td>3</td>\n",
       "      <td>98.6</td>\n",
       "      <td>94.161290</td>\n",
       "      <td>81.209677</td>\n",
       "      <td>72.329032</td>\n",
       "      <td>3.022581</td>\n",
       "      <td>11.1</td>\n",
       "    </tr>\n",
       "    <tr>\n",
       "      <th>3</th>\n",
       "      <td>94100099999</td>\n",
       "      <td>-14.3</td>\n",
       "      <td>126.63</td>\n",
       "      <td>2013</td>\n",
       "      <td>4</td>\n",
       "      <td>100.2</td>\n",
       "      <td>94.876667</td>\n",
       "      <td>79.353333</td>\n",
       "      <td>64.230000</td>\n",
       "      <td>3.613333</td>\n",
       "      <td>11.1</td>\n",
       "    </tr>\n",
       "    <tr>\n",
       "      <th>4</th>\n",
       "      <td>94100099999</td>\n",
       "      <td>-14.3</td>\n",
       "      <td>126.63</td>\n",
       "      <td>2013</td>\n",
       "      <td>5</td>\n",
       "      <td>98.4</td>\n",
       "      <td>91.987097</td>\n",
       "      <td>78.706452</td>\n",
       "      <td>64.177419</td>\n",
       "      <td>3.748387</td>\n",
       "      <td>12.0</td>\n",
       "    </tr>\n",
       "  </tbody>\n",
       "</table>\n",
       "</div>"
      ],
      "text/plain": [
       "       STATION  LATITUDE  LONGITUDE  year  month  T_MAX  T_MAX_MEAN  \\\n",
       "0  94100099999     -14.3     126.63  2013      1   98.2   92.912903   \n",
       "1  94100099999     -14.3     126.63  2013      2   98.8   92.392857   \n",
       "2  94100099999     -14.3     126.63  2013      3   98.6   94.161290   \n",
       "3  94100099999     -14.3     126.63  2013      4  100.2   94.876667   \n",
       "4  94100099999     -14.3     126.63  2013      5   98.4   91.987097   \n",
       "\n",
       "      T_MEAN  DEWP_MEAN  WDSP_MEAN  MXSPD_MAX  \n",
       "0  83.251613  73.677419   4.151613       15.9  \n",
       "1  81.314286  72.925000   3.271429       18.1  \n",
       "2  81.209677  72.329032   3.022581       11.1  \n",
       "3  79.353333  64.230000   3.613333       11.1  \n",
       "4  78.706452  64.177419   3.748387       12.0  "
      ]
     },
     "execution_count": 10,
     "metadata": {},
     "output_type": "execute_result"
    },
    {
     "data": {
      "text/plain": [
       "STATION         595\n",
       "LATITUDE        481\n",
       "LONGITUDE       506\n",
       "year              9\n",
       "month            12\n",
       "T_MAX           470\n",
       "T_MAX_MEAN    28563\n",
       "T_MEAN        27248\n",
       "DEWP_MEAN     25790\n",
       "WDSP_MEAN     13494\n",
       "MXSPD_MAX       116\n",
       "dtype: int64"
      ]
     },
     "execution_count": 10,
     "metadata": {},
     "output_type": "execute_result"
    }
   ],
   "source": [
    "aus_weather['year'] = aus_weather.DATE.dt.year\n",
    "aus_weather['month'] = aus_weather.DATE.dt.month\n",
    "#aus_weather.latitude = aus_fires.latitude.round(PRECISION)\n",
    "#aus_weather.longitude = aus_fires.longitude.round(PRECISION)\n",
    "#fires = aus_weather.groupby(['STATION', 'LATITUDE', 'LONGITUDE', 'year', 'month']).size().reset_index()\n",
    "\n",
    "#aus_wth_agg = aus_weather.groupby(['STATION', 'LATITUDE', 'LONGITUDE', 'year', 'month']) \\\n",
    " #   .agg({'TEMP':'mean','DEWP':'sum', 'WDSP':'sum', 'MAX':'max', 'MIN': 'min'}) \\\n",
    "  #  .reset_index()\n",
    "\n",
    "aus_wth_agg = aus_weather.groupby(['STATION', 'LATITUDE', 'LONGITUDE', 'year', 'month']) \\\n",
    "    .agg(T_MAX=('MAX', 'max'), T_MAX_MEAN=('MAX', 'mean'), T_MEAN=('TEMP', 'mean'), \\\n",
    "         DEWP_MEAN=('DEWP', 'mean'), WDSP_MEAN=('WDSP', 'mean'), \\\n",
    "         MXSPD_MAX=('MXSPD', 'max')) \\\n",
    "    .reset_index()\n",
    "\n",
    "#fires.columns = ['latitude', 'longitude', 'year', 'month', 'temp_avg']\n",
    "\n",
    "aus_wth_agg.shape\n",
    "aus_wth_agg.head()\n",
    "aus_wth_agg.nunique()"
   ]
  },
  {
   "cell_type": "markdown",
   "id": "7e1d0d22",
   "metadata": {
    "papermill": {
     "duration": 0.042221,
     "end_time": "2022-02-07T07:53:25.434202",
     "exception": false,
     "start_time": "2022-02-07T07:53:25.391981",
     "status": "completed"
    },
    "tags": []
   },
   "source": [
    "# Detect stations and its number of observations"
   ]
  },
  {
   "cell_type": "code",
   "execution_count": 11,
   "id": "6f17f574",
   "metadata": {
    "execution": {
     "iopub.execute_input": "2022-02-07T07:53:25.527752Z",
     "iopub.status.busy": "2022-02-07T07:53:25.527060Z",
     "iopub.status.idle": "2022-02-07T07:53:25.558051Z",
     "shell.execute_reply": "2022-02-07T07:53:25.557356Z",
     "shell.execute_reply.started": "2022-02-07T06:38:40.80476Z"
    },
    "papermill": {
     "duration": 0.081262,
     "end_time": "2022-02-07T07:53:25.558209",
     "exception": false,
     "start_time": "2022-02-07T07:53:25.476947",
     "status": "completed"
    },
    "tags": []
   },
   "outputs": [
    {
     "data": {
      "text/plain": [
       "(595, 5)"
      ]
     },
     "execution_count": 11,
     "metadata": {},
     "output_type": "execute_result"
    },
    {
     "name": "stdout",
     "output_type": "stream",
     "text": [
      "Max observations 108\n",
      "Min observations 1\n"
     ]
    },
    {
     "data": {
      "text/plain": [
       "(78, 5)"
      ]
     },
     "execution_count": 11,
     "metadata": {},
     "output_type": "execute_result"
    },
    {
     "data": {
      "text/html": [
       "<div>\n",
       "<style scoped>\n",
       "    .dataframe tbody tr th:only-of-type {\n",
       "        vertical-align: middle;\n",
       "    }\n",
       "\n",
       "    .dataframe tbody tr th {\n",
       "        vertical-align: top;\n",
       "    }\n",
       "\n",
       "    .dataframe thead th {\n",
       "        text-align: right;\n",
       "    }\n",
       "</style>\n",
       "<table border=\"1\" class=\"dataframe\">\n",
       "  <thead>\n",
       "    <tr style=\"text-align: right;\">\n",
       "      <th></th>\n",
       "      <th>STAT_ID</th>\n",
       "      <th>STATION</th>\n",
       "      <th>LATITUDE</th>\n",
       "      <th>LONGITUDE</th>\n",
       "      <th>count</th>\n",
       "    </tr>\n",
       "  </thead>\n",
       "  <tbody>\n",
       "    <tr>\n",
       "      <th>0</th>\n",
       "      <td>1</td>\n",
       "      <td>94100099999</td>\n",
       "      <td>-14.30</td>\n",
       "      <td>126.63</td>\n",
       "      <td>108</td>\n",
       "    </tr>\n",
       "    <tr>\n",
       "      <th>1</th>\n",
       "      <td>2</td>\n",
       "      <td>94102099999</td>\n",
       "      <td>-13.75</td>\n",
       "      <td>126.15</td>\n",
       "      <td>108</td>\n",
       "    </tr>\n",
       "    <tr>\n",
       "      <th>2</th>\n",
       "      <td>3</td>\n",
       "      <td>94103099999</td>\n",
       "      <td>-14.12</td>\n",
       "      <td>123.53</td>\n",
       "      <td>91</td>\n",
       "    </tr>\n",
       "    <tr>\n",
       "      <th>3</th>\n",
       "      <td>4</td>\n",
       "      <td>94105099999</td>\n",
       "      <td>-12.62</td>\n",
       "      <td>131.05</td>\n",
       "      <td>92</td>\n",
       "    </tr>\n",
       "    <tr>\n",
       "      <th>4</th>\n",
       "      <td>5</td>\n",
       "      <td>94106099999</td>\n",
       "      <td>-14.72</td>\n",
       "      <td>134.75</td>\n",
       "      <td>92</td>\n",
       "    </tr>\n",
       "  </tbody>\n",
       "</table>\n",
       "</div>"
      ],
      "text/plain": [
       "   STAT_ID      STATION  LATITUDE  LONGITUDE  count\n",
       "0        1  94100099999    -14.30     126.63    108\n",
       "1        2  94102099999    -13.75     126.15    108\n",
       "2        3  94103099999    -14.12     123.53     91\n",
       "3        4  94105099999    -12.62     131.05     92\n",
       "4        5  94106099999    -14.72     134.75     92"
      ]
     },
     "execution_count": 11,
     "metadata": {},
     "output_type": "execute_result"
    }
   ],
   "source": [
    "st_cnt_sample = aus_wth_agg.groupby(['STATION','LATITUDE','LONGITUDE']).size().reset_index().rename(columns={0:'count'})\n",
    "\n",
    "st_cnt_sample = st_cnt_sample.reset_index()\n",
    "st_cnt_sample = st_cnt_sample.rename(columns={\"index\":\"STAT_ID\"})\n",
    "st_cnt_sample['STAT_ID'] = st_cnt_sample.index + 1\n",
    "\n",
    "st_cnt_sample.shape\n",
    "print('Max observations', st_cnt_sample['count'].max())\n",
    "print('Min observations', st_cnt_sample['count'].min())\n",
    "#st_cnt_sample.head()\n",
    "# how many stations have only one observation\n",
    "st_cnt_sample[st_cnt_sample['count'] == 1].shape\n",
    "st_cnt_sample.head()"
   ]
  },
  {
   "cell_type": "code",
   "execution_count": 12,
   "id": "f7a55d1b",
   "metadata": {
    "execution": {
     "iopub.execute_input": "2022-02-07T07:53:25.659933Z",
     "iopub.status.busy": "2022-02-07T07:53:25.658944Z",
     "iopub.status.idle": "2022-02-07T07:53:25.662451Z",
     "shell.execute_reply": "2022-02-07T07:53:25.663039Z",
     "shell.execute_reply.started": "2022-02-07T06:38:40.836349Z"
    },
    "papermill": {
     "duration": 0.059794,
     "end_time": "2022-02-07T07:53:25.663241",
     "exception": false,
     "start_time": "2022-02-07T07:53:25.603447",
     "status": "completed"
    },
    "tags": []
   },
   "outputs": [
    {
     "data": {
      "text/plain": [
       "(393, 5)"
      ]
     },
     "execution_count": 12,
     "metadata": {},
     "output_type": "execute_result"
    }
   ],
   "source": [
    "# remote stations that do not have 12 * 9 = 108 month data (up to december 2021)\n",
    "st_cnt_sample_108 = st_cnt_sample[st_cnt_sample['count'] >= 108]\n",
    "st_cnt_sample_108.shape"
   ]
  },
  {
   "cell_type": "code",
   "execution_count": 13,
   "id": "b027ba59",
   "metadata": {
    "execution": {
     "iopub.execute_input": "2022-02-07T07:53:25.760881Z",
     "iopub.status.busy": "2022-02-07T07:53:25.760087Z",
     "iopub.status.idle": "2022-02-07T07:53:25.775962Z",
     "shell.execute_reply": "2022-02-07T07:53:25.776497Z",
     "shell.execute_reply.started": "2022-02-07T06:38:40.84507Z"
    },
    "papermill": {
     "duration": 0.067791,
     "end_time": "2022-02-07T07:53:25.776753",
     "exception": false,
     "start_time": "2022-02-07T07:53:25.708962",
     "status": "completed"
    },
    "tags": []
   },
   "outputs": [
    {
     "data": {
      "text/plain": [
       "(393, 5)"
      ]
     },
     "execution_count": 13,
     "metadata": {},
     "output_type": "execute_result"
    },
    {
     "data": {
      "text/html": [
       "<div>\n",
       "<style scoped>\n",
       "    .dataframe tbody tr th:only-of-type {\n",
       "        vertical-align: middle;\n",
       "    }\n",
       "\n",
       "    .dataframe tbody tr th {\n",
       "        vertical-align: top;\n",
       "    }\n",
       "\n",
       "    .dataframe thead th {\n",
       "        text-align: right;\n",
       "    }\n",
       "</style>\n",
       "<table border=\"1\" class=\"dataframe\">\n",
       "  <thead>\n",
       "    <tr style=\"text-align: right;\">\n",
       "      <th></th>\n",
       "      <th>STAT_ID</th>\n",
       "      <th>STATION</th>\n",
       "      <th>LATITUDE</th>\n",
       "      <th>LONGITUDE</th>\n",
       "      <th>count</th>\n",
       "    </tr>\n",
       "  </thead>\n",
       "  <tbody>\n",
       "    <tr>\n",
       "      <th>2</th>\n",
       "      <td>3</td>\n",
       "      <td>94103099999</td>\n",
       "      <td>-14.12</td>\n",
       "      <td>123.53</td>\n",
       "      <td>91</td>\n",
       "    </tr>\n",
       "    <tr>\n",
       "      <th>3</th>\n",
       "      <td>4</td>\n",
       "      <td>94105099999</td>\n",
       "      <td>-12.62</td>\n",
       "      <td>131.05</td>\n",
       "      <td>92</td>\n",
       "    </tr>\n",
       "    <tr>\n",
       "      <th>4</th>\n",
       "      <td>5</td>\n",
       "      <td>94106099999</td>\n",
       "      <td>-14.72</td>\n",
       "      <td>134.75</td>\n",
       "      <td>92</td>\n",
       "    </tr>\n",
       "    <tr>\n",
       "      <th>5</th>\n",
       "      <td>6</td>\n",
       "      <td>94108099999</td>\n",
       "      <td>-11.17</td>\n",
       "      <td>132.48</td>\n",
       "      <td>90</td>\n",
       "    </tr>\n",
       "    <tr>\n",
       "      <th>6</th>\n",
       "      <td>7</td>\n",
       "      <td>94109099999</td>\n",
       "      <td>-11.55</td>\n",
       "      <td>132.93</td>\n",
       "      <td>92</td>\n",
       "    </tr>\n",
       "  </tbody>\n",
       "</table>\n",
       "</div>"
      ],
      "text/plain": [
       "   STAT_ID      STATION  LATITUDE  LONGITUDE  count\n",
       "2        3  94103099999    -14.12     123.53     91\n",
       "3        4  94105099999    -12.62     131.05     92\n",
       "4        5  94106099999    -14.72     134.75     92\n",
       "5        6  94108099999    -11.17     132.48     90\n",
       "6        7  94109099999    -11.55     132.93     92"
      ]
     },
     "execution_count": 13,
     "metadata": {},
     "output_type": "execute_result"
    }
   ],
   "source": [
    "# drop non relevant stations\n",
    "st_cnt_sample_del = st_cnt_sample[st_cnt_sample['count'] < 108]\n",
    "st_cnt_sample = st_cnt_sample.drop(st_cnt_sample_del.index)\n",
    "\n",
    "st_cnt_sample.shape\n",
    "st_cnt_sample_del.head()"
   ]
  },
  {
   "cell_type": "code",
   "execution_count": 14,
   "id": "9239e342",
   "metadata": {
    "execution": {
     "iopub.execute_input": "2022-02-07T07:53:25.873099Z",
     "iopub.status.busy": "2022-02-07T07:53:25.872173Z",
     "iopub.status.idle": "2022-02-07T07:53:25.904791Z",
     "shell.execute_reply": "2022-02-07T07:53:25.904200Z",
     "shell.execute_reply.started": "2022-02-07T06:38:40.865924Z"
    },
    "papermill": {
     "duration": 0.082184,
     "end_time": "2022-02-07T07:53:25.904951",
     "exception": false,
     "start_time": "2022-02-07T07:53:25.822767",
     "status": "completed"
    },
    "tags": []
   },
   "outputs": [
    {
     "name": "stdout",
     "output_type": "stream",
     "text": [
      "Remove stations 202\n"
     ]
    },
    {
     "data": {
      "text/plain": [
       "(42444, 11)"
      ]
     },
     "execution_count": 14,
     "metadata": {},
     "output_type": "execute_result"
    },
    {
     "data": {
      "text/html": [
       "<div>\n",
       "<style scoped>\n",
       "    .dataframe tbody tr th:only-of-type {\n",
       "        vertical-align: middle;\n",
       "    }\n",
       "\n",
       "    .dataframe tbody tr th {\n",
       "        vertical-align: top;\n",
       "    }\n",
       "\n",
       "    .dataframe thead th {\n",
       "        text-align: right;\n",
       "    }\n",
       "</style>\n",
       "<table border=\"1\" class=\"dataframe\">\n",
       "  <thead>\n",
       "    <tr style=\"text-align: right;\">\n",
       "      <th></th>\n",
       "      <th>STATION</th>\n",
       "      <th>LATITUDE</th>\n",
       "      <th>LONGITUDE</th>\n",
       "      <th>year</th>\n",
       "      <th>month</th>\n",
       "      <th>T_MAX</th>\n",
       "      <th>T_MAX_MEAN</th>\n",
       "      <th>T_MEAN</th>\n",
       "      <th>DEWP_MEAN</th>\n",
       "      <th>WDSP_MEAN</th>\n",
       "      <th>MXSPD_MAX</th>\n",
       "    </tr>\n",
       "  </thead>\n",
       "  <tbody>\n",
       "    <tr>\n",
       "      <th>0</th>\n",
       "      <td>94100099999</td>\n",
       "      <td>-14.3</td>\n",
       "      <td>126.63</td>\n",
       "      <td>2013</td>\n",
       "      <td>1</td>\n",
       "      <td>98.2</td>\n",
       "      <td>92.912903</td>\n",
       "      <td>83.251613</td>\n",
       "      <td>73.677419</td>\n",
       "      <td>4.151613</td>\n",
       "      <td>15.9</td>\n",
       "    </tr>\n",
       "    <tr>\n",
       "      <th>1</th>\n",
       "      <td>94100099999</td>\n",
       "      <td>-14.3</td>\n",
       "      <td>126.63</td>\n",
       "      <td>2013</td>\n",
       "      <td>2</td>\n",
       "      <td>98.8</td>\n",
       "      <td>92.392857</td>\n",
       "      <td>81.314286</td>\n",
       "      <td>72.925000</td>\n",
       "      <td>3.271429</td>\n",
       "      <td>18.1</td>\n",
       "    </tr>\n",
       "    <tr>\n",
       "      <th>2</th>\n",
       "      <td>94100099999</td>\n",
       "      <td>-14.3</td>\n",
       "      <td>126.63</td>\n",
       "      <td>2013</td>\n",
       "      <td>3</td>\n",
       "      <td>98.6</td>\n",
       "      <td>94.161290</td>\n",
       "      <td>81.209677</td>\n",
       "      <td>72.329032</td>\n",
       "      <td>3.022581</td>\n",
       "      <td>11.1</td>\n",
       "    </tr>\n",
       "    <tr>\n",
       "      <th>3</th>\n",
       "      <td>94100099999</td>\n",
       "      <td>-14.3</td>\n",
       "      <td>126.63</td>\n",
       "      <td>2013</td>\n",
       "      <td>4</td>\n",
       "      <td>100.2</td>\n",
       "      <td>94.876667</td>\n",
       "      <td>79.353333</td>\n",
       "      <td>64.230000</td>\n",
       "      <td>3.613333</td>\n",
       "      <td>11.1</td>\n",
       "    </tr>\n",
       "    <tr>\n",
       "      <th>4</th>\n",
       "      <td>94100099999</td>\n",
       "      <td>-14.3</td>\n",
       "      <td>126.63</td>\n",
       "      <td>2013</td>\n",
       "      <td>5</td>\n",
       "      <td>98.4</td>\n",
       "      <td>91.987097</td>\n",
       "      <td>78.706452</td>\n",
       "      <td>64.177419</td>\n",
       "      <td>3.748387</td>\n",
       "      <td>12.0</td>\n",
       "    </tr>\n",
       "  </tbody>\n",
       "</table>\n",
       "</div>"
      ],
      "text/plain": [
       "       STATION  LATITUDE  LONGITUDE  year  month  T_MAX  T_MAX_MEAN  \\\n",
       "0  94100099999     -14.3     126.63  2013      1   98.2   92.912903   \n",
       "1  94100099999     -14.3     126.63  2013      2   98.8   92.392857   \n",
       "2  94100099999     -14.3     126.63  2013      3   98.6   94.161290   \n",
       "3  94100099999     -14.3     126.63  2013      4  100.2   94.876667   \n",
       "4  94100099999     -14.3     126.63  2013      5   98.4   91.987097   \n",
       "\n",
       "      T_MEAN  DEWP_MEAN  WDSP_MEAN  MXSPD_MAX  \n",
       "0  83.251613  73.677419   4.151613       15.9  \n",
       "1  81.314286  72.925000   3.271429       18.1  \n",
       "2  81.209677  72.329032   3.022581       11.1  \n",
       "3  79.353333  64.230000   3.613333       11.1  \n",
       "4  78.706452  64.177419   3.748387       12.0  "
      ]
     },
     "execution_count": 14,
     "metadata": {},
     "output_type": "execute_result"
    }
   ],
   "source": [
    "# remove stations that have less count observations\n",
    "print('Remove stations', len(st_cnt_sample_del['STATION'].unique()))\n",
    "\n",
    "# remove stations that are in st_cnt_sample_del\n",
    "cond = aus_wth_agg['STATION'].isin(st_cnt_sample_del['STATION'])\n",
    "aus_wth_agg.drop(aus_wth_agg[cond].index, inplace = True)\n",
    "\n",
    "aus_wth_agg.shape\n",
    "aus_wth_agg.head()"
   ]
  },
  {
   "cell_type": "code",
   "execution_count": 15,
   "id": "f366133b",
   "metadata": {
    "execution": {
     "iopub.execute_input": "2022-02-07T07:53:26.011468Z",
     "iopub.status.busy": "2022-02-07T07:53:26.010433Z",
     "iopub.status.idle": "2022-02-07T07:53:26.027130Z",
     "shell.execute_reply": "2022-02-07T07:53:26.027636Z",
     "shell.execute_reply.started": "2022-02-07T06:38:40.896486Z"
    },
    "papermill": {
     "duration": 0.075436,
     "end_time": "2022-02-07T07:53:26.027851",
     "exception": false,
     "start_time": "2022-02-07T07:53:25.952415",
     "status": "completed"
    },
    "tags": []
   },
   "outputs": [
    {
     "data": {
      "text/plain": [
       "(393, 5)"
      ]
     },
     "execution_count": 15,
     "metadata": {},
     "output_type": "execute_result"
    },
    {
     "data": {
      "text/html": [
       "<div>\n",
       "<style scoped>\n",
       "    .dataframe tbody tr th:only-of-type {\n",
       "        vertical-align: middle;\n",
       "    }\n",
       "\n",
       "    .dataframe tbody tr th {\n",
       "        vertical-align: top;\n",
       "    }\n",
       "\n",
       "    .dataframe thead th {\n",
       "        text-align: right;\n",
       "    }\n",
       "</style>\n",
       "<table border=\"1\" class=\"dataframe\">\n",
       "  <thead>\n",
       "    <tr style=\"text-align: right;\">\n",
       "      <th></th>\n",
       "      <th>STATION</th>\n",
       "      <th>LATITUDE</th>\n",
       "      <th>LONGITUDE</th>\n",
       "      <th>year</th>\n",
       "      <th>month</th>\n",
       "      <th>T_MAX</th>\n",
       "      <th>T_MAX_MEAN</th>\n",
       "      <th>T_MEAN</th>\n",
       "      <th>DEWP_MEAN</th>\n",
       "      <th>WDSP_MEAN</th>\n",
       "      <th>MXSPD_MAX</th>\n",
       "    </tr>\n",
       "  </thead>\n",
       "  <tbody>\n",
       "    <tr>\n",
       "      <th>0</th>\n",
       "      <td>94100099999</td>\n",
       "      <td>-14.3</td>\n",
       "      <td>126.63</td>\n",
       "      <td>2013</td>\n",
       "      <td>1</td>\n",
       "      <td>98.2</td>\n",
       "      <td>92.912903</td>\n",
       "      <td>83.251613</td>\n",
       "      <td>73.677419</td>\n",
       "      <td>4.151613</td>\n",
       "      <td>15.9</td>\n",
       "    </tr>\n",
       "    <tr>\n",
       "      <th>1</th>\n",
       "      <td>94100099999</td>\n",
       "      <td>-14.3</td>\n",
       "      <td>126.63</td>\n",
       "      <td>2013</td>\n",
       "      <td>2</td>\n",
       "      <td>98.8</td>\n",
       "      <td>92.392857</td>\n",
       "      <td>81.314286</td>\n",
       "      <td>72.925000</td>\n",
       "      <td>3.271429</td>\n",
       "      <td>18.1</td>\n",
       "    </tr>\n",
       "  </tbody>\n",
       "</table>\n",
       "</div>"
      ],
      "text/plain": [
       "       STATION  LATITUDE  LONGITUDE  year  month  T_MAX  T_MAX_MEAN  \\\n",
       "0  94100099999     -14.3     126.63  2013      1   98.2   92.912903   \n",
       "1  94100099999     -14.3     126.63  2013      2   98.8   92.392857   \n",
       "\n",
       "      T_MEAN  DEWP_MEAN  WDSP_MEAN  MXSPD_MAX  \n",
       "0  83.251613  73.677419   4.151613       15.9  \n",
       "1  81.314286  72.925000   3.271429       18.1  "
      ]
     },
     "execution_count": 15,
     "metadata": {},
     "output_type": "execute_result"
    }
   ],
   "source": [
    "st_cnt_sample.shape\n",
    "aus_wth_agg[aus_wth_agg['STATION'] == 94100099999].head(2)"
   ]
  },
  {
   "cell_type": "markdown",
   "id": "8744e9b6",
   "metadata": {
    "papermill": {
     "duration": 0.048182,
     "end_time": "2022-02-07T07:53:26.126263",
     "exception": false,
     "start_time": "2022-02-07T07:53:26.078081",
     "status": "completed"
    },
    "tags": []
   },
   "source": [
    "# Check duplicates again"
   ]
  },
  {
   "cell_type": "code",
   "execution_count": 16,
   "id": "6268a276",
   "metadata": {
    "execution": {
     "iopub.execute_input": "2022-02-07T07:53:26.229133Z",
     "iopub.status.busy": "2022-02-07T07:53:26.228347Z",
     "iopub.status.idle": "2022-02-07T07:53:26.264739Z",
     "shell.execute_reply": "2022-02-07T07:53:26.264207Z",
     "shell.execute_reply.started": "2022-02-07T06:38:40.917021Z"
    },
    "papermill": {
     "duration": 0.088479,
     "end_time": "2022-02-07T07:53:26.264900",
     "exception": false,
     "start_time": "2022-02-07T07:53:26.176421",
     "status": "completed"
    },
    "tags": []
   },
   "outputs": [
    {
     "name": "stdout",
     "output_type": "stream",
     "text": [
      "Before delete (42444, 11)\n",
      "After delete (42012, 11)\n"
     ]
    },
    {
     "data": {
      "text/html": [
       "<div>\n",
       "<style scoped>\n",
       "    .dataframe tbody tr th:only-of-type {\n",
       "        vertical-align: middle;\n",
       "    }\n",
       "\n",
       "    .dataframe tbody tr th {\n",
       "        vertical-align: top;\n",
       "    }\n",
       "\n",
       "    .dataframe thead th {\n",
       "        text-align: right;\n",
       "    }\n",
       "</style>\n",
       "<table border=\"1\" class=\"dataframe\">\n",
       "  <thead>\n",
       "    <tr style=\"text-align: right;\">\n",
       "      <th></th>\n",
       "      <th>STATION</th>\n",
       "      <th>LATITUDE</th>\n",
       "      <th>LONGITUDE</th>\n",
       "      <th>year</th>\n",
       "      <th>month</th>\n",
       "      <th>T_MAX</th>\n",
       "      <th>T_MAX_MEAN</th>\n",
       "      <th>T_MEAN</th>\n",
       "      <th>DEWP_MEAN</th>\n",
       "      <th>WDSP_MEAN</th>\n",
       "      <th>MXSPD_MAX</th>\n",
       "    </tr>\n",
       "  </thead>\n",
       "  <tbody>\n",
       "    <tr>\n",
       "      <th>22100</th>\n",
       "      <td>94719099999</td>\n",
       "      <td>-32.22</td>\n",
       "      <td>148.57</td>\n",
       "      <td>2013</td>\n",
       "      <td>1</td>\n",
       "      <td>111.2</td>\n",
       "      <td>96.916129</td>\n",
       "      <td>82.054839</td>\n",
       "      <td>54.129032</td>\n",
       "      <td>9.912903</td>\n",
       "      <td>35.0</td>\n",
       "    </tr>\n",
       "    <tr>\n",
       "      <th>43790</th>\n",
       "      <td>95719099999</td>\n",
       "      <td>-32.22</td>\n",
       "      <td>148.57</td>\n",
       "      <td>2013</td>\n",
       "      <td>1</td>\n",
       "      <td>113.0</td>\n",
       "      <td>98.487097</td>\n",
       "      <td>81.877419</td>\n",
       "      <td>54.083871</td>\n",
       "      <td>9.825806</td>\n",
       "      <td>22.9</td>\n",
       "    </tr>\n",
       "  </tbody>\n",
       "</table>\n",
       "</div>"
      ],
      "text/plain": [
       "           STATION  LATITUDE  LONGITUDE  year  month  T_MAX  T_MAX_MEAN  \\\n",
       "22100  94719099999    -32.22     148.57  2013      1  111.2   96.916129   \n",
       "43790  95719099999    -32.22     148.57  2013      1  113.0   98.487097   \n",
       "\n",
       "          T_MEAN  DEWP_MEAN  WDSP_MEAN  MXSPD_MAX  \n",
       "22100  82.054839  54.129032   9.912903       35.0  \n",
       "43790  81.877419  54.083871   9.825806       22.9  "
      ]
     },
     "execution_count": 16,
     "metadata": {},
     "output_type": "execute_result"
    }
   ],
   "source": [
    "# Selecting duplicate rows based\n",
    "# on list of column names\n",
    "# sort it first to remove rows relevant to same stations\n",
    "aus_wth_agg.sort_values(by=['STATION'], ascending=True, inplace=True)\n",
    "aus_wth_agg_d = aus_wth_agg[aus_wth_agg.duplicated(['year', 'month', 'LATITUDE', 'LONGITUDE'], keep=False)]\n",
    "\n",
    "print('Before delete', aus_wth_agg.shape)\n",
    "aus_wth_agg.drop_duplicates(subset=['year', 'month', 'LATITUDE', 'LONGITUDE'], keep='first', inplace=True)\n",
    "print('After delete', aus_wth_agg.shape)\n",
    "\n",
    "#aus_weather_d.head()\n",
    "\n",
    "test = aus_wth_agg_d[(aus_wth_agg_d['year'] == 2013) & (aus_wth_agg_d['month'] == 1) & \\\n",
    "                     (aus_wth_agg_d['LATITUDE'] == -32.22)]\n",
    "test.head()"
   ]
  },
  {
   "cell_type": "code",
   "execution_count": 17,
   "id": "4527a83c",
   "metadata": {
    "execution": {
     "iopub.execute_input": "2022-02-07T07:53:26.367381Z",
     "iopub.status.busy": "2022-02-07T07:53:26.366701Z",
     "iopub.status.idle": "2022-02-07T07:53:26.387286Z",
     "shell.execute_reply": "2022-02-07T07:53:26.387924Z",
     "shell.execute_reply.started": "2022-02-07T06:38:40.953241Z"
    },
    "papermill": {
     "duration": 0.073821,
     "end_time": "2022-02-07T07:53:26.388104",
     "exception": false,
     "start_time": "2022-02-07T07:53:26.314283",
     "status": "completed"
    },
    "tags": []
   },
   "outputs": [
    {
     "name": "stdout",
     "output_type": "stream",
     "text": [
      "Stations 393\n"
     ]
    },
    {
     "data": {
      "text/plain": [
       "(389, 5)"
      ]
     },
     "execution_count": 17,
     "metadata": {},
     "output_type": "execute_result"
    },
    {
     "data": {
      "text/html": [
       "<div>\n",
       "<style scoped>\n",
       "    .dataframe tbody tr th:only-of-type {\n",
       "        vertical-align: middle;\n",
       "    }\n",
       "\n",
       "    .dataframe tbody tr th {\n",
       "        vertical-align: top;\n",
       "    }\n",
       "\n",
       "    .dataframe thead th {\n",
       "        text-align: right;\n",
       "    }\n",
       "</style>\n",
       "<table border=\"1\" class=\"dataframe\">\n",
       "  <thead>\n",
       "    <tr style=\"text-align: right;\">\n",
       "      <th></th>\n",
       "      <th>STAT_ID</th>\n",
       "      <th>STATION</th>\n",
       "      <th>LATITUDE</th>\n",
       "      <th>LONGITUDE</th>\n",
       "      <th>count</th>\n",
       "    </tr>\n",
       "  </thead>\n",
       "  <tbody>\n",
       "    <tr>\n",
       "      <th>0</th>\n",
       "      <td>1</td>\n",
       "      <td>94100099999</td>\n",
       "      <td>-14.30</td>\n",
       "      <td>126.63</td>\n",
       "      <td>108</td>\n",
       "    </tr>\n",
       "    <tr>\n",
       "      <th>1</th>\n",
       "      <td>2</td>\n",
       "      <td>94102099999</td>\n",
       "      <td>-13.75</td>\n",
       "      <td>126.15</td>\n",
       "      <td>108</td>\n",
       "    </tr>\n",
       "    <tr>\n",
       "      <th>10</th>\n",
       "      <td>11</td>\n",
       "      <td>94119099999</td>\n",
       "      <td>-11.40</td>\n",
       "      <td>130.42</td>\n",
       "      <td>108</td>\n",
       "    </tr>\n",
       "    <tr>\n",
       "      <th>11</th>\n",
       "      <td>12</td>\n",
       "      <td>94120099999</td>\n",
       "      <td>-12.41</td>\n",
       "      <td>130.88</td>\n",
       "      <td>108</td>\n",
       "    </tr>\n",
       "    <tr>\n",
       "      <th>12</th>\n",
       "      <td>13</td>\n",
       "      <td>94122099999</td>\n",
       "      <td>-11.78</td>\n",
       "      <td>130.02</td>\n",
       "      <td>108</td>\n",
       "    </tr>\n",
       "  </tbody>\n",
       "</table>\n",
       "</div>"
      ],
      "text/plain": [
       "    STAT_ID      STATION  LATITUDE  LONGITUDE  count\n",
       "0         1  94100099999    -14.30     126.63    108\n",
       "1         2  94102099999    -13.75     126.15    108\n",
       "10       11  94119099999    -11.40     130.42    108\n",
       "11       12  94120099999    -12.41     130.88    108\n",
       "12       13  94122099999    -11.78     130.02    108"
      ]
     },
     "execution_count": 17,
     "metadata": {},
     "output_type": "execute_result"
    }
   ],
   "source": [
    "# remove stations that have less count observations\n",
    "print('Stations', len(st_cnt_sample['STATION'].unique()))\n",
    "\n",
    "# remove stations that are in st_cnt_sample_del\n",
    "cond = ~st_cnt_sample['STATION'].isin(aus_wth_agg['STATION'])\n",
    "st_cnt_sample.drop(st_cnt_sample[cond].index, inplace = True)\n",
    "\n",
    "st_cnt_sample.shape\n",
    "st_cnt_sample.head()"
   ]
  },
  {
   "cell_type": "code",
   "execution_count": 18,
   "id": "9e35e1ef",
   "metadata": {
    "execution": {
     "iopub.execute_input": "2022-02-07T07:53:26.497867Z",
     "iopub.status.busy": "2022-02-07T07:53:26.497168Z",
     "iopub.status.idle": "2022-02-07T07:53:27.615357Z",
     "shell.execute_reply": "2022-02-07T07:53:27.615894Z",
     "shell.execute_reply.started": "2022-02-07T06:38:40.972567Z"
    },
    "papermill": {
     "duration": 1.175619,
     "end_time": "2022-02-07T07:53:27.616097",
     "exception": false,
     "start_time": "2022-02-07T07:53:26.440478",
     "status": "completed"
    },
    "tags": []
   },
   "outputs": [
    {
     "data": {
      "text/html": [
       "        <script type=\"text/javascript\">\n",
       "        window.PlotlyConfig = {MathJaxConfig: 'local'};\n",
       "        if (window.MathJax) {MathJax.Hub.Config({SVG: {font: \"STIX-Web\"}});}\n",
       "        if (typeof require !== 'undefined') {\n",
       "        require.undef(\"plotly\");\n",
       "        requirejs.config({\n",
       "            paths: {\n",
       "                'plotly': ['https://cdn.plot.ly/plotly-2.8.3.min']\n",
       "            }\n",
       "        });\n",
       "        require(['plotly'], function(Plotly) {\n",
       "            window._Plotly = Plotly;\n",
       "        });\n",
       "        }\n",
       "        </script>\n",
       "        "
      ]
     },
     "metadata": {},
     "output_type": "display_data"
    },
    {
     "data": {
      "text/html": [
       "<div>                            <div id=\"a92dd6ac-6596-4627-8c83-fdc9de64df30\" class=\"plotly-graph-div\" style=\"height:525px; width:100%;\"></div>            <script type=\"text/javascript\">                require([\"plotly\"], function(Plotly) {                    window.PLOTLYENV=window.PLOTLYENV || {};                                    if (document.getElementById(\"a92dd6ac-6596-4627-8c83-fdc9de64df30\")) {                    Plotly.newPlot(                        \"a92dd6ac-6596-4627-8c83-fdc9de64df30\",                        [{\"geo\":\"geo\",\"hovertemplate\":\"<b>%{hovertext}</b><br><br>LATITUDE=%{lat}<br>LONGITUDE=%{lon}<extra></extra>\",\"hovertext\":[1.0,2.0,11.0,12.0,13.0,14.0,16.0,18.0,19.0,21.0,22.0,23.0,24.0,27.0,28.0,31.0,32.0,33.0,34.0,36.0,38.0,40.0,42.0,46.0,47.0,48.0,52.0,53.0,55.0,56.0,58.0,59.0,62.0,63.0,65.0,66.0,67.0,68.0,69.0,75.0,79.0,80.0,81.0,82.0,83.0,84.0,88.0,89.0,90.0,92.0,95.0,97.0,98.0,101.0,102.0,103.0,104.0,105.0,106.0,107.0,109.0,112.0,113.0,115.0,116.0,117.0,118.0,119.0,120.0,121.0,122.0,124.0,126.0,128.0,129.0,136.0,139.0,143.0,144.0,146.0,147.0,149.0,153.0,154.0,161.0,162.0,163.0,166.0,167.0,169.0,171.0,172.0,173.0,176.0,177.0,178.0,180.0,181.0,182.0,183.0,184.0,185.0,186.0,187.0,190.0,191.0,192.0,194.0,195.0,196.0,197.0,198.0,199.0,201.0,202.0,203.0,204.0,205.0,206.0,207.0,208.0,209.0,210.0,211.0,212.0,213.0,214.0,215.0,216.0,217.0,218.0,219.0,221.0,224.0,225.0,226.0,230.0,231.0,234.0,238.0,243.0,245.0,248.0,249.0,252.0,253.0,254.0,255.0,256.0,257.0,258.0,259.0,261.0,262.0,264.0,265.0,266.0,267.0,269.0,273.0,274.0,277.0,278.0,280.0,281.0,282.0,283.0,284.0,285.0,286.0,287.0,288.0,290.0,291.0,292.0,293.0,294.0,295.0,297.0,298.0,299.0,302.0,303.0,306.0,308.0,311.0,312.0,313.0,314.0,316.0,317.0,319.0,320.0,321.0,322.0,323.0,324.0,325.0,327.0,328.0,330.0,331.0,332.0,333.0,334.0,335.0,336.0,337.0,339.0,341.0,342.0,343.0,344.0,346.0,347.0,348.0,350.0,351.0,352.0,353.0,354.0,356.0,358.0,360.0,361.0,364.0,365.0,368.0,369.0,371.0,372.0,373.0,374.0,375.0,377.0,379.0,380.0,382.0,383.0,384.0,385.0,386.0,387.0,389.0,391.0,392.0,394.0,395.0,396.0,397.0,398.0,400.0,402.0,404.0,405.0,411.0,412.0,415.0,416.0,417.0,418.0,422.0,423.0,424.0,425.0,427.0,428.0,429.0,430.0,431.0,433.0,435.0,436.0,437.0,438.0,439.0,440.0,441.0,442.0,443.0,444.0,445.0,447.0,448.0,450.0,451.0,452.0,453.0,454.0,455.0,456.0,458.0,460.0,462.0,463.0,464.0,465.0,470.0,473.0,476.0,477.0,478.0,480.0,481.0,482.0,484.0,486.0,487.0,488.0,489.0,490.0,492.0,493.0,494.0,495.0,496.0,497.0,498.0,501.0,502.0,504.0,505.0,506.0,507.0,509.0,510.0,511.0,512.0,513.0,514.0,515.0,516.0,517.0,518.0,519.0,520.0,521.0,523.0,524.0,525.0,527.0,528.0,530.0,532.0,533.0,534.0,536.0,537.0,539.0,540.0,541.0,542.0,543.0,544.0,547.0,548.0,549.0,550.0,555.0,556.0,557.0,558.0,559.0,560.0,561.0,562.0,563.0,564.0,565.0,566.0,567.0,569.0,570.0,572.0,575.0,576.0,577.0,579.0,581.0,582.0,585.0,586.0,587.0,588.0,589.0,590.0,591.0,594.0,595.0],\"lat\":[-14.3,-13.75,-11.4,-12.41,-11.78,-13.05,-13.83,-14.95,-14.52,-11.05,-12.67,-11.65,-12.12,-11.02,-12.28,-13.98,-12.68,-12.68,-10.58,-13.77,-14.97,-17.94,-18.18,-18.23,-15.78,-16.63,-16.4,-16.25,-19.63,-16.43,-15.75,-19.92,-17.75,-18.75,-15.48,-18.3,-16.0,-16.38,-16.89,-19.25,-19.08,-16.29,-24.89,-22.24,-21.45,-21.18,-20.38,-23.17,-23.42,-23.27,-23.81,-22.45,-20.66,-20.67,-21.8,-20.67,-21.83,-20.7,-22.37,-20.82,-23.43,-23.57,-20.5,-21.12,-20.35,-22.73,-20.53,-21.67,-23.13,-23.38,-24.48,-21.97,-23.87,-24.9,-24.12,-23.93,-28.8,-29.2,-28.12,-28.62,-28.88,-25.03,-26.27,-27.55,-26.41,-26.55,-28.05,-29.78,-27.15,-26.57,-27.41,-28.62,-28.2,-27.55,-26.18,-25.52,-26.6,-26.38,-28.83,-28.88,-27.57,-27.48,-27.42,-27.93,-29.68,-29.43,-28.16,-27.03,-27.64,-20.36,-17.58,-12.27,-21.72,-31.89,-36.42,-28.83,-29.18,-28.63,-33.53,-34.37,-32.02,-30.33,-33.35,-32.52,-31.92,-32.1,-31.94,-31.67,-31.95,-31.95,-34.25,-32.72,-33.12,-30.79,-33.83,-33.68,-31.68,-31.45,-30.72,-31.14,-34.94,-34.61,-35.52,-34.73,-34.48,-34.43,-35.17,-32.57,-33.97,-31.08,-35.38,-32.0,-34.53,-30.03,-31.53,-31.48,-34.25,-33.37,-32.22,-32.57,-33.42,-33.62,-34.52,-34.38,-34.95,-33.9,-33.6,-32.73,-34.04,-34.07,-33.68,-33.85,-33.98,-33.72,-33.92,-33.9,-33.95,-33.85,-32.92,-32.63,-32.8,-31.07,-31.43,-30.32,-34.94,-35.8,-35.17,-35.12,-35.57,-36.97,-35.28,-37.3,-36.98,-37.73,-35.85,-38.43,-36.32,-38.32,-38.4,-37.3,-37.23,-37.07,-38.28,-35.72,-36.28,-38.07,-38.85,-35.38,-38.45,-39.88,-37.52,-38.03,-36.73,-38.17,-37.02,-37.38,-36.02,-37.9,-37.73,-37.87,-37.67,-37.98,-37.87,-36.88,-36.43,-36.22,-37.22,-38.63,-36.42,-38.22,-38.45,-39.12,-37.15,-38.04,-38.35,-36.87,-37.05,-38.1,-37.1,-35.17,-38.8,-37.88,-37.22,-36.4,-36.23,-36.3,-35.42,-35.31,-35.43,-37.0,-37.7,-37.57,-37.6,-35.35,-36.25,-12.6,-12.05,-17.37,-15.5,-15.45,-17.07,-17.6,-19.42,-19.62,-19.45,-20.88,-21.67,-20.72,-21.18,-20.18,-24.42,-22.35,-22.47,-25.9,-27.85,-29.03,-29.67,-28.1,-25.9,-29.45,-27.42,-27.99,-29.49,-26.65,-25.62,-27.55,-25.32,-26.95,-29.75,-29.62,-26.65,-27.97,-27.22,-32.23,-32.02,-33.68,-31.47,-33.37,-31.62,-30.28,-33.95,-31.23,-33.88,-33.1,-33.68,-32.67,-32.22,-33.55,-30.83,-34.95,-33.05,-30.48,-34.75,-32.85,-34.25,-33.06,-32.52,-33.82,-33.78,-34.52,-34.7,-34.79,-34.97,-34.2,-31.52,-32.88,-30.85,-34.25,-34.62,-34.7,-33.07,-33.93,-31.98,-30.03,-34.82,-33.13,-30.98,-33.85,-34.43,-33.38,-31.32,-30.32,-30.95,-31.73,-34.57,-34.65,-32.18,-32.03,-33.83,-33.08,-33.27,-32.78,-30.53,-33.28,-31.88,-35.75,-35.28,-35.72,-36.1,-37.18,-35.07,-37.92,-36.65,-37.58,-37.12,-35.12,-37.02,-36.33,-36.67,-36.43,-36.1,-36.67,-37.7,-38.23,-37.87,-35.57,-37.73,-38.57,-36.07,-37.83,-36.5,-37.75,-35.93,-37.68,-35.53,-36.92,-36.67,-35.9,-35.08],\"legendgroup\":\"\",\"lon\":[126.63,126.15,130.42,130.88,130.02,131.02,131.18,130.8,132.38,132.98,132.9,133.38,134.9,136.75,136.82,136.46,141.92,141.93,142.28,143.12,145.32,122.23,125.57,127.67,128.71,128.45,131.02,133.37,134.18,136.07,136.8,138.12,139.53,138.7,141.75,143.53,144.07,145.57,145.76,146.77,152.38,149.97,113.67,114.09,115.02,115.97,118.63,117.75,119.8,129.37,133.9,133.63,139.49,140.5,139.92,141.73,140.88,143.11,143.08,144.23,144.28,148.18,148.55,149.22,148.95,150.65,150.38,150.27,150.75,150.48,150.57,152.47,151.22,152.32,152.72,147.52,114.71,116.02,117.83,122.42,121.32,128.3,132.18,135.45,146.26,148.78,148.6,151.08,151.27,151.83,151.74,151.95,152.1,152.33,152.63,152.72,153.1,153.03,153.26,153.05,153.01,153.03,153.07,153.43,151.7,153.37,153.5,153.47,152.71,148.95,123.83,136.82,122.23,152.51,146.31,153.55,153.4,153.63,115.02,115.13,115.5,115.53,115.65,115.72,115.87,115.88,115.97,116.02,115.77,116.05,116.15,116.05,118.83,121.46,121.89,117.6,128.88,130.9,134.58,136.82,138.53,135.88,138.82,138.93,139.0,140.6,138.67,139.57,137.67,141.7,140.54,141.47,144.83,145.95,145.8,145.83,148.25,147.92,148.57,149.62,149.65,150.27,150.42,150.93,150.54,150.73,150.78,150.23,150.69,150.77,151.23,150.85,150.92,150.68,150.99,151.12,151.18,151.2,151.78,151.58,151.83,152.77,152.85,153.12,117.8,137.25,138.5,137.73,138.28,139.72,138.9,140.82,140.73,140.78,138.13,141.55,141.63,141.47,142.23,142.6,143.2,142.73,142.45,142.35,143.35,142.77,143.52,143.53,144.1,143.88,143.78,144.47,144.32,144.37,144.53,144.97,146.03,144.12,144.9,144.75,144.84,145.1,145.33,145.18,145.4,147.53,145.83,145.81,146.3,146.47,145.3,146.42,146.43,144.47,145.17,147.27,147.33,147.15,147.6,147.47,146.2,147.57,148.27,148.4,148.13,148.97,149.1,149.2,149.78,149.23,148.08,149.9,149.73,150.48,150.22,131.3,134.23,123.67,128.15,145.18,145.43,146.0,146.53,147.38,147.48,115.4,115.12,116.77,119.75,130.02,145.43,149.52,150.18,113.58,120.7,134.72,138.07,140.2,139.35,142.06,141.82,143.81,149.85,150.18,151.62,151.92,152.88,152.97,153.03,152.97,152.93,152.98,153.1,115.68,116.13,115.4,115.87,116.17,117.22,116.67,116.13,119.35,119.1,118.47,121.83,116.67,121.75,120.7,128.12,116.72,135.45,136.88,137.52,135.15,135.72,137.51,137.72,138.6,138.22,138.68,138.62,138.63,138.7,140.68,143.38,144.32,143.07,146.07,146.43,146.51,147.22,147.2,147.95,148.12,149.73,148.23,148.38,148.65,147.52,149.13,149.27,149.82,150.25,150.8,150.78,150.85,150.17,150.83,151.07,151.47,151.57,151.33,151.62,151.22,152.52,136.6,136.93,137.52,140.32,139.8,139.23,141.27,140.52,141.33,141.8,142.0,141.27,145.07,142.3,145.27,146.5,142.17,142.93,143.78,145.25,144.95,145.1,146.75,146.95,146.27,148.28,147.13,148.38,148.47,148.77,149.9,149.82,150.15,150.8],\"marker\":{\"color\":\"#636efa\",\"symbol\":\"circle\"},\"mode\":\"markers\",\"name\":\"\",\"showlegend\":false,\"type\":\"scattergeo\"}],                        {\"template\":{\"data\":{\"bar\":[{\"error_x\":{\"color\":\"#2a3f5f\"},\"error_y\":{\"color\":\"#2a3f5f\"},\"marker\":{\"line\":{\"color\":\"#E5ECF6\",\"width\":0.5},\"pattern\":{\"fillmode\":\"overlay\",\"size\":10,\"solidity\":0.2}},\"type\":\"bar\"}],\"barpolar\":[{\"marker\":{\"line\":{\"color\":\"#E5ECF6\",\"width\":0.5},\"pattern\":{\"fillmode\":\"overlay\",\"size\":10,\"solidity\":0.2}},\"type\":\"barpolar\"}],\"carpet\":[{\"aaxis\":{\"endlinecolor\":\"#2a3f5f\",\"gridcolor\":\"white\",\"linecolor\":\"white\",\"minorgridcolor\":\"white\",\"startlinecolor\":\"#2a3f5f\"},\"baxis\":{\"endlinecolor\":\"#2a3f5f\",\"gridcolor\":\"white\",\"linecolor\":\"white\",\"minorgridcolor\":\"white\",\"startlinecolor\":\"#2a3f5f\"},\"type\":\"carpet\"}],\"choropleth\":[{\"colorbar\":{\"outlinewidth\":0,\"ticks\":\"\"},\"type\":\"choropleth\"}],\"contour\":[{\"colorbar\":{\"outlinewidth\":0,\"ticks\":\"\"},\"colorscale\":[[0.0,\"#0d0887\"],[0.1111111111111111,\"#46039f\"],[0.2222222222222222,\"#7201a8\"],[0.3333333333333333,\"#9c179e\"],[0.4444444444444444,\"#bd3786\"],[0.5555555555555556,\"#d8576b\"],[0.6666666666666666,\"#ed7953\"],[0.7777777777777778,\"#fb9f3a\"],[0.8888888888888888,\"#fdca26\"],[1.0,\"#f0f921\"]],\"type\":\"contour\"}],\"contourcarpet\":[{\"colorbar\":{\"outlinewidth\":0,\"ticks\":\"\"},\"type\":\"contourcarpet\"}],\"heatmap\":[{\"colorbar\":{\"outlinewidth\":0,\"ticks\":\"\"},\"colorscale\":[[0.0,\"#0d0887\"],[0.1111111111111111,\"#46039f\"],[0.2222222222222222,\"#7201a8\"],[0.3333333333333333,\"#9c179e\"],[0.4444444444444444,\"#bd3786\"],[0.5555555555555556,\"#d8576b\"],[0.6666666666666666,\"#ed7953\"],[0.7777777777777778,\"#fb9f3a\"],[0.8888888888888888,\"#fdca26\"],[1.0,\"#f0f921\"]],\"type\":\"heatmap\"}],\"heatmapgl\":[{\"colorbar\":{\"outlinewidth\":0,\"ticks\":\"\"},\"colorscale\":[[0.0,\"#0d0887\"],[0.1111111111111111,\"#46039f\"],[0.2222222222222222,\"#7201a8\"],[0.3333333333333333,\"#9c179e\"],[0.4444444444444444,\"#bd3786\"],[0.5555555555555556,\"#d8576b\"],[0.6666666666666666,\"#ed7953\"],[0.7777777777777778,\"#fb9f3a\"],[0.8888888888888888,\"#fdca26\"],[1.0,\"#f0f921\"]],\"type\":\"heatmapgl\"}],\"histogram\":[{\"marker\":{\"pattern\":{\"fillmode\":\"overlay\",\"size\":10,\"solidity\":0.2}},\"type\":\"histogram\"}],\"histogram2d\":[{\"colorbar\":{\"outlinewidth\":0,\"ticks\":\"\"},\"colorscale\":[[0.0,\"#0d0887\"],[0.1111111111111111,\"#46039f\"],[0.2222222222222222,\"#7201a8\"],[0.3333333333333333,\"#9c179e\"],[0.4444444444444444,\"#bd3786\"],[0.5555555555555556,\"#d8576b\"],[0.6666666666666666,\"#ed7953\"],[0.7777777777777778,\"#fb9f3a\"],[0.8888888888888888,\"#fdca26\"],[1.0,\"#f0f921\"]],\"type\":\"histogram2d\"}],\"histogram2dcontour\":[{\"colorbar\":{\"outlinewidth\":0,\"ticks\":\"\"},\"colorscale\":[[0.0,\"#0d0887\"],[0.1111111111111111,\"#46039f\"],[0.2222222222222222,\"#7201a8\"],[0.3333333333333333,\"#9c179e\"],[0.4444444444444444,\"#bd3786\"],[0.5555555555555556,\"#d8576b\"],[0.6666666666666666,\"#ed7953\"],[0.7777777777777778,\"#fb9f3a\"],[0.8888888888888888,\"#fdca26\"],[1.0,\"#f0f921\"]],\"type\":\"histogram2dcontour\"}],\"mesh3d\":[{\"colorbar\":{\"outlinewidth\":0,\"ticks\":\"\"},\"type\":\"mesh3d\"}],\"parcoords\":[{\"line\":{\"colorbar\":{\"outlinewidth\":0,\"ticks\":\"\"}},\"type\":\"parcoords\"}],\"pie\":[{\"automargin\":true,\"type\":\"pie\"}],\"scatter\":[{\"marker\":{\"colorbar\":{\"outlinewidth\":0,\"ticks\":\"\"}},\"type\":\"scatter\"}],\"scatter3d\":[{\"line\":{\"colorbar\":{\"outlinewidth\":0,\"ticks\":\"\"}},\"marker\":{\"colorbar\":{\"outlinewidth\":0,\"ticks\":\"\"}},\"type\":\"scatter3d\"}],\"scattercarpet\":[{\"marker\":{\"colorbar\":{\"outlinewidth\":0,\"ticks\":\"\"}},\"type\":\"scattercarpet\"}],\"scattergeo\":[{\"marker\":{\"colorbar\":{\"outlinewidth\":0,\"ticks\":\"\"}},\"type\":\"scattergeo\"}],\"scattergl\":[{\"marker\":{\"colorbar\":{\"outlinewidth\":0,\"ticks\":\"\"}},\"type\":\"scattergl\"}],\"scattermapbox\":[{\"marker\":{\"colorbar\":{\"outlinewidth\":0,\"ticks\":\"\"}},\"type\":\"scattermapbox\"}],\"scatterpolar\":[{\"marker\":{\"colorbar\":{\"outlinewidth\":0,\"ticks\":\"\"}},\"type\":\"scatterpolar\"}],\"scatterpolargl\":[{\"marker\":{\"colorbar\":{\"outlinewidth\":0,\"ticks\":\"\"}},\"type\":\"scatterpolargl\"}],\"scatterternary\":[{\"marker\":{\"colorbar\":{\"outlinewidth\":0,\"ticks\":\"\"}},\"type\":\"scatterternary\"}],\"surface\":[{\"colorbar\":{\"outlinewidth\":0,\"ticks\":\"\"},\"colorscale\":[[0.0,\"#0d0887\"],[0.1111111111111111,\"#46039f\"],[0.2222222222222222,\"#7201a8\"],[0.3333333333333333,\"#9c179e\"],[0.4444444444444444,\"#bd3786\"],[0.5555555555555556,\"#d8576b\"],[0.6666666666666666,\"#ed7953\"],[0.7777777777777778,\"#fb9f3a\"],[0.8888888888888888,\"#fdca26\"],[1.0,\"#f0f921\"]],\"type\":\"surface\"}],\"table\":[{\"cells\":{\"fill\":{\"color\":\"#EBF0F8\"},\"line\":{\"color\":\"white\"}},\"header\":{\"fill\":{\"color\":\"#C8D4E3\"},\"line\":{\"color\":\"white\"}},\"type\":\"table\"}]},\"layout\":{\"annotationdefaults\":{\"arrowcolor\":\"#2a3f5f\",\"arrowhead\":0,\"arrowwidth\":1},\"autotypenumbers\":\"strict\",\"coloraxis\":{\"colorbar\":{\"outlinewidth\":0,\"ticks\":\"\"}},\"colorscale\":{\"diverging\":[[0,\"#8e0152\"],[0.1,\"#c51b7d\"],[0.2,\"#de77ae\"],[0.3,\"#f1b6da\"],[0.4,\"#fde0ef\"],[0.5,\"#f7f7f7\"],[0.6,\"#e6f5d0\"],[0.7,\"#b8e186\"],[0.8,\"#7fbc41\"],[0.9,\"#4d9221\"],[1,\"#276419\"]],\"sequential\":[[0.0,\"#0d0887\"],[0.1111111111111111,\"#46039f\"],[0.2222222222222222,\"#7201a8\"],[0.3333333333333333,\"#9c179e\"],[0.4444444444444444,\"#bd3786\"],[0.5555555555555556,\"#d8576b\"],[0.6666666666666666,\"#ed7953\"],[0.7777777777777778,\"#fb9f3a\"],[0.8888888888888888,\"#fdca26\"],[1.0,\"#f0f921\"]],\"sequentialminus\":[[0.0,\"#0d0887\"],[0.1111111111111111,\"#46039f\"],[0.2222222222222222,\"#7201a8\"],[0.3333333333333333,\"#9c179e\"],[0.4444444444444444,\"#bd3786\"],[0.5555555555555556,\"#d8576b\"],[0.6666666666666666,\"#ed7953\"],[0.7777777777777778,\"#fb9f3a\"],[0.8888888888888888,\"#fdca26\"],[1.0,\"#f0f921\"]]},\"colorway\":[\"#636efa\",\"#EF553B\",\"#00cc96\",\"#ab63fa\",\"#FFA15A\",\"#19d3f3\",\"#FF6692\",\"#B6E880\",\"#FF97FF\",\"#FECB52\"],\"font\":{\"color\":\"#2a3f5f\"},\"geo\":{\"bgcolor\":\"white\",\"lakecolor\":\"white\",\"landcolor\":\"#E5ECF6\",\"showlakes\":true,\"showland\":true,\"subunitcolor\":\"white\"},\"hoverlabel\":{\"align\":\"left\"},\"hovermode\":\"closest\",\"mapbox\":{\"style\":\"light\"},\"paper_bgcolor\":\"white\",\"plot_bgcolor\":\"#E5ECF6\",\"polar\":{\"angularaxis\":{\"gridcolor\":\"white\",\"linecolor\":\"white\",\"ticks\":\"\"},\"bgcolor\":\"#E5ECF6\",\"radialaxis\":{\"gridcolor\":\"white\",\"linecolor\":\"white\",\"ticks\":\"\"}},\"scene\":{\"xaxis\":{\"backgroundcolor\":\"#E5ECF6\",\"gridcolor\":\"white\",\"gridwidth\":2,\"linecolor\":\"white\",\"showbackground\":true,\"ticks\":\"\",\"zerolinecolor\":\"white\"},\"yaxis\":{\"backgroundcolor\":\"#E5ECF6\",\"gridcolor\":\"white\",\"gridwidth\":2,\"linecolor\":\"white\",\"showbackground\":true,\"ticks\":\"\",\"zerolinecolor\":\"white\"},\"zaxis\":{\"backgroundcolor\":\"#E5ECF6\",\"gridcolor\":\"white\",\"gridwidth\":2,\"linecolor\":\"white\",\"showbackground\":true,\"ticks\":\"\",\"zerolinecolor\":\"white\"}},\"shapedefaults\":{\"line\":{\"color\":\"#2a3f5f\"}},\"ternary\":{\"aaxis\":{\"gridcolor\":\"white\",\"linecolor\":\"white\",\"ticks\":\"\"},\"baxis\":{\"gridcolor\":\"white\",\"linecolor\":\"white\",\"ticks\":\"\"},\"bgcolor\":\"#E5ECF6\",\"caxis\":{\"gridcolor\":\"white\",\"linecolor\":\"white\",\"ticks\":\"\"}},\"title\":{\"x\":0.05},\"xaxis\":{\"automargin\":true,\"gridcolor\":\"white\",\"linecolor\":\"white\",\"ticks\":\"\",\"title\":{\"standoff\":15},\"zerolinecolor\":\"white\",\"zerolinewidth\":2},\"yaxis\":{\"automargin\":true,\"gridcolor\":\"white\",\"linecolor\":\"white\",\"ticks\":\"\",\"title\":{\"standoff\":15},\"zerolinecolor\":\"white\",\"zerolinewidth\":2}}},\"geo\":{\"domain\":{\"x\":[0.0,1.0],\"y\":[0.0,1.0]},\"center\":{}},\"legend\":{\"tracegroupgap\":0},\"margin\":{\"t\":60}},                        {\"responsive\": true}                    ).then(function(){\n",
       "                            \n",
       "var gd = document.getElementById('a92dd6ac-6596-4627-8c83-fdc9de64df30');\n",
       "var x = new MutationObserver(function (mutations, observer) {{\n",
       "        var display = window.getComputedStyle(gd).display;\n",
       "        if (!display || display === 'none') {{\n",
       "            console.log([gd, 'removed!']);\n",
       "            Plotly.purge(gd);\n",
       "            observer.disconnect();\n",
       "        }}\n",
       "}});\n",
       "\n",
       "// Listen for the removal of the full notebook cells\n",
       "var notebookContainer = gd.closest('#notebook-container');\n",
       "if (notebookContainer) {{\n",
       "    x.observe(notebookContainer, {childList: true});\n",
       "}}\n",
       "\n",
       "// Listen for the clearing of the current output cell\n",
       "var outputEl = gd.closest('.output');\n",
       "if (outputEl) {{\n",
       "    x.observe(outputEl, {childList: true});\n",
       "}}\n",
       "\n",
       "                        })                };                });            </script>        </div>"
      ]
     },
     "metadata": {},
     "output_type": "display_data"
    }
   ],
   "source": [
    "import plotly.express as px\n",
    "import geopandas as gpd\n",
    "\n",
    "fig = px.scatter_geo(st_cnt_sample,\n",
    "                    lat=st_cnt_sample.LATITUDE,\n",
    "                    lon=st_cnt_sample.LONGITUDE,\n",
    "                    hover_name=\"STAT_ID\")\n",
    "fig.show()"
   ]
  },
  {
   "cell_type": "code",
   "execution_count": 19,
   "id": "350d45fb",
   "metadata": {
    "execution": {
     "iopub.execute_input": "2022-02-07T07:53:27.732469Z",
     "iopub.status.busy": "2022-02-07T07:53:27.731450Z",
     "iopub.status.idle": "2022-02-07T07:53:27.739927Z",
     "shell.execute_reply": "2022-02-07T07:53:27.740508Z",
     "shell.execute_reply.started": "2022-02-07T06:38:41.875788Z"
    },
    "papermill": {
     "duration": 0.067383,
     "end_time": "2022-02-07T07:53:27.740730",
     "exception": false,
     "start_time": "2022-02-07T07:53:27.673347",
     "status": "completed"
    },
    "tags": []
   },
   "outputs": [
    {
     "data": {
      "text/plain": [
       "array([[-14.3 , 126.63],\n",
       "       [-13.75, 126.15],\n",
       "       [-11.4 , 130.42],\n",
       "       [-12.41, 130.88],\n",
       "       [-11.78, 130.02],\n",
       "       [-13.05, 131.02],\n",
       "       [-13.83, 131.18],\n",
       "       [-14.95, 130.8 ],\n",
       "       [-14.52, 132.38],\n",
       "       [-11.05, 132.98]])"
      ]
     },
     "execution_count": 19,
     "metadata": {},
     "output_type": "execute_result"
    }
   ],
   "source": [
    "st_cnt_sample_np = st_cnt_sample[['LATITUDE', 'LONGITUDE']].to_numpy()\n",
    "st_cnt_sample_np[:10]"
   ]
  },
  {
   "cell_type": "code",
   "execution_count": 20,
   "id": "51d5392e",
   "metadata": {
    "execution": {
     "iopub.execute_input": "2022-02-07T07:53:27.851079Z",
     "iopub.status.busy": "2022-02-07T07:53:27.850068Z",
     "iopub.status.idle": "2022-02-07T07:53:27.887033Z",
     "shell.execute_reply": "2022-02-07T07:53:27.887519Z",
     "shell.execute_reply.started": "2022-02-07T06:38:41.886209Z"
    },
    "papermill": {
     "duration": 0.094541,
     "end_time": "2022-02-07T07:53:27.887769",
     "exception": false,
     "start_time": "2022-02-07T07:53:27.793228",
     "status": "completed"
    },
    "tags": []
   },
   "outputs": [
    {
     "name": "stdout",
     "output_type": "stream",
     "text": [
      "Number of clusters: 226\n"
     ]
    }
   ],
   "source": [
    "coords = st_cnt_sample_np\n",
    "kms_per_radian = 6371.0088\n",
    "epsilon = 50 / kms_per_radian\n",
    "db = DBSCAN(eps=epsilon, min_samples=1, algorithm='ball_tree', metric='haversine').fit(np.radians(coords))\n",
    "cluster_labels = db.labels_\n",
    "num_clusters = len(set(cluster_labels))\n",
    "clusters = pd.Series([coords[cluster_labels == n] for n in range(num_clusters)])\n",
    "print('Number of clusters: {}'.format(num_clusters))"
   ]
  },
  {
   "cell_type": "code",
   "execution_count": 21,
   "id": "0d773413",
   "metadata": {
    "execution": {
     "iopub.execute_input": "2022-02-07T07:53:27.999189Z",
     "iopub.status.busy": "2022-02-07T07:53:27.998081Z",
     "iopub.status.idle": "2022-02-07T07:53:28.004747Z",
     "shell.execute_reply": "2022-02-07T07:53:28.005278Z",
     "shell.execute_reply.started": "2022-02-07T06:38:41.912351Z"
    },
    "papermill": {
     "duration": 0.064084,
     "end_time": "2022-02-07T07:53:28.005490",
     "exception": false,
     "start_time": "2022-02-07T07:53:27.941406",
     "status": "completed"
    },
    "tags": []
   },
   "outputs": [],
   "source": [
    "kms_per_radian = 6371.0088\n",
    "\n",
    "AUS_LAT_RANGE = (-40, -9)\n",
    "AUS_LON_RANGE = (112, 154.7)\n",
    "\n",
    "AUS_LAT_RANGE_R = (9, 40)\n",
    "AUS_LON_RANGE_R = (112, 154.7)\n",
    "\n",
    "bottomLeft = (AUS_LAT_RANGE_R[1], AUS_LON_RANGE[0])\n",
    "bottomRight = (AUS_LAT_RANGE_R[1], AUS_LON_RANGE[1])\n",
    "topLeft = (AUS_LAT_RANGE_R[0], AUS_LON_RANGE[0])\n",
    "topRight = (AUS_LAT_RANGE_R[0], AUS_LON_RANGE[1])"
   ]
  },
  {
   "cell_type": "code",
   "execution_count": 22,
   "id": "d70a035a",
   "metadata": {
    "execution": {
     "iopub.execute_input": "2022-02-07T07:53:28.120876Z",
     "iopub.status.busy": "2022-02-07T07:53:28.119764Z",
     "iopub.status.idle": "2022-02-07T07:53:28.770092Z",
     "shell.execute_reply": "2022-02-07T07:53:28.769251Z",
     "shell.execute_reply.started": "2022-02-07T06:38:41.919344Z"
    },
    "papermill": {
     "duration": 0.709278,
     "end_time": "2022-02-07T07:53:28.770258",
     "exception": false,
     "start_time": "2022-02-07T07:53:28.060980",
     "status": "completed"
    },
    "tags": []
   },
   "outputs": [
    {
     "name": "stdout",
     "output_type": "stream",
     "text": [
      "Before (1479377, 21)\n",
      "After (1479377, 21)\n"
     ]
    }
   ],
   "source": [
    "# remove non relevent weather data\n",
    "print('Before', aus_weather.shape)\n",
    "\n",
    "aus_weather = aus_weather[\n",
    "  (aus_weather.LATITUDE <= AUS_LAT_RANGE[1]) & (aus_weather.LATITUDE >= AUS_LAT_RANGE[0])]\n",
    "aus_weather = aus_weather[\n",
    "    (aus_weather.LONGITUDE <= AUS_LON_RANGE[1]) & (aus_weather.LONGITUDE >= AUS_LON_RANGE[0])]\n",
    "\n",
    "print('After', aus_weather.shape)"
   ]
  },
  {
   "cell_type": "code",
   "execution_count": 23,
   "id": "615c1b10",
   "metadata": {
    "execution": {
     "iopub.execute_input": "2022-02-07T07:53:28.896462Z",
     "iopub.status.busy": "2022-02-07T07:53:28.895650Z",
     "iopub.status.idle": "2022-02-07T07:53:28.904810Z",
     "shell.execute_reply": "2022-02-07T07:53:28.905285Z",
     "shell.execute_reply.started": "2022-02-07T06:38:42.260861Z"
    },
    "papermill": {
     "duration": 0.073783,
     "end_time": "2022-02-07T07:53:28.905483",
     "exception": false,
     "start_time": "2022-02-07T07:53:28.831700",
     "status": "completed"
    },
    "tags": []
   },
   "outputs": [
    {
     "name": "stdout",
     "output_type": "stream",
     "text": [
      "Lat dist 3434.2787529548777\n",
      "Lng dist 4692.393446544515\n"
     ]
    }
   ],
   "source": [
    "from geopy.distance import geodesic\n",
    "\n",
    "coords_1 = (AUS_LAT_RANGE[1], AUS_LON_RANGE[0])\n",
    "coords_2 = (AUS_LAT_RANGE[0], AUS_LON_RANGE[0])\n",
    "lat_dist = geodesic(coords_1, coords_2).km\n",
    "print('Lat dist', lat_dist)\n",
    "\n",
    "coords_1 = (AUS_LAT_RANGE[1], AUS_LON_RANGE[0])\n",
    "coords_2 = (AUS_LAT_RANGE[1], AUS_LON_RANGE[1])\n",
    "lng_dist = geodesic(coords_1, coords_2).km\n",
    "print('Lng dist', lng_dist)\n",
    "\n",
    "#coords_1 = (-9, 40)\n",
    "#coords_2 = (-9, 41)\n",
    "#lng_dist = geodesic(coords_1, coords_2).km\n",
    "#print('Lng dist', lng_dist)"
   ]
  },
  {
   "cell_type": "markdown",
   "id": "f043a210",
   "metadata": {
    "papermill": {
     "duration": 0.064404,
     "end_time": "2022-02-07T07:53:29.030940",
     "exception": false,
     "start_time": "2022-02-07T07:53:28.966536",
     "status": "completed"
    },
    "tags": []
   },
   "source": [
    "## Bins and weather stations\n",
    "\n",
    "We cannot process entire dataset and match weather stations due to platform memory limits. The datasets of fire and weather records is relatively big. The idea that I came up with is to divide the Australia mainland into grid cells (see bins here) and assign a weather station located in this bin to every fire record that is inside this bin. This approach helps us not to iterate through all combinations of fire records and weather stations, and save memory and computations resources."
   ]
  },
  {
   "cell_type": "code",
   "execution_count": 24,
   "id": "6a672b99",
   "metadata": {
    "execution": {
     "iopub.execute_input": "2022-02-07T07:53:29.163623Z",
     "iopub.status.busy": "2022-02-07T07:53:29.162871Z",
     "iopub.status.idle": "2022-02-07T07:53:29.175315Z",
     "shell.execute_reply": "2022-02-07T07:53:29.176066Z",
     "shell.execute_reply.started": "2022-02-07T06:38:42.26991Z"
    },
    "papermill": {
     "duration": 0.08015,
     "end_time": "2022-02-07T07:53:29.176339",
     "exception": false,
     "start_time": "2022-02-07T07:53:29.096189",
     "status": "completed"
    },
    "tags": []
   },
   "outputs": [
    {
     "name": "stdout",
     "output_type": "stream",
     "text": [
      "Cols cnt 46\n",
      "Rows cnt 34\n",
      "Cols gap 0.6888888888888882 Rows gap 1.2939393939393966\n",
      "[112.         113.29393939 114.58787879 115.88181818 117.17575758\n",
      " 118.46969697 119.76363636 121.05757576 122.35151515 123.64545455\n",
      " 124.93939394 126.23333333 127.52727273 128.82121212 130.11515152\n",
      " 131.40909091 132.7030303  133.9969697  135.29090909 136.58484848\n",
      " 137.87878788 139.17272727 140.46666667 141.76060606 143.05454545\n",
      " 144.34848485 145.64242424 146.93636364 148.23030303 149.52424242\n",
      " 150.81818182 152.11212121 153.40606061 154.7       ]\n",
      "[ 9.          9.68888889 10.37777778 11.06666667 11.75555556 12.44444444\n",
      " 13.13333333 13.82222222 14.51111111 15.2        15.88888889 16.57777778\n",
      " 17.26666667 17.95555556 18.64444444 19.33333333 20.02222222 20.71111111\n",
      " 21.4        22.08888889 22.77777778 23.46666667 24.15555556 24.84444444\n",
      " 25.53333333 26.22222222 26.91111111 27.6        28.28888889 28.97777778\n",
      " 29.66666667 30.35555556 31.04444444 31.73333333 32.42222222 33.11111111\n",
      " 33.8        34.48888889 35.17777778 35.86666667 36.55555556 37.24444444\n",
      " 37.93333333 38.62222222 39.31111111 40.        ]\n",
      "[ 1.   5.5 10. ]\n"
     ]
    }
   ],
   "source": [
    "cnt_rows = lat_dist / 100\n",
    "cnt_cols = lng_dist / 100\n",
    "\n",
    "rows = np.linspace(bottomLeft[1], bottomRight[1], num=int(cnt_rows))\n",
    "cols = np.linspace(topLeft[0], bottomLeft[0], num=int(cnt_cols))\n",
    "\n",
    "cols_gap = abs(cols[1] - cols[0])\n",
    "rows_gap = abs(rows[1] - rows[0])\n",
    "print('Cols cnt', len(cols))\n",
    "print('Rows cnt', len(rows))\n",
    "print('Cols gap', cols_gap, 'Rows gap', rows_gap)\n",
    "print(rows)\n",
    "print(cols)\n",
    "\n",
    "print(np.linspace(1, 10, num=3))\n",
    "\n",
    "def detect_bin(lat, lng):\n",
    "    col_lng = (int)((lng - AUS_LON_RANGE_R[0]) / cols_gap)\n",
    "    col_lat = (int)((abs(lat) - AUS_LAT_RANGE_R[0]) / rows_gap)\n",
    "    return f'{col_lat},{col_lng}'"
   ]
  },
  {
   "cell_type": "code",
   "execution_count": 25,
   "id": "bf44fe96",
   "metadata": {
    "execution": {
     "iopub.execute_input": "2022-02-07T07:53:29.309019Z",
     "iopub.status.busy": "2022-02-07T07:53:29.303029Z",
     "iopub.status.idle": "2022-02-07T07:53:31.723504Z",
     "shell.execute_reply": "2022-02-07T07:53:31.724055Z",
     "shell.execute_reply.started": "2022-02-07T06:38:42.291595Z"
    },
    "papermill": {
     "duration": 2.485484,
     "end_time": "2022-02-07T07:53:31.724256",
     "exception": false,
     "start_time": "2022-02-07T07:53:29.238772",
     "status": "completed"
    },
    "tags": []
   },
   "outputs": [
    {
     "name": "stderr",
     "output_type": "stream",
     "text": [
      "  0%|          | 0/34 [00:00<?, ?it/s]\n",
      "100%|██████████| 46/46 [00:00<00:00, 188232.18it/s]\n",
      "\n",
      "100%|██████████| 46/46 [00:00<00:00, 845.37it/s]\n",
      "\n",
      "100%|██████████| 46/46 [00:00<00:00, 856.58it/s]\n",
      "  9%|▉         | 3/34 [00:00<00:01, 24.76it/s]"
     ]
    },
    {
     "name": "stdout",
     "output_type": "stream",
     "text": [
      "First  (2, 20) (114.5878787878788, 22.77777777777778) 1\n"
     ]
    },
    {
     "name": "stderr",
     "output_type": "stream",
     "text": [
      "\n",
      "100%|██████████| 46/46 [00:00<00:00, 863.90it/s]\n",
      "\n",
      "100%|██████████| 46/46 [00:00<00:00, 826.14it/s]\n",
      "\n",
      "100%|██████████| 46/46 [00:00<00:00, 842.17it/s]\n",
      " 18%|█▊        | 6/34 [00:00<00:01, 19.43it/s]\n",
      "100%|██████████| 46/46 [00:00<00:00, 672.49it/s]\n",
      "\n",
      "100%|██████████| 46/46 [00:00<00:00, 611.50it/s]\n",
      "\n",
      "100%|██████████| 46/46 [00:00<00:00, 723.85it/s]\n",
      " 26%|██▋       | 9/34 [00:00<00:01, 16.07it/s]\n",
      "100%|██████████| 46/46 [00:00<00:00, 624.12it/s]\n",
      "\n",
      "100%|██████████| 46/46 [00:00<00:00, 618.80it/s]\n",
      " 32%|███▏      | 11/34 [00:00<00:01, 14.75it/s]\n",
      "100%|██████████| 46/46 [00:00<00:00, 644.79it/s]\n",
      "\n",
      "100%|██████████| 46/46 [00:00<00:00, 816.91it/s]\n",
      " 38%|███▊      | 13/34 [00:00<00:01, 14.56it/s]\n",
      "100%|██████████| 46/46 [00:00<00:00, 784.40it/s]\n",
      "\n",
      "100%|██████████| 46/46 [00:00<00:00, 676.78it/s]\n",
      " 44%|████▍     | 15/34 [00:00<00:01, 14.60it/s]\n",
      "100%|██████████| 46/46 [00:00<00:00, 820.26it/s]\n",
      "\n",
      "100%|██████████| 46/46 [00:00<00:00, 821.00it/s]\n",
      " 50%|█████     | 17/34 [00:01<00:01, 14.99it/s]\n",
      "100%|██████████| 46/46 [00:00<00:00, 649.72it/s]\n",
      "\n",
      "100%|██████████| 46/46 [00:00<00:00, 606.42it/s]\n",
      " 56%|█████▌    | 19/34 [00:01<00:01, 14.10it/s]\n",
      "100%|██████████| 46/46 [00:00<00:00, 628.63it/s]\n",
      "\n",
      "100%|██████████| 46/46 [00:00<00:00, 595.12it/s]\n",
      " 62%|██████▏   | 21/34 [00:01<00:00, 13.47it/s]\n",
      "100%|██████████| 46/46 [00:00<00:00, 692.16it/s]\n",
      "\n",
      "100%|██████████| 46/46 [00:00<00:00, 705.73it/s]\n",
      " 68%|██████▊   | 23/34 [00:01<00:00, 13.56it/s]\n",
      "100%|██████████| 46/46 [00:00<00:00, 571.41it/s]\n",
      "\n",
      "100%|██████████| 46/46 [00:00<00:00, 739.40it/s]\n",
      " 74%|███████▎  | 25/34 [00:01<00:00, 13.29it/s]\n",
      "100%|██████████| 46/46 [00:00<00:00, 631.81it/s]\n",
      "\n",
      "100%|██████████| 46/46 [00:00<00:00, 740.02it/s]\n",
      " 79%|███████▉  | 27/34 [00:01<00:00, 13.41it/s]\n",
      "100%|██████████| 46/46 [00:00<00:00, 576.02it/s]\n",
      "\n",
      "100%|██████████| 46/46 [00:00<00:00, 774.11it/s]\n",
      " 85%|████████▌ | 29/34 [00:02<00:00, 13.23it/s]\n",
      "100%|██████████| 46/46 [00:00<00:00, 646.65it/s]\n",
      "\n",
      "100%|██████████| 46/46 [00:00<00:00, 663.20it/s]\n",
      " 91%|█████████ | 31/34 [00:02<00:00, 13.17it/s]\n",
      "100%|██████████| 46/46 [00:00<00:00, 655.48it/s]\n",
      "\n",
      "100%|██████████| 46/46 [00:00<00:00, 669.48it/s]\n",
      " 97%|█████████▋| 33/34 [00:02<00:00, 13.15it/s]\n",
      "100%|██████████| 46/46 [00:00<00:00, 659.51it/s]\n",
      "100%|██████████| 34/34 [00:02<00:00, 14.17it/s]"
     ]
    },
    {
     "name": "stdout",
     "output_type": "stream",
     "text": [
      "(21, 38)\n",
      "{(1, 1): 0, (1, 2): 0, (1, 3): 0, (1, 4): 0, (1, 5): 0, (1, 6): 0, (1, 7): 0, (1, 8): 0, (1, 9): 0, (1, 10): 0, (1, 11): 0, (1, 12): 0, (1, 13): 0, (1, 14): 0, (1, 15): 0, (1, 16): 0, (1, 17): 0, (1, 18): 0, (1, 19): 0, (1, 20): 0, (1, 21): 0, (1, 22): 0, (1, 23): 0, (1, 24): 0, (1, 25): 0, (1, 26): 0, (1, 27): 0, (1, 28): 0, (1, 29): 0, (1, 30): 0, (1, 31): 0, (1, 32): 0, (1, 33): 0, (1, 34): 0, (1, 35): 0, (1, 36): 0, (1, 37): 0, (1, 38): 0, (1, 39): 0, (1, 40): 0, (1, 41): 0, (1, 42): 0, (1, 43): 0, (1, 44): 0, (1, 45): 0, (2, 1): 0, (2, 2): 0, (2, 3): 0, (2, 4): 0, (2, 5): 0, (2, 6): 0, (2, 7): 0, (2, 8): 0, (2, 9): 0, (2, 10): 0, (2, 11): 0, (2, 12): 0, (2, 13): 0, (2, 14): 0, (2, 15): 0, (2, 16): 0, (2, 17): 0, (2, 18): 0, (2, 19): 0, (2, 20): 1, (2, 21): 0, (2, 22): 0, (2, 23): 0, (2, 24): 1, (2, 25): 1, (2, 26): 0, (2, 27): 0, (2, 28): 0, (2, 29): 0, (2, 30): 0, (2, 31): 0, (2, 32): 0, (2, 33): 0, (2, 34): 0, (2, 35): 0, (2, 36): 0, (2, 37): 0, (2, 38): 0, (2, 39): 0, (2, 40): 0, (2, 41): 0, (2, 42): 0, (2, 43): 0, (2, 44): 0, (2, 45): 0, (3, 1): 0, (3, 2): 0, (3, 3): 0, (3, 4): 0, (3, 5): 0, (3, 6): 0, (3, 7): 0, (3, 8): 0, (3, 9): 0, (3, 10): 0, (3, 11): 0, (3, 12): 0, (3, 13): 0, (3, 14): 0, (3, 15): 0, (3, 16): 0, (3, 17): 0, (3, 18): 1, (3, 19): 2, (3, 20): 0, (3, 21): 0, (3, 22): 0, (3, 23): 0, (3, 24): 0, (3, 25): 0, (3, 26): 0, (3, 27): 0, (3, 28): 0, (3, 29): 1, (3, 30): 0, (3, 31): 1, (3, 32): 0, (3, 33): 1, (3, 34): 5, (3, 35): 1, (3, 36): 3, (3, 37): 1, (3, 38): 0, (3, 39): 0, (3, 40): 0, (3, 41): 0, (3, 42): 0, (3, 43): 0, (3, 44): 0, (3, 45): 0, (4, 1): 0, (4, 2): 0, (4, 3): 0, (4, 4): 0, (4, 5): 0, (4, 6): 0, (4, 7): 0, (4, 8): 0, (4, 9): 0, (4, 10): 0, (4, 11): 0, (4, 12): 0, (4, 13): 0, (4, 14): 0, (4, 15): 0, (4, 16): 0, (4, 17): 0, (4, 18): 2, (4, 19): 0, (4, 20): 0, (4, 21): 0, (4, 22): 0, (4, 23): 0, (4, 24): 0, (4, 25): 0, (4, 26): 0, (4, 27): 0, (4, 28): 0, (4, 29): 0, (4, 30): 1, (4, 31): 1, (4, 32): 0, (4, 33): 1, (4, 34): 3, (4, 35): 2, (4, 36): 1, (4, 37): 2, (4, 38): 1, (4, 39): 0, (4, 40): 0, (4, 41): 0, (4, 42): 0, (4, 43): 0, (4, 44): 0, (4, 45): 0, (5, 1): 0, (5, 2): 0, (5, 3): 0, (5, 4): 0, (5, 5): 0, (5, 6): 0, (5, 7): 0, (5, 8): 0, (5, 9): 0, (5, 10): 0, (5, 11): 0, (5, 12): 0, (5, 13): 0, (5, 14): 0, (5, 15): 0, (5, 16): 0, (5, 17): 0, (5, 18): 0, (5, 19): 0, (5, 20): 0, (5, 21): 1, (5, 22): 0, (5, 23): 0, (5, 24): 0, (5, 25): 0, (5, 26): 0, (5, 27): 0, (5, 28): 1, (5, 29): 0, (5, 30): 0, (5, 31): 0, (5, 32): 0, (5, 33): 1, (5, 34): 0, (5, 35): 0, (5, 36): 1, (5, 37): 0, (5, 38): 1, (5, 39): 0, (5, 40): 0, (5, 41): 0, (5, 42): 0, (5, 43): 0, (5, 44): 0, (5, 45): 0, (6, 1): 0, (6, 2): 0, (6, 3): 0, (6, 4): 0, (6, 5): 0, (6, 6): 0, (6, 7): 0, (6, 8): 0, (6, 9): 0, (6, 10): 0, (6, 11): 0, (6, 12): 0, (6, 13): 0, (6, 14): 0, (6, 15): 0, (6, 16): 0, (6, 17): 1, (6, 18): 1, (6, 19): 0, (6, 20): 0, (6, 21): 0, (6, 22): 0, (6, 23): 0, (6, 24): 0, (6, 25): 0, (6, 26): 0, (6, 27): 0, (6, 28): 0, (6, 29): 0, (6, 30): 0, (6, 31): 0, (6, 32): 0, (6, 33): 1, (6, 34): 0, (6, 35): 1, (6, 36): 1, (6, 37): 1, (6, 38): 0, (6, 39): 0, (6, 40): 0, (6, 41): 0, (6, 42): 0, (6, 43): 0, (6, 44): 0, (6, 45): 0, (7, 1): 0, (7, 2): 0, (7, 3): 0, (7, 4): 0, (7, 5): 0, (7, 6): 0, (7, 7): 0, (7, 8): 0, (7, 9): 0, (7, 10): 0, (7, 11): 0, (7, 12): 0, (7, 13): 0, (7, 14): 0, (7, 15): 0, (7, 16): 0, (7, 17): 0, (7, 18): 0, (7, 19): 0, (7, 20): 0, (7, 21): 1, (7, 22): 0, (7, 23): 0, (7, 24): 0, (7, 25): 0, (7, 26): 0, (7, 27): 0, (7, 28): 1, (7, 29): 0, (7, 30): 0, (7, 31): 0, (7, 32): 0, (7, 33): 0, (7, 34): 0, (7, 35): 0, (7, 36): 1, (7, 37): 0, (7, 38): 0, (7, 39): 0, (7, 40): 0, (7, 41): 0, (7, 42): 0, (7, 43): 0, (7, 44): 0, (7, 45): 0, (8, 1): 0, (8, 2): 0, (8, 3): 0, (8, 4): 0, (8, 5): 0, (8, 6): 0, (8, 7): 0, (8, 8): 0, (8, 9): 0, (8, 10): 0, (8, 11): 0, (8, 12): 0, (8, 13): 1, (8, 14): 0, (8, 15): 0, (8, 16): 0, (8, 17): 0, (8, 18): 0, (8, 19): 1, (8, 20): 0, (8, 21): 0, (8, 22): 0, (8, 23): 0, (8, 24): 0, (8, 25): 0, (8, 26): 0, (8, 27): 0, (8, 28): 0, (8, 29): 1, (8, 30): 0, (8, 31): 0, (8, 32): 1, (8, 33): 0, (8, 34): 1, (8, 35): 0, (8, 36): 1, (8, 37): 1, (8, 38): 0, (8, 39): 0, (8, 40): 0, (8, 41): 0, (8, 42): 0, (8, 43): 0, (8, 44): 0, (8, 45): 0, (9, 1): 0, (9, 2): 0, (9, 3): 0, (9, 4): 0, (9, 5): 0, (9, 6): 0, (9, 7): 0, (9, 8): 0, (9, 9): 0, (9, 10): 0, (9, 11): 0, (9, 12): 0, (9, 13): 0, (9, 14): 0, (9, 15): 0, (9, 16): 0, (9, 17): 0, (9, 18): 0, (9, 19): 0, (9, 20): 0, (9, 21): 0, (9, 22): 0, (9, 23): 0, (9, 24): 0, (9, 25): 0, (9, 26): 0, (9, 27): 0, (9, 28): 0, (9, 29): 1, (9, 30): 0, (9, 31): 0, (9, 32): 0, (9, 33): 0, (9, 34): 0, (9, 35): 0, (9, 36): 0, (9, 37): 0, (9, 38): 0, (9, 39): 0, (9, 40): 0, (9, 41): 0, (9, 42): 0, (9, 43): 0, (9, 44): 0, (9, 45): 0, (10, 1): 0, (10, 2): 0, (10, 3): 0, (10, 4): 0, (10, 5): 0, (10, 6): 0, (10, 7): 0, (10, 8): 0, (10, 9): 0, (10, 10): 0, (10, 11): 0, (10, 12): 0, (10, 13): 2, (10, 14): 0, (10, 15): 0, (10, 16): 0, (10, 17): 0, (10, 18): 0, (10, 19): 0, (10, 20): 0, (10, 21): 0, (10, 22): 0, (10, 23): 0, (10, 24): 0, (10, 25): 0, (10, 26): 0, (10, 27): 0, (10, 28): 0, (10, 29): 0, (10, 30): 0, (10, 31): 0, (10, 32): 0, (10, 33): 0, (10, 34): 0, (10, 35): 0, (10, 36): 0, (10, 37): 0, (10, 38): 0, (10, 39): 0, (10, 40): 0, (10, 41): 0, (10, 42): 0, (10, 43): 0, (10, 44): 0, (10, 45): 0, (11, 1): 0, (11, 2): 0, (11, 3): 0, (11, 4): 0, (11, 5): 0, (11, 6): 0, (11, 7): 1, (11, 8): 0, (11, 9): 0, (11, 10): 0, (11, 11): 0, (11, 12): 0, (11, 13): 0, (11, 14): 1, (11, 15): 0, (11, 16): 0, (11, 17): 0, (11, 18): 0, (11, 19): 0, (11, 20): 0, (11, 21): 0, (11, 22): 0, (11, 23): 0, (11, 24): 0, (11, 25): 0, (11, 26): 0, (11, 27): 0, (11, 28): 0, (11, 29): 0, (11, 30): 0, (11, 31): 0, (11, 32): 0, (11, 33): 0, (11, 34): 0, (11, 35): 0, (11, 36): 0, (11, 37): 0, (11, 38): 0, (11, 39): 0, (11, 40): 0, (11, 41): 0, (11, 42): 0, (11, 43): 0, (11, 44): 0, (11, 45): 0, (12, 1): 0, (12, 2): 0, (12, 3): 0, (12, 4): 0, (12, 5): 0, (12, 6): 0, (12, 7): 0, (12, 8): 1, (12, 9): 0, (12, 10): 0, (12, 11): 0, (12, 12): 0, (12, 13): 0, (12, 14): 0, (12, 15): 0, (12, 16): 0, (12, 17): 0, (12, 18): 0, (12, 19): 0, (12, 20): 0, (12, 21): 0, (12, 22): 0, (12, 23): 0, (12, 24): 0, (12, 25): 0, (12, 26): 0, (12, 27): 0, (12, 28): 0, (12, 29): 0, (12, 30): 0, (12, 31): 0, (12, 32): 0, (12, 33): 0, (12, 34): 0, (12, 35): 0, (12, 36): 0, (12, 37): 0, (12, 38): 0, (12, 39): 0, (12, 40): 0, (12, 41): 0, (12, 42): 0, (12, 43): 0, (12, 44): 0, (12, 45): 0, (13, 1): 0, (13, 2): 0, (13, 3): 0, (13, 4): 0, (13, 5): 0, (13, 6): 0, (13, 7): 0, (13, 8): 0, (13, 9): 0, (13, 10): 2, (13, 11): 0, (13, 12): 1, (13, 13): 0, (13, 14): 1, (13, 15): 0, (13, 16): 0, (13, 17): 0, (13, 18): 0, (13, 19): 0, (13, 20): 0, (13, 21): 0, (13, 22): 0, (13, 23): 0, (13, 24): 1, (13, 25): 0, (13, 26): 0, (13, 27): 0, (13, 28): 0, (13, 29): 0, (13, 30): 0, (13, 31): 0, (13, 32): 1, (13, 33): 0, (13, 34): 0, (13, 35): 0, (13, 36): 0, (13, 37): 0, (13, 38): 0, (13, 39): 0, (13, 40): 0, (13, 41): 0, (13, 42): 0, (13, 43): 0, (13, 44): 0, (13, 45): 0, (14, 1): 0, (14, 2): 0, (14, 3): 0, (14, 4): 0, (14, 5): 1, (14, 6): 0, (14, 7): 0, (14, 8): 0, (14, 9): 0, (14, 10): 0, (14, 11): 0, (14, 12): 0, (14, 13): 0, (14, 14): 0, (14, 15): 0, (14, 16): 0, (14, 17): 1, (14, 18): 0, (14, 19): 0, (14, 20): 0, (14, 21): 1, (14, 22): 0, (14, 23): 0, (14, 24): 0, (14, 25): 0, (14, 26): 0, (14, 27): 0, (14, 28): 0, (14, 29): 0, (14, 30): 0, (14, 31): 0, (14, 32): 0, (14, 33): 1, (14, 34): 0, (14, 35): 0, (14, 36): 0, (14, 37): 0, (14, 38): 0, (14, 39): 0, (14, 40): 0, (14, 41): 0, (14, 42): 0, (14, 43): 0, (14, 44): 0, (14, 45): 0, (15, 1): 0, (15, 2): 0, (15, 3): 0, (15, 4): 1, (15, 5): 1, (15, 6): 2, (15, 7): 0, (15, 8): 1, (15, 9): 1, (15, 10): 0, (15, 11): 1, (15, 12): 0, (15, 13): 0, (15, 14): 0, (15, 15): 0, (15, 16): 0, (15, 17): 0, (15, 18): 0, (15, 19): 0, (15, 20): 0, (15, 21): 0, (15, 22): 0, (15, 23): 0, (15, 24): 0, (15, 25): 0, (15, 26): 0, (15, 27): 0, (15, 28): 0, (15, 29): 0, (15, 30): 0, (15, 31): 0, (15, 32): 0, (15, 33): 1, (15, 34): 0, (15, 35): 0, (15, 36): 0, (15, 37): 0, (15, 38): 0, (15, 39): 0, (15, 40): 0, (15, 41): 0, (15, 42): 0, (15, 43): 0, (15, 44): 0, (15, 45): 0, (16, 1): 0, (16, 2): 0, (16, 3): 0, (16, 4): 0, (16, 5): 0, (16, 6): 0, (16, 7): 0, (16, 8): 0, (16, 9): 1, (16, 10): 0, (16, 11): 0, (16, 12): 0, (16, 13): 0, (16, 14): 0, (16, 15): 0, (16, 16): 0, (16, 17): 0, (16, 18): 0, (16, 19): 0, (16, 20): 0, (16, 21): 0, (16, 22): 0, (16, 23): 0, (16, 24): 0, (16, 25): 0, (16, 26): 1, (16, 27): 0, (16, 28): 0, (16, 29): 0, (16, 30): 0, (16, 31): 0, (16, 32): 0, (16, 33): 0, (16, 34): 0, (16, 35): 0, (16, 36): 0, (16, 37): 0, (16, 38): 0, (16, 39): 0, (16, 40): 0, (16, 41): 0, (16, 42): 0, (16, 43): 0, (16, 44): 0, (16, 45): 0, (17, 1): 0, (17, 2): 0, (17, 3): 1, (17, 4): 1, (17, 5): 0, (17, 6): 1, (17, 7): 0, (17, 8): 0, (17, 9): 0, (17, 10): 0, (17, 11): 1, (17, 12): 0, (17, 13): 0, (17, 14): 0, (17, 15): 0, (17, 16): 0, (17, 17): 0, (17, 18): 0, (17, 19): 0, (17, 20): 1, (17, 21): 0, (17, 22): 1, (17, 23): 0, (17, 24): 0, (17, 25): 0, (17, 26): 0, (17, 27): 0, (17, 28): 0, (17, 29): 0, (17, 30): 0, (17, 31): 0, (17, 32): 0, (17, 33): 0, (17, 34): 0, (17, 35): 0, (17, 36): 0, (17, 37): 0, (17, 38): 0, (17, 39): 0, (17, 40): 0, (17, 41): 0, (17, 42): 0, (17, 43): 0, (17, 44): 0, (17, 45): 0, (18, 1): 0, (18, 2): 0, (18, 3): 0, (18, 4): 0, (18, 5): 2, (18, 6): 0, (18, 7): 0, (18, 8): 0, (18, 9): 0, (18, 10): 0, (18, 11): 0, (18, 12): 0, (18, 13): 0, (18, 14): 0, (18, 15): 0, (18, 16): 1, (18, 17): 0, (18, 18): 0, (18, 19): 0, (18, 20): 0, (18, 21): 0, (18, 22): 0, (18, 23): 0, (18, 24): 0, (18, 25): 0, (18, 26): 0, (18, 27): 0, (18, 28): 0, (18, 29): 0, (18, 30): 1, (18, 31): 0, (18, 32): 1, (18, 33): 0, (18, 34): 0, (18, 35): 1, (18, 36): 0, (18, 37): 0, (18, 38): 0, (18, 39): 0, (18, 40): 0, (18, 41): 0, (18, 42): 0, (18, 43): 0, (18, 44): 0, (18, 45): 0, (19, 1): 0, (19, 2): 0, (19, 3): 0, (19, 4): 0, (19, 5): 0, (19, 6): 0, (19, 7): 0, (19, 8): 1, (19, 9): 0, (19, 10): 0, (19, 11): 1, (19, 12): 0, (19, 13): 0, (19, 14): 0, (19, 15): 0, (19, 16): 0, (19, 17): 0, (19, 18): 0, (19, 19): 0, (19, 20): 0, (19, 21): 0, (19, 22): 0, (19, 23): 0, (19, 24): 0, (19, 25): 0, (19, 26): 0, (19, 27): 1, (19, 28): 0, (19, 29): 0, (19, 30): 0, (19, 31): 0, (19, 32): 0, (19, 33): 0, (19, 34): 0, (19, 35): 1, (19, 36): 0, (19, 37): 1, (19, 38): 1, (19, 39): 0, (19, 40): 0, (19, 41): 0, (19, 42): 0, (19, 43): 0, (19, 44): 0, (19, 45): 0, (20, 1): 0, (20, 2): 0, (20, 3): 1, (20, 4): 0, (20, 5): 2, (20, 6): 0, (20, 7): 0, (20, 8): 0, (20, 9): 0, (20, 10): 1, (20, 11): 0, (20, 12): 0, (20, 13): 0, (20, 14): 0, (20, 15): 0, (20, 16): 0, (20, 17): 0, (20, 18): 0, (20, 19): 0, (20, 20): 0, (20, 21): 0, (20, 22): 0, (20, 23): 0, (20, 24): 0, (20, 25): 0, (20, 26): 0, (20, 27): 0, (20, 28): 0, (20, 29): 0, (20, 30): 0, (20, 31): 0, (20, 32): 1, (20, 33): 1, (20, 34): 0, (20, 35): 2, (20, 36): 0, (20, 37): 1, (20, 38): 2, (20, 39): 4, (20, 40): 0, (20, 41): 0, (20, 42): 0, (20, 43): 0, (20, 44): 0, (20, 45): 0, (21, 1): 0, (21, 2): 0, (21, 3): 0, (21, 4): 0, (21, 5): 0, (21, 6): 0, (21, 7): 0, (21, 8): 0, (21, 9): 0, (21, 10): 0, (21, 11): 0, (21, 12): 0, (21, 13): 0, (21, 14): 0, (21, 15): 1, (21, 16): 1, (21, 17): 0, (21, 18): 0, (21, 19): 0, (21, 20): 0, (21, 21): 0, (21, 22): 0, (21, 23): 0, (21, 24): 0, (21, 25): 0, (21, 26): 0, (21, 27): 0, (21, 28): 0, (21, 29): 0, (21, 30): 0, (21, 31): 1, (21, 32): 0, (21, 33): 0, (21, 34): 0, (21, 35): 0, (21, 36): 1, (21, 37): 2, (21, 38): 8, (21, 39): 4, (21, 40): 0, (21, 41): 0, (21, 42): 0, (21, 43): 0, (21, 44): 0, (21, 45): 0, (22, 1): 0, (22, 2): 0, (22, 3): 0, (22, 4): 0, (22, 5): 0, (22, 6): 0, (22, 7): 0, (22, 8): 0, (22, 9): 0, (22, 10): 0, (22, 11): 0, (22, 12): 0, (22, 13): 1, (22, 14): 0, (22, 15): 0, (22, 16): 0, (22, 17): 1, (22, 18): 0, (22, 19): 1, (22, 20): 0, (22, 21): 0, (22, 22): 0, (22, 23): 0, (22, 24): 0, (22, 25): 1, (22, 26): 0, (22, 27): 0, (22, 28): 1, (22, 29): 0, (22, 30): 0, (22, 31): 0, (22, 32): 0, (22, 33): 0, (22, 34): 0, (22, 35): 1, (22, 36): 0, (22, 37): 0, (22, 38): 1, (22, 39): 0, (22, 40): 1, (22, 41): 2, (22, 42): 0, (22, 43): 0, (22, 44): 0, (22, 45): 0, (23, 1): 0, (23, 2): 0, (23, 3): 0, (23, 4): 0, (23, 5): 0, (23, 6): 0, (23, 7): 0, (23, 8): 0, (23, 9): 0, (23, 10): 1, (23, 11): 0, (23, 12): 0, (23, 13): 0, (23, 14): 0, (23, 15): 0, (23, 16): 0, (23, 17): 2, (23, 18): 0, (23, 19): 1, (23, 20): 0, (23, 21): 0, (23, 22): 0, (23, 23): 0, (23, 24): 0, (23, 25): 0, (23, 26): 0, (23, 27): 0, (23, 28): 0, (23, 29): 0, (23, 30): 0, (23, 31): 0, (23, 32): 0, (23, 33): 1, (23, 34): 1, (23, 35): 0, (23, 36): 0, (23, 37): 2, (23, 38): 0, (23, 39): 1, (23, 40): 1, (23, 41): 3, (23, 42): 4, (23, 43): 2, (23, 44): 0, (23, 45): 0, (24, 1): 0, (24, 2): 0, (24, 3): 1, (24, 4): 0, (24, 5): 0, (24, 6): 2, (24, 7): 0, (24, 8): 0, (24, 9): 0, (24, 10): 0, (24, 11): 0, (24, 12): 0, (24, 13): 0, (24, 14): 0, (24, 15): 0, (24, 16): 0, (24, 17): 0, (24, 18): 0, (24, 19): 0, (24, 20): 0, (24, 21): 0, (24, 22): 0, (24, 23): 0, (24, 24): 0, (24, 25): 0, (24, 26): 0, (24, 27): 1, (24, 28): 0, (24, 29): 0, (24, 30): 1, (24, 31): 0, (24, 32): 0, (24, 33): 0, (24, 34): 0, (24, 35): 0, (24, 36): 0, (24, 37): 0, (24, 38): 1, (24, 39): 1, (24, 40): 0, (24, 41): 4, (24, 42): 2, (24, 43): 3, (24, 44): 0, (24, 45): 0, (25, 1): 0, (25, 2): 0, (25, 3): 0, (25, 4): 0, (25, 5): 0, (25, 6): 0, (25, 7): 1, (25, 8): 0, (25, 9): 0, (25, 10): 0, (25, 11): 1, (25, 12): 0, (25, 13): 0, (25, 14): 1, (25, 15): 0, (25, 16): 0, (25, 17): 1, (25, 18): 1, (25, 19): 0, (25, 20): 1, (25, 21): 1, (25, 22): 0, (25, 23): 0, (25, 24): 0, (25, 25): 0, (25, 26): 0, (25, 27): 0, (25, 28): 1, (25, 29): 0, (25, 30): 0, (25, 31): 0, (25, 32): 1, (25, 33): 1, (25, 34): 0, (25, 35): 1, (25, 36): 0, (25, 37): 0, (25, 38): 0, (25, 39): 1, (25, 40): 1, (25, 41): 2, (25, 42): 2, (25, 43): 2, (25, 44): 1, (25, 45): 1, (26, 1): 0, (26, 2): 0, (26, 3): 0, (26, 4): 0, (26, 5): 0, (26, 6): 0, (26, 7): 0, (26, 8): 0, (26, 9): 1, (26, 10): 1, (26, 11): 1, (26, 12): 1, (26, 13): 0, (26, 14): 0, (26, 15): 0, (26, 16): 0, (26, 17): 0, (26, 18): 0, (26, 19): 0, (26, 20): 0, (26, 21): 0, (26, 22): 0, (26, 23): 1, (26, 24): 0, (26, 25): 0, (26, 26): 0, (26, 27): 0, (26, 28): 0, (26, 29): 0, (26, 30): 0, (26, 31): 0, (26, 32): 0, (26, 33): 0, (26, 34): 0, (26, 35): 0, (26, 36): 0, (26, 37): 0, (26, 38): 1, (26, 39): 1, (26, 40): 3, (26, 41): 2, (26, 42): 7, (26, 43): 6, (26, 44): 0, (26, 45): 0, (27, 1): 0, (27, 2): 0, (27, 3): 0, (27, 4): 0, (27, 5): 0, (27, 6): 0, (27, 7): 0, (27, 8): 0, (27, 9): 0, (27, 10): 0, (27, 11): 0, (27, 12): 1, (27, 13): 1, (27, 14): 0, (27, 15): 1, (27, 16): 1, (27, 17): 0, (27, 18): 0, (27, 19): 0, (27, 20): 0, (27, 21): 0, (27, 22): 0, (27, 23): 0, (27, 24): 0, (27, 25): 0, (27, 26): 1, (27, 27): 0, (27, 28): 0, (27, 29): 0, (27, 30): 0, (27, 31): 1, (27, 32): 0, (27, 33): 2, (27, 34): 0, (27, 35): 0, (27, 36): 0, (27, 37): 1, (27, 38): 2, (27, 39): 0, (27, 40): 4, (27, 41): 2, (27, 42): 1, (27, 43): 2, (27, 44): 3, (27, 45): 0, (28, 1): 0, (28, 2): 0, (28, 3): 0, (28, 4): 0, (28, 5): 0, (28, 6): 0, (28, 7): 0, (28, 8): 0, (28, 9): 0, (28, 10): 0, (28, 11): 0, (28, 12): 0, (28, 13): 0, (28, 14): 0, (28, 15): 0, (28, 16): 2, (28, 17): 0, (28, 18): 0, (28, 19): 0, (28, 20): 0, (28, 21): 0, (28, 22): 2, (28, 23): 0, (28, 24): 0, (28, 25): 0, (28, 26): 0, (28, 27): 0, (28, 28): 0, (28, 29): 0, (28, 30): 0, (28, 31): 1, (28, 32): 0, (28, 33): 0, (28, 34): 1, (28, 35): 1, (28, 36): 2, (28, 37): 2, (28, 38): 1, (28, 39): 0, (28, 40): 3, (28, 41): 3, (28, 42): 3, (28, 43): 1, (28, 44): 0, (28, 45): 0, (29, 1): 0, (29, 2): 0, (29, 3): 0, (29, 4): 0, (29, 5): 0, (29, 6): 0, (29, 7): 0, (29, 8): 0, (29, 9): 0, (29, 10): 0, (29, 11): 0, (29, 12): 0, (29, 13): 0, (29, 14): 0, (29, 15): 0, (29, 16): 0, (29, 17): 3, (29, 18): 1, (29, 19): 0, (29, 20): 1, (29, 21): 0, (29, 22): 0, (29, 23): 0, (29, 24): 0, (29, 25): 0, (29, 26): 1, (29, 27): 0, (29, 28): 1, (29, 29): 0, (29, 30): 0, (29, 31): 0, (29, 32): 1, (29, 33): 1, (29, 34): 1, (29, 35): 0, (29, 36): 1, (29, 37): 2, (29, 38): 0, (29, 39): 3, (29, 40): 4, (29, 41): 2, (29, 42): 1, (29, 43): 0, (29, 44): 0, (29, 45): 0, (30, 1): 0, (30, 2): 0, (30, 3): 0, (30, 4): 0, (30, 5): 0, (30, 6): 0, (30, 7): 0, (30, 8): 0, (30, 9): 0, (30, 10): 0, (30, 11): 1, (30, 12): 0, (30, 13): 0, (30, 14): 0, (30, 15): 0, (30, 16): 0, (30, 17): 1, (30, 18): 0, (30, 19): 1, (30, 20): 2, (30, 21): 2, (30, 22): 0, (30, 23): 1, (30, 24): 0, (30, 25): 0, (30, 26): 1, (30, 27): 0, (30, 28): 0, (30, 29): 0, (30, 30): 1, (30, 31): 1, (30, 32): 1, (30, 33): 1, (30, 34): 1, (30, 35): 2, (30, 36): 4, (30, 37): 3, (30, 38): 5, (30, 39): 2, (30, 40): 2, (30, 41): 2, (30, 42): 2, (30, 43): 0, (30, 44): 0, (30, 45): 0, (31, 1): 0, (31, 2): 0, (31, 3): 0, (31, 4): 0, (31, 5): 0, (31, 6): 0, (31, 7): 0, (31, 8): 0, (31, 9): 0, (31, 10): 0, (31, 11): 0, (31, 12): 0, (31, 13): 0, (31, 14): 0, (31, 15): 0, (31, 16): 0, (31, 17): 0, (31, 18): 0, (31, 19): 0, (31, 20): 0, (31, 21): 0, (31, 22): 1, (31, 23): 0, (31, 24): 0, (31, 25): 1, (31, 26): 1, (31, 27): 3, (31, 28): 1, (31, 29): 1, (31, 30): 0, (31, 31): 2, (31, 32): 1, (31, 33): 0, (31, 34): 1, (31, 35): 5, (31, 36): 3, (31, 37): 8, (31, 38): 1, (31, 39): 0, (31, 40): 0, (31, 41): 0, (31, 42): 0, (31, 43): 0, (31, 44): 0, (31, 45): 0, (32, 1): 0, (32, 2): 0, (32, 3): 0, (32, 4): 0, (32, 5): 0, (32, 6): 0, (32, 7): 0, (32, 8): 0, (32, 9): 0, (32, 10): 0, (32, 11): 0, (32, 12): 0, (32, 13): 0, (32, 14): 0, (32, 15): 1, (32, 16): 0, (32, 17): 0, (32, 18): 0, (32, 19): 1, (32, 20): 0, (32, 21): 0, (32, 22): 1, (32, 23): 0, (32, 24): 3, (32, 25): 1, (32, 26): 3, (32, 27): 6, (32, 28): 2, (32, 29): 2, (32, 30): 3, (32, 31): 2, (32, 32): 0, (32, 33): 2, (32, 34): 2, (32, 35): 0, (32, 36): 0, (32, 37): 0, (32, 38): 0, (32, 39): 0, (32, 40): 0, (32, 41): 0, (32, 42): 0, (32, 43): 0, (32, 44): 0, (32, 45): 0, (33, 1): 0, (33, 2): 0, (33, 3): 0, (33, 4): 0, (33, 5): 0, (33, 6): 0, (33, 7): 0, (33, 8): 0, (33, 9): 0, (33, 10): 0, (33, 11): 0, (33, 12): 0, (33, 13): 0, (33, 14): 0, (33, 15): 0, (33, 16): 0, (33, 17): 0, (33, 18): 0, (33, 19): 0, (33, 20): 0, (33, 21): 0, (33, 22): 0, (33, 23): 0, (33, 24): 0, (33, 25): 0, (33, 26): 0, (33, 27): 1, (33, 28): 2, (33, 29): 2, (33, 30): 0, (33, 31): 0, (33, 32): 0, (33, 33): 0, (33, 34): 0, (33, 35): 0, (33, 36): 0, (33, 37): 0, (33, 38): 0, (33, 39): 0, (33, 40): 0, (33, 41): 0, (33, 42): 0, (33, 43): 0, (33, 44): 0, (33, 45): 0}\n"
     ]
    },
    {
     "name": "stderr",
     "output_type": "stream",
     "text": [
      "\n"
     ]
    }
   ],
   "source": [
    "# check stations inside bin\n",
    "non_null_first = 0\n",
    "dict_w = {}\n",
    "for idx1, r in enumerate(tqdm(rows)):\n",
    "    for idx2, c in enumerate(tqdm(cols)):\n",
    "        if idx1 == 0 or idx2 == 0: continue\n",
    "        #print(r, c)\n",
    "        col_lat1 = cols[idx2 - 1]\n",
    "        col_lat2 = cols[idx2]\n",
    "        rows1_lng = rows[idx1 - 1]\n",
    "        rows2_lng = rows[idx1]\n",
    "        \n",
    "        #if idx1 < 3 and idx2 < 3:\n",
    "         #   print(-col_lat1, -col_lat2)\n",
    "         #   print(rows1_lng, rows2_lng)\n",
    "        \n",
    "        aus_1 = st_cnt_sample[\n",
    "          (st_cnt_sample.LATITUDE <= -col_lat1) & (st_cnt_sample.LATITUDE >= -col_lat2)]\n",
    "        aus_1 = aus_1[\n",
    "            (aus_1.LONGITUDE <= rows2_lng) & (aus_1.LONGITUDE >= rows1_lng)]\n",
    "        \n",
    "        if non_null_first == 0 and len(aus_1.index) > 0:\n",
    "            print('First ', (idx1, idx2), (r, c), len(aus_1.index))\n",
    "            non_null_first = len(aus_1.index)\n",
    "        dict_w[(idx1, idx2)] = len(aus_1.index)\n",
    "\n",
    "print(max(dict_w, key=dict_w.get))        \n",
    "print(dict_w)"
   ]
  },
  {
   "cell_type": "code",
   "execution_count": 26,
   "id": "708967d8",
   "metadata": {
    "execution": {
     "iopub.execute_input": "2022-02-07T07:53:32.011855Z",
     "iopub.status.busy": "2022-02-07T07:53:32.010446Z",
     "iopub.status.idle": "2022-02-07T07:53:32.034918Z",
     "shell.execute_reply": "2022-02-07T07:53:32.035687Z",
     "shell.execute_reply.started": "2022-02-07T06:38:44.348347Z"
    },
    "papermill": {
     "duration": 0.196941,
     "end_time": "2022-02-07T07:53:32.035958",
     "exception": false,
     "start_time": "2022-02-07T07:53:31.839017",
     "status": "completed"
    },
    "tags": []
   },
   "outputs": [
    {
     "data": {
      "text/plain": [
       "(389, 6)"
      ]
     },
     "execution_count": 26,
     "metadata": {},
     "output_type": "execute_result"
    },
    {
     "data": {
      "text/html": [
       "<div>\n",
       "<style scoped>\n",
       "    .dataframe tbody tr th:only-of-type {\n",
       "        vertical-align: middle;\n",
       "    }\n",
       "\n",
       "    .dataframe tbody tr th {\n",
       "        vertical-align: top;\n",
       "    }\n",
       "\n",
       "    .dataframe thead th {\n",
       "        text-align: right;\n",
       "    }\n",
       "</style>\n",
       "<table border=\"1\" class=\"dataframe\">\n",
       "  <thead>\n",
       "    <tr style=\"text-align: right;\">\n",
       "      <th></th>\n",
       "      <th>STAT_ID</th>\n",
       "      <th>STATION</th>\n",
       "      <th>LATITUDE</th>\n",
       "      <th>LONGITUDE</th>\n",
       "      <th>count</th>\n",
       "      <th>st_bin</th>\n",
       "    </tr>\n",
       "  </thead>\n",
       "  <tbody>\n",
       "    <tr>\n",
       "      <th>0</th>\n",
       "      <td>1</td>\n",
       "      <td>94100099999</td>\n",
       "      <td>-14.30</td>\n",
       "      <td>126.63</td>\n",
       "      <td>108</td>\n",
       "      <td>4,21</td>\n",
       "    </tr>\n",
       "    <tr>\n",
       "      <th>1</th>\n",
       "      <td>2</td>\n",
       "      <td>94102099999</td>\n",
       "      <td>-13.75</td>\n",
       "      <td>126.15</td>\n",
       "      <td>108</td>\n",
       "      <td>3,20</td>\n",
       "    </tr>\n",
       "    <tr>\n",
       "      <th>10</th>\n",
       "      <td>11</td>\n",
       "      <td>94119099999</td>\n",
       "      <td>-11.40</td>\n",
       "      <td>130.42</td>\n",
       "      <td>108</td>\n",
       "      <td>1,26</td>\n",
       "    </tr>\n",
       "    <tr>\n",
       "      <th>11</th>\n",
       "      <td>12</td>\n",
       "      <td>94120099999</td>\n",
       "      <td>-12.41</td>\n",
       "      <td>130.88</td>\n",
       "      <td>108</td>\n",
       "      <td>2,27</td>\n",
       "    </tr>\n",
       "    <tr>\n",
       "      <th>12</th>\n",
       "      <td>13</td>\n",
       "      <td>94122099999</td>\n",
       "      <td>-11.78</td>\n",
       "      <td>130.02</td>\n",
       "      <td>108</td>\n",
       "      <td>2,26</td>\n",
       "    </tr>\n",
       "  </tbody>\n",
       "</table>\n",
       "</div>"
      ],
      "text/plain": [
       "    STAT_ID      STATION  LATITUDE  LONGITUDE  count st_bin\n",
       "0         1  94100099999    -14.30     126.63    108   4,21\n",
       "1         2  94102099999    -13.75     126.15    108   3,20\n",
       "10       11  94119099999    -11.40     130.42    108   1,26\n",
       "11       12  94120099999    -12.41     130.88    108   2,27\n",
       "12       13  94122099999    -11.78     130.02    108   2,26"
      ]
     },
     "execution_count": 26,
     "metadata": {},
     "output_type": "execute_result"
    }
   ],
   "source": [
    "st_cnt_sample['st_bin'] = st_cnt_sample.apply(lambda x: detect_bin(x.LATITUDE, x.LONGITUDE), axis=1)\n",
    "st_cnt_sample.shape\n",
    "st_cnt_sample.head()"
   ]
  },
  {
   "cell_type": "code",
   "execution_count": 27,
   "id": "e29e4bb2",
   "metadata": {
    "execution": {
     "iopub.execute_input": "2022-02-07T07:53:32.289291Z",
     "iopub.status.busy": "2022-02-07T07:53:32.288597Z",
     "iopub.status.idle": "2022-02-07T07:53:33.868899Z",
     "shell.execute_reply": "2022-02-07T07:53:33.868010Z",
     "shell.execute_reply.started": "2022-02-07T06:38:44.375841Z"
    },
    "papermill": {
     "duration": 1.693985,
     "end_time": "2022-02-07T07:53:33.869067",
     "exception": false,
     "start_time": "2022-02-07T07:53:32.175082",
     "status": "completed"
    },
    "tags": []
   },
   "outputs": [
    {
     "data": {
      "text/html": [
       "<div>\n",
       "<style scoped>\n",
       "    .dataframe tbody tr th:only-of-type {\n",
       "        vertical-align: middle;\n",
       "    }\n",
       "\n",
       "    .dataframe tbody tr th {\n",
       "        vertical-align: top;\n",
       "    }\n",
       "\n",
       "    .dataframe thead th {\n",
       "        text-align: right;\n",
       "    }\n",
       "</style>\n",
       "<table border=\"1\" class=\"dataframe\">\n",
       "  <thead>\n",
       "    <tr style=\"text-align: right;\">\n",
       "      <th></th>\n",
       "      <th>STATION</th>\n",
       "      <th>LATITUDE</th>\n",
       "      <th>LONGITUDE</th>\n",
       "      <th>year</th>\n",
       "      <th>month</th>\n",
       "      <th>T_MAX</th>\n",
       "      <th>T_MAX_MEAN</th>\n",
       "      <th>T_MEAN</th>\n",
       "      <th>DEWP_MEAN</th>\n",
       "      <th>WDSP_MEAN</th>\n",
       "      <th>MXSPD_MAX</th>\n",
       "      <th>st_bin</th>\n",
       "    </tr>\n",
       "  </thead>\n",
       "  <tbody>\n",
       "    <tr>\n",
       "      <th>0</th>\n",
       "      <td>94100099999</td>\n",
       "      <td>-14.3</td>\n",
       "      <td>126.63</td>\n",
       "      <td>2013</td>\n",
       "      <td>1</td>\n",
       "      <td>98.2</td>\n",
       "      <td>92.912903</td>\n",
       "      <td>83.251613</td>\n",
       "      <td>73.677419</td>\n",
       "      <td>4.151613</td>\n",
       "      <td>15.9</td>\n",
       "      <td>4,21</td>\n",
       "    </tr>\n",
       "    <tr>\n",
       "      <th>78</th>\n",
       "      <td>94100099999</td>\n",
       "      <td>-14.3</td>\n",
       "      <td>126.63</td>\n",
       "      <td>2019</td>\n",
       "      <td>7</td>\n",
       "      <td>94.1</td>\n",
       "      <td>90.822581</td>\n",
       "      <td>73.174194</td>\n",
       "      <td>47.225806</td>\n",
       "      <td>4.209677</td>\n",
       "      <td>14.0</td>\n",
       "      <td>4,21</td>\n",
       "    </tr>\n",
       "    <tr>\n",
       "      <th>77</th>\n",
       "      <td>94100099999</td>\n",
       "      <td>-14.3</td>\n",
       "      <td>126.63</td>\n",
       "      <td>2019</td>\n",
       "      <td>6</td>\n",
       "      <td>95.0</td>\n",
       "      <td>88.550000</td>\n",
       "      <td>73.200000</td>\n",
       "      <td>45.390000</td>\n",
       "      <td>4.240000</td>\n",
       "      <td>12.0</td>\n",
       "      <td>4,21</td>\n",
       "    </tr>\n",
       "    <tr>\n",
       "      <th>76</th>\n",
       "      <td>94100099999</td>\n",
       "      <td>-14.3</td>\n",
       "      <td>126.63</td>\n",
       "      <td>2019</td>\n",
       "      <td>5</td>\n",
       "      <td>98.8</td>\n",
       "      <td>92.212903</td>\n",
       "      <td>76.674194</td>\n",
       "      <td>55.309677</td>\n",
       "      <td>4.029032</td>\n",
       "      <td>13.0</td>\n",
       "      <td>4,21</td>\n",
       "    </tr>\n",
       "    <tr>\n",
       "      <th>75</th>\n",
       "      <td>94100099999</td>\n",
       "      <td>-14.3</td>\n",
       "      <td>126.63</td>\n",
       "      <td>2019</td>\n",
       "      <td>4</td>\n",
       "      <td>97.5</td>\n",
       "      <td>93.663333</td>\n",
       "      <td>81.046667</td>\n",
       "      <td>67.276667</td>\n",
       "      <td>3.376667</td>\n",
       "      <td>15.0</td>\n",
       "      <td>4,21</td>\n",
       "    </tr>\n",
       "  </tbody>\n",
       "</table>\n",
       "</div>"
      ],
      "text/plain": [
       "        STATION  LATITUDE  LONGITUDE  year  month  T_MAX  T_MAX_MEAN  \\\n",
       "0   94100099999     -14.3     126.63  2013      1   98.2   92.912903   \n",
       "78  94100099999     -14.3     126.63  2019      7   94.1   90.822581   \n",
       "77  94100099999     -14.3     126.63  2019      6   95.0   88.550000   \n",
       "76  94100099999     -14.3     126.63  2019      5   98.8   92.212903   \n",
       "75  94100099999     -14.3     126.63  2019      4   97.5   93.663333   \n",
       "\n",
       "       T_MEAN  DEWP_MEAN  WDSP_MEAN  MXSPD_MAX st_bin  \n",
       "0   83.251613  73.677419   4.151613       15.9   4,21  \n",
       "78  73.174194  47.225806   4.209677       14.0   4,21  \n",
       "77  73.200000  45.390000   4.240000       12.0   4,21  \n",
       "76  76.674194  55.309677   4.029032       13.0   4,21  \n",
       "75  81.046667  67.276667   3.376667       15.0   4,21  "
      ]
     },
     "execution_count": 27,
     "metadata": {},
     "output_type": "execute_result"
    }
   ],
   "source": [
    "aus_wth_agg['st_bin'] = aus_wth_agg.apply(lambda x: detect_bin(x.LATITUDE, x.LONGITUDE), axis=1)\n",
    "aus_wth_agg.head()"
   ]
  },
  {
   "cell_type": "code",
   "execution_count": 28,
   "id": "0726200c",
   "metadata": {
    "execution": {
     "iopub.execute_input": "2022-02-07T07:53:34.098342Z",
     "iopub.status.busy": "2022-02-07T07:53:34.097452Z",
     "iopub.status.idle": "2022-02-07T07:53:34.111600Z",
     "shell.execute_reply": "2022-02-07T07:53:34.112103Z",
     "shell.execute_reply.started": "2022-02-07T06:38:45.266298Z"
    },
    "papermill": {
     "duration": 0.131574,
     "end_time": "2022-02-07T07:53:34.112310",
     "exception": false,
     "start_time": "2022-02-07T07:53:33.980736",
     "status": "completed"
    },
    "tags": []
   },
   "outputs": [
    {
     "data": {
      "text/plain": [
       "239"
      ]
     },
     "execution_count": 28,
     "metadata": {},
     "output_type": "execute_result"
    },
    {
     "data": {
      "text/plain": [
       "array(['4,21', '4,21', '4,21', ..., '20,56', '20,56', '20,56'],\n",
       "      dtype=object)"
      ]
     },
     "execution_count": 28,
     "metadata": {},
     "output_type": "execute_result"
    },
    {
     "data": {
      "text/plain": [
       "(42012, 12)"
      ]
     },
     "execution_count": 28,
     "metadata": {},
     "output_type": "execute_result"
    }
   ],
   "source": [
    "el = aus_wth_agg['st_bin'].unique()\n",
    "len(el)\n",
    "aus_wth_agg['st_bin'].values\n",
    "aus_wth_agg.shape"
   ]
  },
  {
   "cell_type": "markdown",
   "id": "8a11d57d",
   "metadata": {
    "papermill": {
     "duration": 0.108606,
     "end_time": "2022-02-07T07:53:34.329720",
     "exception": false,
     "start_time": "2022-02-07T07:53:34.221114",
     "status": "completed"
    },
    "tags": []
   },
   "source": [
    "### Save binned weather data"
   ]
  },
  {
   "cell_type": "code",
   "execution_count": 29,
   "id": "51ab823f",
   "metadata": {
    "execution": {
     "iopub.execute_input": "2022-02-07T07:53:34.556704Z",
     "iopub.status.busy": "2022-02-07T07:53:34.555904Z",
     "iopub.status.idle": "2022-02-07T07:53:35.245393Z",
     "shell.execute_reply": "2022-02-07T07:53:35.246616Z",
     "shell.execute_reply.started": "2022-02-07T06:38:45.280624Z"
    },
    "papermill": {
     "duration": 0.809506,
     "end_time": "2022-02-07T07:53:35.248152",
     "exception": false,
     "start_time": "2022-02-07T07:53:34.438646",
     "status": "completed"
    },
    "tags": []
   },
   "outputs": [
    {
     "name": "stdout",
     "output_type": "stream",
     "text": [
      "Binned data saved\n"
     ]
    }
   ],
   "source": [
    "aus_wth_agg.to_csv(\"aus_weather_binned_new.csv\", index=False)\n",
    "print('Binned data saved')"
   ]
  },
  {
   "cell_type": "code",
   "execution_count": 30,
   "id": "d79999eb",
   "metadata": {
    "execution": {
     "iopub.execute_input": "2022-02-07T07:53:35.500045Z",
     "iopub.status.busy": "2022-02-07T07:53:35.499224Z",
     "iopub.status.idle": "2022-02-07T07:53:44.051858Z",
     "shell.execute_reply": "2022-02-07T07:53:44.052440Z",
     "shell.execute_reply.started": "2022-02-07T06:40:31.404609Z"
    },
    "papermill": {
     "duration": 8.679644,
     "end_time": "2022-02-07T07:53:44.052695",
     "exception": false,
     "start_time": "2022-02-07T07:53:35.373051",
     "status": "completed"
    },
    "tags": []
   },
   "outputs": [
    {
     "data": {
      "text/plain": [
       "(4576014, 12)"
      ]
     },
     "execution_count": 30,
     "metadata": {},
     "output_type": "execute_result"
    },
    {
     "data": {
      "text/html": [
       "<div>\n",
       "<style scoped>\n",
       "    .dataframe tbody tr th:only-of-type {\n",
       "        vertical-align: middle;\n",
       "    }\n",
       "\n",
       "    .dataframe tbody tr th {\n",
       "        vertical-align: top;\n",
       "    }\n",
       "\n",
       "    .dataframe thead th {\n",
       "        text-align: right;\n",
       "    }\n",
       "</style>\n",
       "<table border=\"1\" class=\"dataframe\">\n",
       "  <thead>\n",
       "    <tr style=\"text-align: right;\">\n",
       "      <th></th>\n",
       "      <th>latitude</th>\n",
       "      <th>longitude</th>\n",
       "      <th>year</th>\n",
       "      <th>month</th>\n",
       "      <th>fire_cnt</th>\n",
       "      <th>fire</th>\n",
       "      <th>fire_cnt_before</th>\n",
       "      <th>fire_before</th>\n",
       "      <th>fire_cnt_last_year</th>\n",
       "      <th>fire_last_year</th>\n",
       "      <th>fire_cnt_last_year_same_month</th>\n",
       "      <th>fire_last_year_same_month</th>\n",
       "    </tr>\n",
       "  </thead>\n",
       "  <tbody>\n",
       "    <tr>\n",
       "      <th>0</th>\n",
       "      <td>-40.0</td>\n",
       "      <td>143.9</td>\n",
       "      <td>2014</td>\n",
       "      <td>5</td>\n",
       "      <td>2</td>\n",
       "      <td>1</td>\n",
       "      <td>0.166667</td>\n",
       "      <td>0.083333</td>\n",
       "      <td>0.333333</td>\n",
       "      <td>0.083333</td>\n",
       "      <td>0</td>\n",
       "      <td>0</td>\n",
       "    </tr>\n",
       "    <tr>\n",
       "      <th>1</th>\n",
       "      <td>-40.0</td>\n",
       "      <td>143.9</td>\n",
       "      <td>2015</td>\n",
       "      <td>6</td>\n",
       "      <td>2</td>\n",
       "      <td>1</td>\n",
       "      <td>0.166667</td>\n",
       "      <td>0.083333</td>\n",
       "      <td>0.166667</td>\n",
       "      <td>0.083333</td>\n",
       "      <td>0</td>\n",
       "      <td>0</td>\n",
       "    </tr>\n",
       "    <tr>\n",
       "      <th>2</th>\n",
       "      <td>-40.0</td>\n",
       "      <td>143.9</td>\n",
       "      <td>2016</td>\n",
       "      <td>10</td>\n",
       "      <td>3</td>\n",
       "      <td>1</td>\n",
       "      <td>0.250000</td>\n",
       "      <td>0.083333</td>\n",
       "      <td>0.166667</td>\n",
       "      <td>0.083333</td>\n",
       "      <td>0</td>\n",
       "      <td>0</td>\n",
       "    </tr>\n",
       "    <tr>\n",
       "      <th>3</th>\n",
       "      <td>-40.0</td>\n",
       "      <td>143.9</td>\n",
       "      <td>2018</td>\n",
       "      <td>10</td>\n",
       "      <td>1</td>\n",
       "      <td>0</td>\n",
       "      <td>0.083333</td>\n",
       "      <td>0.000000</td>\n",
       "      <td>0.000000</td>\n",
       "      <td>0.000000</td>\n",
       "      <td>0</td>\n",
       "      <td>0</td>\n",
       "    </tr>\n",
       "    <tr>\n",
       "      <th>4</th>\n",
       "      <td>-40.0</td>\n",
       "      <td>143.9</td>\n",
       "      <td>2020</td>\n",
       "      <td>6</td>\n",
       "      <td>1</td>\n",
       "      <td>0</td>\n",
       "      <td>0.083333</td>\n",
       "      <td>0.000000</td>\n",
       "      <td>0.000000</td>\n",
       "      <td>0.000000</td>\n",
       "      <td>0</td>\n",
       "      <td>0</td>\n",
       "    </tr>\n",
       "  </tbody>\n",
       "</table>\n",
       "</div>"
      ],
      "text/plain": [
       "   latitude  longitude  year  month  fire_cnt  fire  fire_cnt_before  \\\n",
       "0     -40.0      143.9  2014      5         2     1         0.166667   \n",
       "1     -40.0      143.9  2015      6         2     1         0.166667   \n",
       "2     -40.0      143.9  2016     10         3     1         0.250000   \n",
       "3     -40.0      143.9  2018     10         1     0         0.083333   \n",
       "4     -40.0      143.9  2020      6         1     0         0.083333   \n",
       "\n",
       "   fire_before  fire_cnt_last_year  fire_last_year  \\\n",
       "0     0.083333            0.333333        0.083333   \n",
       "1     0.083333            0.166667        0.083333   \n",
       "2     0.083333            0.166667        0.083333   \n",
       "3     0.000000            0.000000        0.000000   \n",
       "4     0.000000            0.000000        0.000000   \n",
       "\n",
       "   fire_cnt_last_year_same_month  fire_last_year_same_month  \n",
       "0                              0                          0  \n",
       "1                              0                          0  \n",
       "2                              0                          0  \n",
       "3                              0                          0  \n",
       "4                              0                          0  "
      ]
     },
     "execution_count": 30,
     "metadata": {},
     "output_type": "execute_result"
    }
   ],
   "source": [
    "aus_fires = pd.read_csv(WORK_DIR + '/wildfiredataset/australia_fire_total_ready.csv')\n",
    "aus_fires.shape\n",
    "aus_fires.head()"
   ]
  },
  {
   "cell_type": "code",
   "execution_count": 31,
   "id": "3aa58407",
   "metadata": {
    "execution": {
     "iopub.execute_input": "2022-02-07T07:53:44.285650Z",
     "iopub.status.busy": "2022-02-07T07:53:44.283545Z",
     "iopub.status.idle": "2022-02-07T07:56:09.467953Z",
     "shell.execute_reply": "2022-02-07T07:56:09.468521Z",
     "shell.execute_reply.started": "2022-02-07T06:40:37.386039Z"
    },
    "papermill": {
     "duration": 145.301069,
     "end_time": "2022-02-07T07:56:09.468773",
     "exception": false,
     "start_time": "2022-02-07T07:53:44.167704",
     "status": "completed"
    },
    "tags": []
   },
   "outputs": [
    {
     "data": {
      "text/html": [
       "<div>\n",
       "<style scoped>\n",
       "    .dataframe tbody tr th:only-of-type {\n",
       "        vertical-align: middle;\n",
       "    }\n",
       "\n",
       "    .dataframe tbody tr th {\n",
       "        vertical-align: top;\n",
       "    }\n",
       "\n",
       "    .dataframe thead th {\n",
       "        text-align: right;\n",
       "    }\n",
       "</style>\n",
       "<table border=\"1\" class=\"dataframe\">\n",
       "  <thead>\n",
       "    <tr style=\"text-align: right;\">\n",
       "      <th></th>\n",
       "      <th>latitude</th>\n",
       "      <th>longitude</th>\n",
       "      <th>year</th>\n",
       "      <th>month</th>\n",
       "      <th>fire_cnt</th>\n",
       "      <th>fire</th>\n",
       "      <th>fire_cnt_before</th>\n",
       "      <th>fire_before</th>\n",
       "      <th>fire_cnt_last_year</th>\n",
       "      <th>fire_last_year</th>\n",
       "      <th>fire_cnt_last_year_same_month</th>\n",
       "      <th>fire_last_year_same_month</th>\n",
       "      <th>st_bin</th>\n",
       "    </tr>\n",
       "  </thead>\n",
       "  <tbody>\n",
       "    <tr>\n",
       "      <th>0</th>\n",
       "      <td>-40.0</td>\n",
       "      <td>143.9</td>\n",
       "      <td>2014</td>\n",
       "      <td>5</td>\n",
       "      <td>2</td>\n",
       "      <td>1</td>\n",
       "      <td>0.166667</td>\n",
       "      <td>0.083333</td>\n",
       "      <td>0.333333</td>\n",
       "      <td>0.083333</td>\n",
       "      <td>0</td>\n",
       "      <td>0</td>\n",
       "      <td>23,46</td>\n",
       "    </tr>\n",
       "    <tr>\n",
       "      <th>1</th>\n",
       "      <td>-40.0</td>\n",
       "      <td>143.9</td>\n",
       "      <td>2015</td>\n",
       "      <td>6</td>\n",
       "      <td>2</td>\n",
       "      <td>1</td>\n",
       "      <td>0.166667</td>\n",
       "      <td>0.083333</td>\n",
       "      <td>0.166667</td>\n",
       "      <td>0.083333</td>\n",
       "      <td>0</td>\n",
       "      <td>0</td>\n",
       "      <td>23,46</td>\n",
       "    </tr>\n",
       "    <tr>\n",
       "      <th>2</th>\n",
       "      <td>-40.0</td>\n",
       "      <td>143.9</td>\n",
       "      <td>2016</td>\n",
       "      <td>10</td>\n",
       "      <td>3</td>\n",
       "      <td>1</td>\n",
       "      <td>0.250000</td>\n",
       "      <td>0.083333</td>\n",
       "      <td>0.166667</td>\n",
       "      <td>0.083333</td>\n",
       "      <td>0</td>\n",
       "      <td>0</td>\n",
       "      <td>23,46</td>\n",
       "    </tr>\n",
       "    <tr>\n",
       "      <th>3</th>\n",
       "      <td>-40.0</td>\n",
       "      <td>143.9</td>\n",
       "      <td>2018</td>\n",
       "      <td>10</td>\n",
       "      <td>1</td>\n",
       "      <td>0</td>\n",
       "      <td>0.083333</td>\n",
       "      <td>0.000000</td>\n",
       "      <td>0.000000</td>\n",
       "      <td>0.000000</td>\n",
       "      <td>0</td>\n",
       "      <td>0</td>\n",
       "      <td>23,46</td>\n",
       "    </tr>\n",
       "    <tr>\n",
       "      <th>4</th>\n",
       "      <td>-40.0</td>\n",
       "      <td>143.9</td>\n",
       "      <td>2020</td>\n",
       "      <td>6</td>\n",
       "      <td>1</td>\n",
       "      <td>0</td>\n",
       "      <td>0.083333</td>\n",
       "      <td>0.000000</td>\n",
       "      <td>0.000000</td>\n",
       "      <td>0.000000</td>\n",
       "      <td>0</td>\n",
       "      <td>0</td>\n",
       "      <td>23,46</td>\n",
       "    </tr>\n",
       "  </tbody>\n",
       "</table>\n",
       "</div>"
      ],
      "text/plain": [
       "   latitude  longitude  year  month  fire_cnt  fire  fire_cnt_before  \\\n",
       "0     -40.0      143.9  2014      5         2     1         0.166667   \n",
       "1     -40.0      143.9  2015      6         2     1         0.166667   \n",
       "2     -40.0      143.9  2016     10         3     1         0.250000   \n",
       "3     -40.0      143.9  2018     10         1     0         0.083333   \n",
       "4     -40.0      143.9  2020      6         1     0         0.083333   \n",
       "\n",
       "   fire_before  fire_cnt_last_year  fire_last_year  \\\n",
       "0     0.083333            0.333333        0.083333   \n",
       "1     0.083333            0.166667        0.083333   \n",
       "2     0.083333            0.166667        0.083333   \n",
       "3     0.000000            0.000000        0.000000   \n",
       "4     0.000000            0.000000        0.000000   \n",
       "\n",
       "   fire_cnt_last_year_same_month  fire_last_year_same_month st_bin  \n",
       "0                              0                          0  23,46  \n",
       "1                              0                          0  23,46  \n",
       "2                              0                          0  23,46  \n",
       "3                              0                          0  23,46  \n",
       "4                              0                          0  23,46  "
      ]
     },
     "execution_count": 31,
     "metadata": {},
     "output_type": "execute_result"
    }
   ],
   "source": [
    "aus_fires['st_bin'] = aus_fires.apply(lambda x: detect_bin(x.latitude, x.longitude), axis=1)\n",
    "aus_fires.head()"
   ]
  },
  {
   "cell_type": "code",
   "execution_count": 32,
   "id": "51fd06a7",
   "metadata": {
    "execution": {
     "iopub.execute_input": "2022-02-07T07:56:09.694564Z",
     "iopub.status.busy": "2022-02-07T07:56:09.693857Z",
     "iopub.status.idle": "2022-02-07T07:56:10.181343Z",
     "shell.execute_reply": "2022-02-07T07:56:10.181873Z",
     "shell.execute_reply.started": "2022-02-07T06:42:11.376428Z"
    },
    "papermill": {
     "duration": 0.602551,
     "end_time": "2022-02-07T07:56:10.182085",
     "exception": false,
     "start_time": "2022-02-07T07:56:09.579534",
     "status": "completed"
    },
    "tags": []
   },
   "outputs": [
    {
     "data": {
      "text/plain": [
       "971"
      ]
     },
     "execution_count": 32,
     "metadata": {},
     "output_type": "execute_result"
    },
    {
     "name": "stdout",
     "output_type": "stream",
     "text": [
      "['23,46' '23,52' '23,51' '23,49' '23,50' '23,45' '22,45' '22,46' '22,49'\n",
      " '22,50']\n",
      "0\n",
      "Missing zones 827\n"
     ]
    },
    {
     "name": "stderr",
     "output_type": "stream",
     "text": [
      "100%|██████████| 971/971 [00:00<00:00, 289993.53it/s]"
     ]
    },
    {
     "name": "stdout",
     "output_type": "stream",
     "text": [
      "No weather stations 637\n"
     ]
    },
    {
     "name": "stderr",
     "output_type": "stream",
     "text": [
      "\n"
     ]
    }
   ],
   "source": [
    "fire_st_list = aus_fires['st_bin'].unique()\n",
    "len(fire_st_list)\n",
    "print(fire_st_list[:10])\n",
    "print(dict_w.get((31,33)))\n",
    "\n",
    "no_st = []\n",
    "ret = []\n",
    "for idx1, r in enumerate (rows):\n",
    "    for idx2, c in enumerate(cols):\n",
    "        dict_val = dict_w.get((idx1, idx2))\n",
    "        if dict_val == 0: # no station in this zone\n",
    "            no_st.append((idx1, idx2))\n",
    "\n",
    "        if f'{idx1},{idx2}' not in fire_st_list:\n",
    "            ret.append(f'{idx1},{idx2}')\n",
    "print('Missing zones', len(ret))\n",
    "\n",
    "need_st = []\n",
    "for st_b in tqdm(fire_st_list):\n",
    "    idx1, idx2 = st_b.split(',')\n",
    "    idx1 = int(idx1)\n",
    "    idx2 = int(idx2)\n",
    "    \n",
    "    dict_val = dict_w.get((idx1, idx2))\n",
    "    if dict_val == 0: # no station in this zone\n",
    "        need_st.append((idx1, idx2))\n",
    "\n",
    "\n",
    "print('No weather stations', len(need_st))"
   ]
  },
  {
   "cell_type": "markdown",
   "id": "0ef74b03",
   "metadata": {
    "papermill": {
     "duration": 0.115933,
     "end_time": "2022-02-07T07:56:10.411193",
     "exception": false,
     "start_time": "2022-02-07T07:56:10.295260",
     "status": "completed"
    },
    "tags": []
   },
   "source": [
    "### We are ready to save binned fire dataset"
   ]
  },
  {
   "cell_type": "code",
   "execution_count": 33,
   "id": "7145995d",
   "metadata": {
    "execution": {
     "iopub.execute_input": "2022-02-07T07:56:10.647175Z",
     "iopub.status.busy": "2022-02-07T07:56:10.646440Z",
     "iopub.status.idle": "2022-02-07T07:56:48.989252Z",
     "shell.execute_reply": "2022-02-07T07:56:48.989813Z",
     "shell.execute_reply.started": "2022-02-07T06:42:11.73953Z"
    },
    "papermill": {
     "duration": 38.465788,
     "end_time": "2022-02-07T07:56:48.990021",
     "exception": false,
     "start_time": "2022-02-07T07:56:10.524233",
     "status": "completed"
    },
    "tags": []
   },
   "outputs": [
    {
     "name": "stdout",
     "output_type": "stream",
     "text": [
      "Binned fire dataset saved\n"
     ]
    }
   ],
   "source": [
    "aus_fires.to_csv(\"aus_fires_binned.csv\", index=False)\n",
    "print('Binned fire dataset saved')"
   ]
  },
  {
   "cell_type": "markdown",
   "id": "64eecfb4",
   "metadata": {
    "papermill": {
     "duration": 0.11492,
     "end_time": "2022-02-07T07:56:49.221728",
     "exception": false,
     "start_time": "2022-02-07T07:56:49.106808",
     "status": "completed"
    },
    "tags": []
   },
   "source": [
    "### Find nearest weather stations for every fire record\n",
    "\n",
    "Use GeoPandas package for this task https://geopandas.org/en/stable/docs/reference/api/geopandas.sindex.SpatialIndex.nearest.html"
   ]
  },
  {
   "cell_type": "code",
   "execution_count": 34,
   "id": "b1787202",
   "metadata": {
    "execution": {
     "iopub.execute_input": "2022-02-07T07:56:49.458871Z",
     "iopub.status.busy": "2022-02-07T07:56:49.457770Z",
     "iopub.status.idle": "2022-02-07T07:56:49.475096Z",
     "shell.execute_reply": "2022-02-07T07:56:49.475705Z",
     "shell.execute_reply.started": "2022-02-07T07:00:51.153095Z"
    },
    "papermill": {
     "duration": 0.139638,
     "end_time": "2022-02-07T07:56:49.475907",
     "exception": false,
     "start_time": "2022-02-07T07:56:49.336269",
     "status": "completed"
    },
    "tags": []
   },
   "outputs": [
    {
     "data": {
      "text/plain": [
       "(42012, 12)"
      ]
     },
     "execution_count": 34,
     "metadata": {},
     "output_type": "execute_result"
    },
    {
     "data": {
      "text/html": [
       "<div>\n",
       "<style scoped>\n",
       "    .dataframe tbody tr th:only-of-type {\n",
       "        vertical-align: middle;\n",
       "    }\n",
       "\n",
       "    .dataframe tbody tr th {\n",
       "        vertical-align: top;\n",
       "    }\n",
       "\n",
       "    .dataframe thead th {\n",
       "        text-align: right;\n",
       "    }\n",
       "</style>\n",
       "<table border=\"1\" class=\"dataframe\">\n",
       "  <thead>\n",
       "    <tr style=\"text-align: right;\">\n",
       "      <th></th>\n",
       "      <th>STATION</th>\n",
       "      <th>LATITUDE</th>\n",
       "      <th>LONGITUDE</th>\n",
       "      <th>year</th>\n",
       "      <th>month</th>\n",
       "      <th>T_MAX</th>\n",
       "      <th>T_MAX_MEAN</th>\n",
       "      <th>T_MEAN</th>\n",
       "      <th>DEWP_MEAN</th>\n",
       "      <th>WDSP_MEAN</th>\n",
       "      <th>MXSPD_MAX</th>\n",
       "      <th>st_bin</th>\n",
       "    </tr>\n",
       "  </thead>\n",
       "  <tbody>\n",
       "    <tr>\n",
       "      <th>0</th>\n",
       "      <td>94100099999</td>\n",
       "      <td>-14.3</td>\n",
       "      <td>126.63</td>\n",
       "      <td>2013</td>\n",
       "      <td>1</td>\n",
       "      <td>98.2</td>\n",
       "      <td>92.912903</td>\n",
       "      <td>83.251613</td>\n",
       "      <td>73.677419</td>\n",
       "      <td>4.151613</td>\n",
       "      <td>15.9</td>\n",
       "      <td>4,21</td>\n",
       "    </tr>\n",
       "    <tr>\n",
       "      <th>78</th>\n",
       "      <td>94100099999</td>\n",
       "      <td>-14.3</td>\n",
       "      <td>126.63</td>\n",
       "      <td>2019</td>\n",
       "      <td>7</td>\n",
       "      <td>94.1</td>\n",
       "      <td>90.822581</td>\n",
       "      <td>73.174194</td>\n",
       "      <td>47.225806</td>\n",
       "      <td>4.209677</td>\n",
       "      <td>14.0</td>\n",
       "      <td>4,21</td>\n",
       "    </tr>\n",
       "    <tr>\n",
       "      <th>77</th>\n",
       "      <td>94100099999</td>\n",
       "      <td>-14.3</td>\n",
       "      <td>126.63</td>\n",
       "      <td>2019</td>\n",
       "      <td>6</td>\n",
       "      <td>95.0</td>\n",
       "      <td>88.550000</td>\n",
       "      <td>73.200000</td>\n",
       "      <td>45.390000</td>\n",
       "      <td>4.240000</td>\n",
       "      <td>12.0</td>\n",
       "      <td>4,21</td>\n",
       "    </tr>\n",
       "    <tr>\n",
       "      <th>76</th>\n",
       "      <td>94100099999</td>\n",
       "      <td>-14.3</td>\n",
       "      <td>126.63</td>\n",
       "      <td>2019</td>\n",
       "      <td>5</td>\n",
       "      <td>98.8</td>\n",
       "      <td>92.212903</td>\n",
       "      <td>76.674194</td>\n",
       "      <td>55.309677</td>\n",
       "      <td>4.029032</td>\n",
       "      <td>13.0</td>\n",
       "      <td>4,21</td>\n",
       "    </tr>\n",
       "    <tr>\n",
       "      <th>75</th>\n",
       "      <td>94100099999</td>\n",
       "      <td>-14.3</td>\n",
       "      <td>126.63</td>\n",
       "      <td>2019</td>\n",
       "      <td>4</td>\n",
       "      <td>97.5</td>\n",
       "      <td>93.663333</td>\n",
       "      <td>81.046667</td>\n",
       "      <td>67.276667</td>\n",
       "      <td>3.376667</td>\n",
       "      <td>15.0</td>\n",
       "      <td>4,21</td>\n",
       "    </tr>\n",
       "  </tbody>\n",
       "</table>\n",
       "</div>"
      ],
      "text/plain": [
       "        STATION  LATITUDE  LONGITUDE  year  month  T_MAX  T_MAX_MEAN  \\\n",
       "0   94100099999     -14.3     126.63  2013      1   98.2   92.912903   \n",
       "78  94100099999     -14.3     126.63  2019      7   94.1   90.822581   \n",
       "77  94100099999     -14.3     126.63  2019      6   95.0   88.550000   \n",
       "76  94100099999     -14.3     126.63  2019      5   98.8   92.212903   \n",
       "75  94100099999     -14.3     126.63  2019      4   97.5   93.663333   \n",
       "\n",
       "       T_MEAN  DEWP_MEAN  WDSP_MEAN  MXSPD_MAX st_bin  \n",
       "0   83.251613  73.677419   4.151613       15.9   4,21  \n",
       "78  73.174194  47.225806   4.209677       14.0   4,21  \n",
       "77  73.200000  45.390000   4.240000       12.0   4,21  \n",
       "76  76.674194  55.309677   4.029032       13.0   4,21  \n",
       "75  81.046667  67.276667   3.376667       15.0   4,21  "
      ]
     },
     "execution_count": 34,
     "metadata": {},
     "output_type": "execute_result"
    }
   ],
   "source": [
    "aus_wth_agg.shape\n",
    "aus_wth_agg.head()"
   ]
  },
  {
   "cell_type": "code",
   "execution_count": 35,
   "id": "3c503d5f",
   "metadata": {
    "execution": {
     "iopub.execute_input": "2022-02-07T07:56:49.709983Z",
     "iopub.status.busy": "2022-02-07T07:56:49.709249Z",
     "iopub.status.idle": "2022-02-07T07:56:49.722214Z",
     "shell.execute_reply": "2022-02-07T07:56:49.722801Z",
     "shell.execute_reply.started": "2022-02-07T07:19:36.228034Z"
    },
    "papermill": {
     "duration": 0.133541,
     "end_time": "2022-02-07T07:56:49.723003",
     "exception": false,
     "start_time": "2022-02-07T07:56:49.589462",
     "status": "completed"
    },
    "tags": []
   },
   "outputs": [
    {
     "data": {
      "text/plain": [
       "(389, 6)"
      ]
     },
     "execution_count": 35,
     "metadata": {},
     "output_type": "execute_result"
    },
    {
     "data": {
      "text/html": [
       "<div>\n",
       "<style scoped>\n",
       "    .dataframe tbody tr th:only-of-type {\n",
       "        vertical-align: middle;\n",
       "    }\n",
       "\n",
       "    .dataframe tbody tr th {\n",
       "        vertical-align: top;\n",
       "    }\n",
       "\n",
       "    .dataframe thead th {\n",
       "        text-align: right;\n",
       "    }\n",
       "</style>\n",
       "<table border=\"1\" class=\"dataframe\">\n",
       "  <thead>\n",
       "    <tr style=\"text-align: right;\">\n",
       "      <th></th>\n",
       "      <th>STAT_ID</th>\n",
       "      <th>STATION</th>\n",
       "      <th>LATITUDE</th>\n",
       "      <th>LONGITUDE</th>\n",
       "      <th>count</th>\n",
       "      <th>st_bin</th>\n",
       "    </tr>\n",
       "  </thead>\n",
       "  <tbody>\n",
       "    <tr>\n",
       "      <th>0</th>\n",
       "      <td>1</td>\n",
       "      <td>94100099999</td>\n",
       "      <td>-14.30</td>\n",
       "      <td>126.63</td>\n",
       "      <td>108</td>\n",
       "      <td>4,21</td>\n",
       "    </tr>\n",
       "    <tr>\n",
       "      <th>1</th>\n",
       "      <td>2</td>\n",
       "      <td>94102099999</td>\n",
       "      <td>-13.75</td>\n",
       "      <td>126.15</td>\n",
       "      <td>108</td>\n",
       "      <td>3,20</td>\n",
       "    </tr>\n",
       "    <tr>\n",
       "      <th>10</th>\n",
       "      <td>11</td>\n",
       "      <td>94119099999</td>\n",
       "      <td>-11.40</td>\n",
       "      <td>130.42</td>\n",
       "      <td>108</td>\n",
       "      <td>1,26</td>\n",
       "    </tr>\n",
       "  </tbody>\n",
       "</table>\n",
       "</div>"
      ],
      "text/plain": [
       "    STAT_ID      STATION  LATITUDE  LONGITUDE  count st_bin\n",
       "0         1  94100099999    -14.30     126.63    108   4,21\n",
       "1         2  94102099999    -13.75     126.15    108   3,20\n",
       "10       11  94119099999    -11.40     130.42    108   1,26"
      ]
     },
     "execution_count": 35,
     "metadata": {},
     "output_type": "execute_result"
    }
   ],
   "source": [
    "# weather stations\n",
    "st_cnt_sample.shape\n",
    "st_cnt_sample.head(3)"
   ]
  },
  {
   "cell_type": "code",
   "execution_count": 36,
   "id": "32b8e126",
   "metadata": {
    "execution": {
     "iopub.execute_input": "2022-02-07T07:56:49.992058Z",
     "iopub.status.busy": "2022-02-07T07:56:49.991260Z",
     "iopub.status.idle": "2022-02-07T07:56:52.504064Z",
     "shell.execute_reply": "2022-02-07T07:56:52.503375Z",
     "shell.execute_reply.started": "2022-02-07T07:47:24.649896Z"
    },
    "papermill": {
     "duration": 2.658258,
     "end_time": "2022-02-07T07:56:52.504244",
     "exception": false,
     "start_time": "2022-02-07T07:56:49.845986",
     "status": "completed"
    },
    "tags": []
   },
   "outputs": [
    {
     "name": "stdout",
     "output_type": "stream",
     "text": [
      "CPU times: user 2.43 s, sys: 1.89 ms, total: 2.43 s\n",
      "Wall time: 2.49 s\n"
     ]
    },
    {
     "data": {
      "text/html": [
       "<div>\n",
       "<style scoped>\n",
       "    .dataframe tbody tr th:only-of-type {\n",
       "        vertical-align: middle;\n",
       "    }\n",
       "\n",
       "    .dataframe tbody tr th {\n",
       "        vertical-align: top;\n",
       "    }\n",
       "\n",
       "    .dataframe thead th {\n",
       "        text-align: right;\n",
       "    }\n",
       "</style>\n",
       "<table border=\"1\" class=\"dataframe\">\n",
       "  <thead>\n",
       "    <tr style=\"text-align: right;\">\n",
       "      <th></th>\n",
       "      <th>STATION</th>\n",
       "      <th>LATITUDE</th>\n",
       "      <th>LONGITUDE</th>\n",
       "      <th>year</th>\n",
       "      <th>month</th>\n",
       "      <th>T_MAX</th>\n",
       "      <th>T_MAX_MEAN</th>\n",
       "      <th>T_MEAN</th>\n",
       "      <th>DEWP_MEAN</th>\n",
       "      <th>WDSP_MEAN</th>\n",
       "      <th>MXSPD_MAX</th>\n",
       "      <th>st_bin</th>\n",
       "      <th>geometry</th>\n",
       "    </tr>\n",
       "  </thead>\n",
       "  <tbody>\n",
       "    <tr>\n",
       "      <th>0</th>\n",
       "      <td>94100099999</td>\n",
       "      <td>-14.3</td>\n",
       "      <td>126.63</td>\n",
       "      <td>2013</td>\n",
       "      <td>1</td>\n",
       "      <td>98.2</td>\n",
       "      <td>92.912903</td>\n",
       "      <td>83.251613</td>\n",
       "      <td>73.677419</td>\n",
       "      <td>4.151613</td>\n",
       "      <td>15.9</td>\n",
       "      <td>4,21</td>\n",
       "      <td>POINT (126.63000 -14.30000)</td>\n",
       "    </tr>\n",
       "    <tr>\n",
       "      <th>78</th>\n",
       "      <td>94100099999</td>\n",
       "      <td>-14.3</td>\n",
       "      <td>126.63</td>\n",
       "      <td>2019</td>\n",
       "      <td>7</td>\n",
       "      <td>94.1</td>\n",
       "      <td>90.822581</td>\n",
       "      <td>73.174194</td>\n",
       "      <td>47.225806</td>\n",
       "      <td>4.209677</td>\n",
       "      <td>14.0</td>\n",
       "      <td>4,21</td>\n",
       "      <td>POINT (126.63000 -14.30000)</td>\n",
       "    </tr>\n",
       "    <tr>\n",
       "      <th>77</th>\n",
       "      <td>94100099999</td>\n",
       "      <td>-14.3</td>\n",
       "      <td>126.63</td>\n",
       "      <td>2019</td>\n",
       "      <td>6</td>\n",
       "      <td>95.0</td>\n",
       "      <td>88.550000</td>\n",
       "      <td>73.200000</td>\n",
       "      <td>45.390000</td>\n",
       "      <td>4.240000</td>\n",
       "      <td>12.0</td>\n",
       "      <td>4,21</td>\n",
       "      <td>POINT (126.63000 -14.30000)</td>\n",
       "    </tr>\n",
       "  </tbody>\n",
       "</table>\n",
       "</div>"
      ],
      "text/plain": [
       "        STATION  LATITUDE  LONGITUDE  year  month  T_MAX  T_MAX_MEAN  \\\n",
       "0   94100099999     -14.3     126.63  2013      1   98.2   92.912903   \n",
       "78  94100099999     -14.3     126.63  2019      7   94.1   90.822581   \n",
       "77  94100099999     -14.3     126.63  2019      6   95.0   88.550000   \n",
       "\n",
       "       T_MEAN  DEWP_MEAN  WDSP_MEAN  MXSPD_MAX st_bin  \\\n",
       "0   83.251613  73.677419   4.151613       15.9   4,21   \n",
       "78  73.174194  47.225806   4.209677       14.0   4,21   \n",
       "77  73.200000  45.390000   4.240000       12.0   4,21   \n",
       "\n",
       "                       geometry  \n",
       "0   POINT (126.63000 -14.30000)  \n",
       "78  POINT (126.63000 -14.30000)  \n",
       "77  POINT (126.63000 -14.30000)  "
      ]
     },
     "execution_count": 36,
     "metadata": {},
     "output_type": "execute_result"
    }
   ],
   "source": [
    "%%time\n",
    "\n",
    "import geopandas as gpd\n",
    "from shapely.geometry import Point\n",
    "from shapely.ops import nearest_points\n",
    "\n",
    "geometry = [Point(xy) for xy in zip(aus_wth_agg.LONGITUDE, aus_wth_agg.LATITUDE)]\n",
    "gdf = gpd.GeoDataFrame(aus_wth_agg, crs=\"EPSG:4326\", geometry=geometry)\n",
    "gdf.head(3)"
   ]
  },
  {
   "cell_type": "code",
   "execution_count": 37,
   "id": "f62e4be5",
   "metadata": {
    "execution": {
     "iopub.execute_input": "2022-02-07T07:56:52.818566Z",
     "iopub.status.busy": "2022-02-07T07:56:52.817268Z",
     "iopub.status.idle": "2022-02-07T08:14:00.994961Z",
     "shell.execute_reply": "2022-02-07T08:14:00.994293Z",
     "shell.execute_reply.started": "2022-02-07T07:52:04.914313Z"
    },
    "papermill": {
     "duration": 1028.372112,
     "end_time": "2022-02-07T08:14:00.995157",
     "exception": false,
     "start_time": "2022-02-07T07:56:52.623045",
     "status": "completed"
    },
    "tags": []
   },
   "outputs": [
    {
     "name": "stderr",
     "output_type": "stream",
     "text": [
      "4576014it [17:08, 4450.85it/s]\n"
     ]
    },
    {
     "data": {
      "text/html": [
       "<div>\n",
       "<style scoped>\n",
       "    .dataframe tbody tr th:only-of-type {\n",
       "        vertical-align: middle;\n",
       "    }\n",
       "\n",
       "    .dataframe tbody tr th {\n",
       "        vertical-align: top;\n",
       "    }\n",
       "\n",
       "    .dataframe thead th {\n",
       "        text-align: right;\n",
       "    }\n",
       "</style>\n",
       "<table border=\"1\" class=\"dataframe\">\n",
       "  <thead>\n",
       "    <tr style=\"text-align: right;\">\n",
       "      <th></th>\n",
       "      <th>latitude</th>\n",
       "      <th>longitude</th>\n",
       "      <th>year</th>\n",
       "      <th>month</th>\n",
       "      <th>fire_cnt</th>\n",
       "      <th>fire</th>\n",
       "      <th>fire_cnt_before</th>\n",
       "      <th>fire_before</th>\n",
       "      <th>fire_cnt_last_year</th>\n",
       "      <th>fire_last_year</th>\n",
       "      <th>fire_cnt_last_year_same_month</th>\n",
       "      <th>fire_last_year_same_month</th>\n",
       "      <th>st_bin</th>\n",
       "      <th>nearest_geometry</th>\n",
       "    </tr>\n",
       "  </thead>\n",
       "  <tbody>\n",
       "    <tr>\n",
       "      <th>0</th>\n",
       "      <td>-40.0</td>\n",
       "      <td>143.9</td>\n",
       "      <td>2014</td>\n",
       "      <td>5</td>\n",
       "      <td>2</td>\n",
       "      <td>1</td>\n",
       "      <td>0.166667</td>\n",
       "      <td>0.083333</td>\n",
       "      <td>0.333333</td>\n",
       "      <td>0.083333</td>\n",
       "      <td>0</td>\n",
       "      <td>0</td>\n",
       "      <td>23,46</td>\n",
       "      <td>POINT (143.88 -39.88)</td>\n",
       "    </tr>\n",
       "    <tr>\n",
       "      <th>1</th>\n",
       "      <td>-40.0</td>\n",
       "      <td>143.9</td>\n",
       "      <td>2015</td>\n",
       "      <td>6</td>\n",
       "      <td>2</td>\n",
       "      <td>1</td>\n",
       "      <td>0.166667</td>\n",
       "      <td>0.083333</td>\n",
       "      <td>0.166667</td>\n",
       "      <td>0.083333</td>\n",
       "      <td>0</td>\n",
       "      <td>0</td>\n",
       "      <td>23,46</td>\n",
       "      <td>POINT (143.88 -39.88)</td>\n",
       "    </tr>\n",
       "    <tr>\n",
       "      <th>2</th>\n",
       "      <td>-40.0</td>\n",
       "      <td>143.9</td>\n",
       "      <td>2016</td>\n",
       "      <td>10</td>\n",
       "      <td>3</td>\n",
       "      <td>1</td>\n",
       "      <td>0.250000</td>\n",
       "      <td>0.083333</td>\n",
       "      <td>0.166667</td>\n",
       "      <td>0.083333</td>\n",
       "      <td>0</td>\n",
       "      <td>0</td>\n",
       "      <td>23,46</td>\n",
       "      <td>POINT (143.88 -39.88)</td>\n",
       "    </tr>\n",
       "    <tr>\n",
       "      <th>3</th>\n",
       "      <td>-40.0</td>\n",
       "      <td>143.9</td>\n",
       "      <td>2018</td>\n",
       "      <td>10</td>\n",
       "      <td>1</td>\n",
       "      <td>0</td>\n",
       "      <td>0.083333</td>\n",
       "      <td>0.000000</td>\n",
       "      <td>0.000000</td>\n",
       "      <td>0.000000</td>\n",
       "      <td>0</td>\n",
       "      <td>0</td>\n",
       "      <td>23,46</td>\n",
       "      <td>POINT (143.88 -39.88)</td>\n",
       "    </tr>\n",
       "    <tr>\n",
       "      <th>4</th>\n",
       "      <td>-40.0</td>\n",
       "      <td>143.9</td>\n",
       "      <td>2020</td>\n",
       "      <td>6</td>\n",
       "      <td>1</td>\n",
       "      <td>0</td>\n",
       "      <td>0.083333</td>\n",
       "      <td>0.000000</td>\n",
       "      <td>0.000000</td>\n",
       "      <td>0.000000</td>\n",
       "      <td>0</td>\n",
       "      <td>0</td>\n",
       "      <td>23,46</td>\n",
       "      <td>POINT (143.88 -39.88)</td>\n",
       "    </tr>\n",
       "  </tbody>\n",
       "</table>\n",
       "</div>"
      ],
      "text/plain": [
       "   latitude  longitude  year  month  fire_cnt  fire  fire_cnt_before  \\\n",
       "0     -40.0      143.9  2014      5         2     1         0.166667   \n",
       "1     -40.0      143.9  2015      6         2     1         0.166667   \n",
       "2     -40.0      143.9  2016     10         3     1         0.250000   \n",
       "3     -40.0      143.9  2018     10         1     0         0.083333   \n",
       "4     -40.0      143.9  2020      6         1     0         0.083333   \n",
       "\n",
       "   fire_before  fire_cnt_last_year  fire_last_year  \\\n",
       "0     0.083333            0.333333        0.083333   \n",
       "1     0.083333            0.166667        0.083333   \n",
       "2     0.083333            0.166667        0.083333   \n",
       "3     0.000000            0.000000        0.000000   \n",
       "4     0.000000            0.000000        0.000000   \n",
       "\n",
       "   fire_cnt_last_year_same_month  fire_last_year_same_month st_bin  \\\n",
       "0                              0                          0  23,46   \n",
       "1                              0                          0  23,46   \n",
       "2                              0                          0  23,46   \n",
       "3                              0                          0  23,46   \n",
       "4                              0                          0  23,46   \n",
       "\n",
       "        nearest_geometry  \n",
       "0  POINT (143.88 -39.88)  \n",
       "1  POINT (143.88 -39.88)  \n",
       "2  POINT (143.88 -39.88)  \n",
       "3  POINT (143.88 -39.88)  \n",
       "4  POINT (143.88 -39.88)  "
      ]
     },
     "execution_count": 37,
     "metadata": {},
     "output_type": "execute_result"
    }
   ],
   "source": [
    "# calculate nearest stations for each station\n",
    "aus_fires['nearest_geometry'] = None\n",
    "\n",
    "multipoint = gdf.geometry.unary_union\n",
    "\n",
    "for index, row in tqdm(aus_fires.iterrows()):\n",
    "    point = Point(row.longitude, row.latitude)\n",
    "    queried_geom, nearest_geom = nearest_points(point, multipoint)\n",
    "    aus_fires.at[index, 'nearest_geometry'] = nearest_geom\n",
    "\n",
    "aus_fires.head()"
   ]
  },
  {
   "cell_type": "markdown",
   "id": "319f477a",
   "metadata": {
    "papermill": {
     "duration": 3.258397,
     "end_time": "2022-02-07T08:14:07.607516",
     "exception": false,
     "start_time": "2022-02-07T08:14:04.349119",
     "status": "completed"
    },
    "tags": []
   },
   "source": [
    "### Save a dataset of fire records with information about weather stations"
   ]
  },
  {
   "cell_type": "code",
   "execution_count": 38,
   "id": "2cd0d178",
   "metadata": {
    "execution": {
     "iopub.execute_input": "2022-02-07T08:14:14.324764Z",
     "iopub.status.busy": "2022-02-07T08:14:14.319139Z",
     "iopub.status.idle": "2022-02-07T08:16:55.962914Z",
     "shell.execute_reply": "2022-02-07T08:16:55.963460Z",
     "shell.execute_reply.started": "2022-02-07T06:42:38.812254Z"
    },
    "papermill": {
     "duration": 165.097755,
     "end_time": "2022-02-07T08:16:55.963688",
     "exception": false,
     "start_time": "2022-02-07T08:14:10.865933",
     "status": "completed"
    },
    "tags": []
   },
   "outputs": [
    {
     "name": "stdout",
     "output_type": "stream",
     "text": [
      "Fire binned geometry data saved\n"
     ]
    }
   ],
   "source": [
    "aus_fires.to_csv(\"aus_fires_binned_geometry.csv\", index=False)\n",
    "print('Fire binned geometry data saved')"
   ]
  }
 ],
 "metadata": {
  "kernelspec": {
   "display_name": "Python 3",
   "language": "python",
   "name": "python3"
  },
  "language_info": {
   "codemirror_mode": {
    "name": "ipython",
    "version": 3
   },
   "file_extension": ".py",
   "mimetype": "text/x-python",
   "name": "python",
   "nbconvert_exporter": "python",
   "pygments_lexer": "ipython3",
   "version": "3.7.12"
  },
  "papermill": {
   "default_parameters": {},
   "duration": 1451.851919,
   "end_time": "2022-02-07T08:17:01.919288",
   "environment_variables": {},
   "exception": null,
   "input_path": "__notebook__.ipynb",
   "output_path": "__notebook__.ipynb",
   "parameters": {},
   "start_time": "2022-02-07T07:52:50.067369",
   "version": "2.3.3"
  }
 },
 "nbformat": 4,
 "nbformat_minor": 5
}
