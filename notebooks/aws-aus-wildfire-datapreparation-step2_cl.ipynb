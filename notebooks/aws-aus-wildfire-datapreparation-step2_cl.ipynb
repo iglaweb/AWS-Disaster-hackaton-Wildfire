{
 "cells": [
  {
   "cell_type": "markdown",
   "id": "7ff828bf",
   "metadata": {
    "papermill": {
     "duration": 0.008096,
     "end_time": "2022-02-07T06:14:21.927315",
     "exception": false,
     "start_time": "2022-02-07T06:14:21.919219",
     "status": "completed"
    },
    "tags": []
   },
   "source": [
    "# Extract fire daily data for Australia"
   ]
  },
  {
   "cell_type": "markdown",
   "id": "78f9527a",
   "metadata": {
    "papermill": {
     "duration": 0.008299,
     "end_time": "2022-02-07T06:14:21.943173",
     "exception": false,
     "start_time": "2022-02-07T06:14:21.934874",
     "status": "completed"
    },
    "tags": []
   },
   "source": [
    "# 📚 Import Libraries"
   ]
  },
  {
   "cell_type": "code",
   "execution_count": 1,
   "id": "8a4b4977",
   "metadata": {
    "execution": {
     "iopub.execute_input": "2022-02-07T06:14:21.963127Z",
     "iopub.status.busy": "2022-02-07T06:14:21.961993Z",
     "iopub.status.idle": "2022-02-07T06:14:21.973367Z",
     "shell.execute_reply": "2022-02-07T06:14:21.973872Z",
     "shell.execute_reply.started": "2022-02-07T06:07:41.932050Z"
    },
    "papermill": {
     "duration": 0.0225,
     "end_time": "2022-02-07T06:14:21.974154",
     "exception": false,
     "start_time": "2022-02-07T06:14:21.951654",
     "status": "completed"
    },
    "tags": []
   },
   "outputs": [],
   "source": [
    "%matplotlib inline\n",
    "import pandas as pd\n",
    "import numpy as np\n",
    "from IPython.core.interactiveshell import InteractiveShell\n",
    "import random\n",
    "InteractiveShell.ast_node_interactivity = \"all\"\n",
    "import os\n",
    "from datetime import datetime\n",
    "import glob\n",
    "from tqdm import tqdm"
   ]
  },
  {
   "cell_type": "code",
   "execution_count": 2,
   "id": "6667af0d",
   "metadata": {
    "execution": {
     "iopub.execute_input": "2022-02-07T06:14:21.993304Z",
     "iopub.status.busy": "2022-02-07T06:14:21.992655Z",
     "iopub.status.idle": "2022-02-07T06:16:29.958627Z",
     "shell.execute_reply": "2022-02-07T06:16:29.958066Z"
    },
    "papermill": {
     "duration": 127.977632,
     "end_time": "2022-02-07T06:16:29.958782",
     "exception": false,
     "start_time": "2022-02-07T06:14:21.981150",
     "status": "completed"
    },
    "tags": []
   },
   "outputs": [
    {
     "data": {
      "text/plain": [
       "(130591444, 6)"
      ]
     },
     "execution_count": 2,
     "metadata": {},
     "output_type": "execute_result"
    },
    {
     "data": {
      "text/html": [
       "<div>\n",
       "<style scoped>\n",
       "    .dataframe tbody tr th:only-of-type {\n",
       "        vertical-align: middle;\n",
       "    }\n",
       "\n",
       "    .dataframe tbody tr th {\n",
       "        vertical-align: top;\n",
       "    }\n",
       "\n",
       "    .dataframe thead th {\n",
       "        text-align: right;\n",
       "    }\n",
       "</style>\n",
       "<table border=\"1\" class=\"dataframe\">\n",
       "  <thead>\n",
       "    <tr style=\"text-align: right;\">\n",
       "      <th></th>\n",
       "      <th>latitude</th>\n",
       "      <th>longitude</th>\n",
       "      <th>acq_date</th>\n",
       "      <th>satellite</th>\n",
       "      <th>instrument</th>\n",
       "      <th>confidence</th>\n",
       "    </tr>\n",
       "  </thead>\n",
       "  <tbody>\n",
       "    <tr>\n",
       "      <th>0</th>\n",
       "      <td>-88.29</td>\n",
       "      <td>-168.86</td>\n",
       "      <td>2016-04-26</td>\n",
       "      <td>N</td>\n",
       "      <td>VIIRS</td>\n",
       "      <td>50</td>\n",
       "    </tr>\n",
       "    <tr>\n",
       "      <th>1</th>\n",
       "      <td>-87.72</td>\n",
       "      <td>2.74</td>\n",
       "      <td>2016-08-10</td>\n",
       "      <td>N</td>\n",
       "      <td>VIIRS</td>\n",
       "      <td>50</td>\n",
       "    </tr>\n",
       "    <tr>\n",
       "      <th>2</th>\n",
       "      <td>-86.57</td>\n",
       "      <td>-163.59</td>\n",
       "      <td>2016-08-19</td>\n",
       "      <td>N</td>\n",
       "      <td>VIIRS</td>\n",
       "      <td>100</td>\n",
       "    </tr>\n",
       "    <tr>\n",
       "      <th>3</th>\n",
       "      <td>-86.40</td>\n",
       "      <td>12.70</td>\n",
       "      <td>2016-05-26</td>\n",
       "      <td>N</td>\n",
       "      <td>VIIRS</td>\n",
       "      <td>100</td>\n",
       "    </tr>\n",
       "    <tr>\n",
       "      <th>4</th>\n",
       "      <td>-86.17</td>\n",
       "      <td>14.23</td>\n",
       "      <td>2016-09-27</td>\n",
       "      <td>N</td>\n",
       "      <td>VIIRS</td>\n",
       "      <td>50</td>\n",
       "    </tr>\n",
       "  </tbody>\n",
       "</table>\n",
       "</div>"
      ],
      "text/plain": [
       "   latitude  longitude    acq_date satellite instrument  confidence\n",
       "0    -88.29    -168.86  2016-04-26         N      VIIRS          50\n",
       "1    -87.72       2.74  2016-08-10         N      VIIRS          50\n",
       "2    -86.57    -163.59  2016-08-19         N      VIIRS         100\n",
       "3    -86.40      12.70  2016-05-26         N      VIIRS         100\n",
       "4    -86.17      14.23  2016-09-27         N      VIIRS          50"
      ]
     },
     "execution_count": 2,
     "metadata": {},
     "output_type": "execute_result"
    }
   ],
   "source": [
    "WORK_DIR = './'\n",
    "FIRMS_FIRE_DAILY = WORK_DIR + '/wildfire-custom-dataset/firms_fire_daily.csv'\n",
    "full_dataset = pd.read_csv(FIRMS_FIRE_DAILY)\n",
    "full_dataset.shape\n",
    "full_dataset.head()"
   ]
  },
  {
   "cell_type": "markdown",
   "id": "d6e34066",
   "metadata": {
    "papermill": {
     "duration": 0.007728,
     "end_time": "2022-02-07T06:16:29.974511",
     "exception": false,
     "start_time": "2022-02-07T06:16:29.966783",
     "status": "completed"
    },
    "tags": []
   },
   "source": [
    "#### Use coordinate ranges for latitude and longitude belonging to Australia"
   ]
  },
  {
   "cell_type": "code",
   "execution_count": 3,
   "id": "46f798ea",
   "metadata": {
    "execution": {
     "iopub.execute_input": "2022-02-07T06:16:29.993471Z",
     "iopub.status.busy": "2022-02-07T06:16:29.992859Z",
     "iopub.status.idle": "2022-02-07T06:16:29.995815Z",
     "shell.execute_reply": "2022-02-07T06:16:29.996280Z",
     "shell.execute_reply.started": "2022-02-07T06:10:04.029003Z"
    },
    "papermill": {
     "duration": 0.01411,
     "end_time": "2022-02-07T06:16:29.996448",
     "exception": false,
     "start_time": "2022-02-07T06:16:29.982338",
     "status": "completed"
    },
    "tags": []
   },
   "outputs": [],
   "source": [
    "AUS_LAT_RANGE = (-40, -9)\n",
    "AUS_LON_RANGE = (112, 155)"
   ]
  },
  {
   "cell_type": "code",
   "execution_count": 4,
   "id": "c0e3c81f",
   "metadata": {
    "execution": {
     "iopub.execute_input": "2022-02-07T06:16:30.020662Z",
     "iopub.status.busy": "2022-02-07T06:16:30.019987Z",
     "iopub.status.idle": "2022-02-07T06:16:33.730870Z",
     "shell.execute_reply": "2022-02-07T06:16:33.731324Z",
     "shell.execute_reply.started": "2022-02-07T06:10:04.036926Z"
    },
    "papermill": {
     "duration": 3.727206,
     "end_time": "2022-02-07T06:16:33.731510",
     "exception": false,
     "start_time": "2022-02-07T06:16:30.004304",
     "status": "completed"
    },
    "tags": []
   },
   "outputs": [
    {
     "data": {
      "text/plain": [
       "(5801066, 6)"
      ]
     },
     "execution_count": 4,
     "metadata": {},
     "output_type": "execute_result"
    }
   ],
   "source": [
    "aus = full_dataset[\n",
    "        (full_dataset.latitude > AUS_LAT_RANGE[0]) & (full_dataset.latitude < AUS_LAT_RANGE[1])]\n",
    "aus = aus[\n",
    "    (aus.longitude > AUS_LON_RANGE[0]) & (aus.longitude < AUS_LON_RANGE[1])]\n",
    "aus.shape"
   ]
  },
  {
   "cell_type": "markdown",
   "id": "0c4be08f",
   "metadata": {
    "papermill": {
     "duration": 0.008622,
     "end_time": "2022-02-07T06:16:33.748434",
     "exception": false,
     "start_time": "2022-02-07T06:16:33.739812",
     "status": "completed"
    },
    "tags": []
   },
   "source": [
    "### Australia fire dataset is ready!"
   ]
  },
  {
   "cell_type": "code",
   "execution_count": 5,
   "id": "f62cb632",
   "metadata": {
    "execution": {
     "iopub.execute_input": "2022-02-07T06:16:33.770465Z",
     "iopub.status.busy": "2022-02-07T06:16:33.769784Z",
     "iopub.status.idle": "2022-02-07T06:17:59.560537Z",
     "shell.execute_reply": "2022-02-07T06:17:59.561043Z",
     "shell.execute_reply.started": "2022-02-07T06:10:08.890631Z"
    },
    "papermill": {
     "duration": 85.804434,
     "end_time": "2022-02-07T06:17:59.561243",
     "exception": false,
     "start_time": "2022-02-07T06:16:33.756809",
     "status": "completed"
    },
    "tags": []
   },
   "outputs": [],
   "source": [
    "aus.to_csv('australia_fire_daily.csv.gz', index=False, compression='gzip')"
   ]
  }
 ],
 "metadata": {
  "kernelspec": {
   "display_name": "Python 3",
   "language": "python",
   "name": "python3"
  },
  "language_info": {
   "codemirror_mode": {
    "name": "ipython",
    "version": 3
   },
   "file_extension": ".py",
   "mimetype": "text/x-python",
   "name": "python",
   "nbconvert_exporter": "python",
   "pygments_lexer": "ipython3",
   "version": "3.7.12"
  },
  "papermill": {
   "default_parameters": {},
   "duration": 229.276671,
   "end_time": "2022-02-07T06:18:01.487766",
   "environment_variables": {},
   "exception": null,
   "input_path": "__notebook__.ipynb",
   "output_path": "__notebook__.ipynb",
   "parameters": {},
   "start_time": "2022-02-07T06:14:12.211095",
   "version": "2.3.3"
  }
 },
 "nbformat": 4,
 "nbformat_minor": 5
}
